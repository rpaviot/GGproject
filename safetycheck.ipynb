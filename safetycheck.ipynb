{
 "cells": [
  {
   "cell_type": "code",
   "execution_count": 2,
   "id": "0261a193-e5f7-434d-9f34-6b020d6e10ff",
   "metadata": {},
   "outputs": [],
   "source": [
    "import sys\n",
    "##sys.path.append('/feynman/home/dap/lceg/rp269101/.local/lib/python3.6/site-packages')\n",
    "##sys.path.append('/usr/lib64/python3.6/site-packages')\n",
    "import pandas as pd\n",
    "import numpy as np\n",
    "import matplotlib.pyplot as plt\n",
    "import dask.dataframe as dd\n",
    "from random import randint\n",
    "from astropy.io import fits,ascii\n",
    "from astropy.table import Table\n",
    "from astropy.cosmology import FlatLambdaCDM\n",
    "from scipy.special import erfc,erf\n",
    "#from mpmath import erf\n",
    "import dask\n",
    "from scipy.integrate import simps\n",
    "pd.options.mode.chained_assignment = None\n",
    "from astropy.cosmology import FlatLambdaCDM\n",
    "import functools\n",
    "import os\n",
    "from astropy.cosmology import z_at_value\n",
    "import astropy.units as u\n",
    "import random\n",
    "p = 0.01  \n",
    "from astropy.constants import M_sun,pc"
   ]
  },
  {
   "cell_type": "code",
   "execution_count": 3,
   "id": "848e5b81-863e-45f4-8142-f604e873e082",
   "metadata": {},
   "outputs": [],
   "source": [
    "cosmo= FlatLambdaCDM(Om0=0.3089,H0=100)\n",
    "\n",
    "def nzandveff(z_,gal_,dz,area):\n",
    "    v=(round(min(z_),2))\n",
    "    q=(round(max(z_),2))\n",
    "    n = round((q - v)/dz + 1,2)\n",
    "#    print(n)\n",
    "    shell = np.linspace(v,q,int(n))\n",
    " #   print(shell)\n",
    "    edges = zeros(len(shell)-1)\n",
    "    dr  = zeros(len(shell) - 1)\n",
    "    for i in range(0,len(edges)):\n",
    "        edges[i] =(shell[i] + shell[i+1])/2\n",
    "        dr[i] = (cosmo.comoving_distance(shell[i+1]).value - cosmo.comoving_distance(shell[i]).value) \n",
    "    nz,_,_ = stats.binned_statistic(z_,gal_, statistic='sum', bins=shell)\n",
    "    n_z = nz/(4*pi*cosmo.comoving_distance(edges).value**2*dr*(area/41253))\n",
    "    Veff = sum(((n_z*20000)/(1.+n_z*20000))**2*volumes)\n",
    "    return edges,nz,n_z,Veff/10**9,dr\n"
   ]
  },
  {
   "cell_type": "code",
   "execution_count": 4,
   "id": "4c0638d2-ec29-4759-a0d0-fed1d70c3151",
   "metadata": {},
   "outputs": [],
   "source": [
    "path = \"/Volumes/LaCie/lightcone2_wide/\"\n",
    "files = os.listdir(path)\n",
    "\n",
    "for i in range(10,11):\n",
    "    \n",
    "    df = pd.read_parquet(path+files[i])\n",
    "    df = df[df.M200C > 1e10]\n",
    "    \n",
    "df1 = df.sample(frac=0.001, replace=True, random_state=1)\n",
    "df2 = df.sample(frac=0.1, replace=True, random_state=1)"
   ]
  },
  {
   "cell_type": "code",
   "execution_count": 5,
   "id": "17bdec8c-60ef-450c-b781-6b0cca2dfb36",
   "metadata": {},
   "outputs": [],
   "source": [
    "ra = df1.RA.values\n",
    "dec = df1.DEC.values\n",
    "Dc= df1.Rcom.values\n",
    "M200 = df1.M200C.values\n",
    "Rvir = df1.RVIR.values\n",
    "\n",
    "z = z_at_value(cosmo.comoving_distance,Dc*u.Mpc).value"
   ]
  },
  {
   "cell_type": "code",
   "execution_count": 6,
   "id": "85a0f587-f784-4984-9df6-1a9ce01ed926",
   "metadata": {},
   "outputs": [
    {
     "data": {
      "text/plain": [
       "(array([2303., 2235., 2218., 2355., 2335., 2506., 2391., 2463., 2474.,\n",
       "        2417.]),\n",
       " array([0.65264815, 0.6600361 , 0.667424  , 0.6748119 , 0.68219984,\n",
       "        0.6895878 , 0.6969757 , 0.70436364, 0.7117515 , 0.71913946,\n",
       "        0.7265274 ], dtype=float32),\n",
       " <BarContainer object of 10 artists>)"
      ]
     },
     "execution_count": 6,
     "metadata": {},
     "output_type": "execute_result"
    },
    {
     "data": {
      "image/png": "[encoded data removed]",
      "text/plain": [
       "<Figure size 432x288 with 1 Axes>"
      ]
     },
     "metadata": {
      "needs_background": "light"
     },
     "output_type": "display_data"
    }
   ],
   "source": [
    "plt.hist(z)"
   ]
  },
  {
   "cell_type": "code",
   "execution_count": 186,
   "id": "9239a5f2-d4d1-4f98-ba4c-95c174ffbaec",
   "metadata": {},
   "outputs": [],
   "source": [
    "conversion = (pc.value*1e2)**3/(M_sun.value*1e3)\n",
    "\n",
    "Omz = cosmo.Om(z)\n",
    "rhocrit = cosmo.critical_density(z).value\n",
    "deltavir = 18*np.pi**2 + 82*(1-Omz) - 39*(1-Omz)**2\n",
    "Mvir = (4./3.)*np.pi*(Rvir*1e3)**3*deltavir*rhocrit*conversion*(0.6774)**(4)\n",
    "#Deltavir = "
   ]
  },
  {
   "cell_type": "code",
   "execution_count": 197,
   "id": "a222ca94-7d51-4bd3-9dd1-450ad35b8ada",
   "metadata": {},
   "outputs": [
    {
     "data": {
      "text/plain": [
       "(array([1.1779e+04, 1.0406e+04, 1.2220e+03, 2.1300e+02, 5.1000e+01,\n",
       "        1.6000e+01, 6.0000e+00, 2.0000e+00, 1.0000e+00, 1.0000e+00]),\n",
       " array([1.2939429, 1.45289  , 1.6118371, 1.7707841, 1.9297312, 2.0886784,\n",
       "        2.2476254, 2.4065726, 2.5655196, 2.7244668, 2.8834138],\n",
       "       dtype=float32),\n",
       " <BarContainer object of 10 artists>)"
      ]
     },
     "execution_count": 197,
     "metadata": {},
     "output_type": "execute_result"
    },
    {
     "data": {
      "image/png": "[encoded data removed]",
      "text/plain": [
       "<Figure size 432x288 with 1 Axes>"
      ]
     },
     "metadata": {
      "needs_background": "light"
     },
     "output_type": "display_data"
    }
   ],
   "source": [
    "plt.hist(Mvir/M200)"
   ]
  },
  {
   "cell_type": "code",
   "execution_count": 156,
   "id": "e96e1382-9e89-41ce-a94b-29c4310dd047",
   "metadata": {},
   "outputs": [],
   "source": [
    "ra2 = df.RA.values\n",
    "dec2 = df.DEC.values\n",
    "Dc2= df.Rcom.values\n",
    "M2002 = df.M200C.values\n",
    "Rvir2 = df.RVIR.values"
   ]
  },
  {
   "cell_type": "code",
   "execution_count": 157,
   "id": "b99e5754-34a1-49ea-9a79-14af14ae3af9",
   "metadata": {},
   "outputs": [],
   "source": [
    "area = (ra2.max() - ra2.min())*(dec.max()-dec.min())"
   ]
  },
  {
   "cell_type": "code",
   "execution_count": 158,
   "id": "88641073-8a87-458a-84f0-0a5ee8ce7c67",
   "metadata": {},
   "outputs": [
    {
     "name": "stdout",
     "output_type": "stream",
     "text": [
      "640.4235811924328\n"
     ]
    }
   ],
   "source": [
    "print(area)"
   ]
  },
  {
   "cell_type": "code",
   "execution_count": 159,
   "id": "38730610-b3c7-48ef-ac52-a7272801350c",
   "metadata": {},
   "outputs": [
    {
     "name": "stdout",
     "output_type": "stream",
     "text": [
      "1650.0\n",
      "1800.0\n"
     ]
    }
   ],
   "source": [
    "print(Dc2.min())\n",
    "print(Dc2.max())"
   ]
  },
  {
   "cell_type": "code",
   "execution_count": 192,
   "id": "5fa193e9-f5af-4f7e-865d-34ff88196ace",
   "metadata": {},
   "outputs": [],
   "source": [
    "bins = np.logspace(10,14,40)\n",
    "dn,edge = np.histogram(M200,bins=bins)\n",
    "dn2,edge2 = np.histogram(Mvir,bins=bins)"
   ]
  },
  {
   "cell_type": "code",
   "execution_count": 179,
   "id": "7cd11ac8-9676-45d8-aeed-834c07d56ee6",
   "metadata": {},
   "outputs": [],
   "source": [
    "center = [(edge[i]+edge[i+1])/2 for i in range(0, len(edge)-1, 1)]\n",
    "dx = [np.log10(edge[i+1]/edge[i]) for i in range(0, len(edge)-1, 1)]\n",
    "V = (4./3.)*np.pi*(area/41253)*(Dc2.max()**3 - Dc2.min()**3)"
   ]
  },
  {
   "cell_type": "code",
   "execution_count": 209,
   "id": "c9e8946d-4b2f-44fa-8fd8-332c8aa25eef",
   "metadata": {},
   "outputs": [
    {
     "data": {
      "text/plain": [
       "[<matplotlib.lines.Line2D at 0x13bfee040>]"
      ]
     },
     "execution_count": 209,
     "metadata": {},
     "output_type": "execute_result"
    },
    {
     "data": {
      "image/png": "[encoded data removed]",
      "text/plain": [
       "<Figure size 432x288 with 1 Axes>"
      ]
     },
     "metadata": {
      "needs_background": "light"
     },
     "output_type": "display_data"
    }
   ],
   "source": [
    "plt.xlim(6e11,1e14)\n",
    "plt.loglog(center,1000*(1./V)*(dn/dx)/(0.6766))\n",
    "plt.loglog(center,1000*(1./V)*(dn2/dx))"
   ]
  },
  {
   "cell_type": "code",
   "execution_count": null,
   "id": "c351ecaf-7ac9-4f82-88ce-eb9bdc21e83d",
   "metadata": {},
   "outputs": [],
   "source": []
  },
  {
   "cell_type": "code",
   "execution_count": null,
   "id": "32600a27-a743-4574-8de5-27743e9d85fe",
   "metadata": {},
   "outputs": [],
   "source": []
  }
 ],
 "metadata": {
  "kernelspec": {
   "display_name": "Python 3 (ipykernel)",
   "language": "python",
   "name": "python3"
  },
  "language_info": {
   "codemirror_mode": {
    "name": "ipython",
    "version": 3
   },
   "file_extension": ".py",
   "mimetype": "text/x-python",
   "name": "python",
   "nbconvert_exporter": "python",
   "pygments_lexer": "ipython3",
   "version": "3.8.12"
  }
 },
 "nbformat": 4,
 "nbformat_minor": 5
}
