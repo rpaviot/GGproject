{
 "cells": [
  {
   "cell_type": "code",
   "execution_count": 1,
   "id": "2f27748d-fd5f-4973-a9ef-3cbbfa272a17",
   "metadata": {},
   "outputs": [],
   "source": [
    "import sys\n",
    "##sys.path.append('/feynman/home/dap/lceg/rp269101/.local/lib/python3.6/site-packages')\n",
    "##sys.path.append('/usr/lib64/python3.6/site-packages')\n",
    "import pandas as pd\n",
    "import numpy as np\n",
    "import matplotlib.pyplot as plt\n",
    "import dask.dataframe as dd\n",
    "from random import randint\n",
    "from astropy.io import fits,ascii\n",
    "from astropy.table import Table\n",
    "from astropy.cosmology import FlatLambdaCDM\n",
    "from scipy.special import erfc,erf\n",
    "#from mpmath import erf\n",
    "import dask\n",
    "from scipy.integrate import simps\n",
    "pd.options.mode.chained_assignment = None\n",
    "from astropy.cosmology import FlatLambdaCDM\n",
    "import functools\n",
    "import os\n",
    "from astropy.cosmology import z_at_value\n",
    "import astropy.units as u\n",
    "import random\n",
    "p = 0.01  \n",
    "import time\n",
    "from scipy.interpolate import CubicSpline as CS\n",
    "import PCF\n",
    "import make_HOD\n",
    "\n",
    "def distance(cent,pos):\n",
    "    dist = np.sqrt((pos[:,0] - cent[0])**2+(pos[:,1] - cent[1])**2+(pos[:,2] - cent[2])**2)\n",
    "    return dist\n",
    "    \n",
    "def norm(vec):\n",
    "    return np.sqrt(vec[:,0]**2+vec[:,1]**2+vec[:,2]**2)\n",
    "\n",
    "def normr(vec):\n",
    "    return np.sqrt(vec[0]**2+vec[1]**2+vec[2]**2)"
   ]
  },
  {
   "cell_type": "code",
   "execution_count": 8,
   "id": "82375a13-fd0b-4165-a5c3-243bc003a97c",
   "metadata": {},
   "outputs": [],
   "source": [
    "T = Table.read(\"/Users/rpaviot/eBOSSxDES/clustering_catalog_uchuu.fits\")\n",
    "df = T.to_pandas()\n",
    "del df"
   ]
  },
  {
   "cell_type": "code",
   "execution_count": 17,
   "id": "c73ecc80-d019-4a25-bf4a-56c89ff339c0",
   "metadata": {},
   "outputs": [],
   "source": [
    "#Ac = 0.00537\n",
    "#As = 0.005301\n",
    "#mu = 11.7\n",
    "#param_ELG = np.array([Ac,As,mu])\n",
    "HOD_pip = make_HOD.HOD_FIT(\"/Users/rpaviot/eBOSSxDES/clustering_catalog_uchuu.fits\",\"ELG\",\"wp_ELG_SGC_v7.dat\",\"cov_ELG_SGC.dat\")"
   ]
  },
  {
   "cell_type": "code",
   "execution_count": null,
   "id": "2f45be44-f10d-4439-9ba0-f620724397b4",
   "metadata": {},
   "outputs": [],
   "source": [
    "pos = np.array([0.0053,0.0053,11.5]) + (5e-4,5e-4,2e-1) * np.random.randn(32, 3)"
   ]
  },
  {
   "cell_type": "code",
   "execution_count": null,
   "id": "eacc6801-5017-41f6-b3c7-b06cd3676511",
   "metadata": {},
   "outputs": [],
   "source": [
    "HOD_pip.dft"
   ]
  },
  {
   "cell_type": "code",
   "execution_count": null,
   "id": "8106dbd2-2612-436b-8461-db16e13f0bee",
   "metadata": {},
   "outputs": [],
   "source": [
    "pos"
   ]
  },
  {
   "cell_type": "code",
   "execution_count": null,
   "id": "a9382978-38c7-4138-a00b-869f6748ef0f",
   "metadata": {},
   "outputs": [],
   "source": [
    "HOD_pip.fit()"
   ]
  },
  {
   "cell_type": "code",
   "execution_count": 18,
   "id": "7a07fb2b-38cc-459e-9d02-8bd56a98b1b2",
   "metadata": {},
   "outputs": [],
   "source": [
    "Ac = 0.00530\n",
    "As = 0.00531\n",
    "mu = 11.51\n",
    "M0 = 10**(mu - 0.05)\n",
    "M1 = 10**(mu + 0.25)\n",
    "sigma = 0.08\n",
    "alpha = 0.9\n",
    "gamma = -1.4\n",
    "\n",
    "#logMmin = 13.08\n",
    "#logM1 = 14.00\n",
    "##logM0 = 13.077\n",
    "#sigmalog = 0.596\n",
    "#alpha = 1.0127\n",
    "#Mmin = 10**logMmin\n",
    "#M1 = 10**logM1\n",
    "#M0 = 10**logM0\n",
    "\n"
   ]
  },
  {
   "cell_type": "code",
   "execution_count": 5,
   "id": "ddff3661-c16a-44d6-99af-910c31b0c86e",
   "metadata": {},
   "outputs": [],
   "source": [
    "probC = HOD_pip.HOD.splineC(HOD_pip.dfm.M200C)"
   ]
  },
  {
   "cell_type": "code",
   "execution_count": 8,
   "id": "465112d7-80a1-4a9e-be34-804570bc04e4",
   "metadata": {},
   "outputs": [
    {
     "data": {
      "text/plain": [
       "(array([11690244.,    57777.,    34346.,    25909.,    20814.,    18751.,\n",
       "           17272.,    17377.,    19274.,    61081.]),\n",
       " array([0. , 0.1, 0.2, 0.3, 0.4, 0.5, 0.6, 0.7, 0.8, 0.9, 1. ]),\n",
       " <BarContainer object of 10 artists>)"
      ]
     },
     "execution_count": 8,
     "metadata": {},
     "output_type": "execute_result"
    },
    {
     "data": {
      "image/png": "[encoded data removed]",
      "text/plain": [
       "<Figure size 432x288 with 1 Axes>"
      ]
     },
     "metadata": {
      "needs_background": "light"
     },
     "output_type": "display_data"
    }
   ],
   "source": [
    "plt.hist(probC)"
   ]
  },
  {
   "cell_type": "code",
   "execution_count": 16,
   "id": "4d877669-640f-4629-b9ba-1df810a6dfc7",
   "metadata": {},
   "outputs": [
    {
     "name": "stdout",
     "output_type": "stream",
     "text": [
      "0.944039985676288\n"
     ]
    }
   ],
   "source": [
    "print(np.max(HOD_pip.dfm.M200C)/1e15)"
   ]
  },
  {
   "cell_type": "code",
   "execution_count": 14,
   "id": "4baf5673-2bf2-4cc9-bae4-4790a108442e",
   "metadata": {},
   "outputs": [
    {
     "data": {
      "text/plain": [
       "(array([ 1003772,  2452679,  3971148,  5094786,  5125624,  5375100,\n",
       "         5526845,  7050184,  7673446, 10077009, 10647777, 11880779]),)"
      ]
     },
     "execution_count": 14,
     "metadata": {},
     "output_type": "execute_result"
    }
   ],
   "source": [
    "np.where(probC > 1)"
   ]
  },
  {
   "cell_type": "code",
   "execution_count": 10,
   "id": "45b67d5e-a1ea-414a-b32a-2d36e9569c42",
   "metadata": {},
   "outputs": [
    {
     "data": {
      "text/plain": [
       "0           3.427200e+11\n",
       "1           7.724200e+11\n",
       "2           2.622700e+11\n",
       "3           6.040000e+11\n",
       "4           3.466400e+11\n",
       "                ...     \n",
       "11962840    3.947100e+11\n",
       "11962841    2.236800e+11\n",
       "11962842    1.775400e+12\n",
       "11962843    2.102700e+11\n",
       "11962844    2.750200e+11\n",
       "Name: M200C, Length: 11962845, dtype: float64"
      ]
     },
     "execution_count": 10,
     "metadata": {},
     "output_type": "execute_result"
    }
   ],
   "source": [
    "HOD_pip.dfm.M200C"
   ]
  },
  {
   "cell_type": "code",
   "execution_count": 8,
   "id": "80a8c6d8-0637-49c8-b36f-45c21d650b77",
   "metadata": {},
   "outputs": [],
   "source": [
    "M200 = np.geomspace(5e11,2e15,1000)\n",
    "prob = HOD_pip.HOD.splineC(M200)"
   ]
  },
  {
   "cell_type": "code",
   "execution_count": 19,
   "id": "d2e54063-7f34-4a27-85e0-969d64abe455",
   "metadata": {},
   "outputs": [
    {
     "name": "stdout",
     "output_type": "stream",
     "text": [
      "DD computation done\n",
      "DR computation done\n"
     ]
    }
   ],
   "source": [
    "HOD_pip.ELG_clustering([Ac,As,mu,M0,M1,sigma,alpha,gamma])"
   ]
  },
  {
   "cell_type": "code",
   "execution_count": 20,
   "id": "f771b58e-e7a8-4cd9-90c5-39a1109c79ca",
   "metadata": {},
   "outputs": [
    {
     "data": {
      "text/plain": [
       "0.23483363706174282"
      ]
     },
     "execution_count": 20,
     "metadata": {},
     "output_type": "execute_result"
    }
   ],
   "source": [
    "HOD_pip.fsat()"
   ]
  },
  {
   "cell_type": "code",
   "execution_count": 5,
   "id": "e6abd92d-02f6-473b-b954-ab8595f762d4",
   "metadata": {},
   "outputs": [
    {
     "name": "stdout",
     "output_type": "stream",
     "text": [
      "DD computation done\n",
      "DR computation done\n"
     ]
    }
   ],
   "source": [
    "HOD_pip.LRG_clustering([Mmin,M0,M1,sigmalog,alpha])"
   ]
  },
  {
   "cell_type": "code",
   "execution_count": null,
   "id": "18439da7-0088-4ef9-97bb-02c4efe2052d",
   "metadata": {},
   "outputs": [],
   "source": [
    "rp,wp,wp2 = np.loadtxt(\"wp_ELG_SGC_v6.dat\",unpack=True)\n"
   ]
  },
  {
   "cell_type": "code",
   "execution_count": 65,
   "id": "b0f3ef5a-d9e2-4ba1-a2ef-10f595721cde",
   "metadata": {},
   "outputs": [],
   "source": [
    "dm = HOD_pip.dfm\n",
    "ds = HOD_pip.dfgS\n",
    "\n",
    "RA1 = dm.RA.values.astype('float64')\n",
    "RA2 = ds.RA.values.astype('float64')\n",
    "cond = np.where(RA1 < 0)\n",
    "RA1[cond] = RA1[cond] + 360\n",
    "\n",
    "cond = np.where(RA2 < 0)\n",
    "RA2[cond] = RA2[cond] + 360\n",
    "#X = ds['Rcom']*np.cos(ds['DEC'].astype('float64')*np.pi/180)*np.cos(RA.astype('float64')*np.pi/180)\n",
    "#Y = ds['Rcom']*np.cos(ds['DEC'].astype('float64')*np.pi/180)*np.sin(RA.astype('float64')*np.pi/180)\n",
    "#Z = ds['Rcom']*np.sin(ds['DEC'].astype('float64')*np.pi/180)\n",
    "ds['X2'] = ds['Rcom']*np.cos(ds['DEC'].astype('float64')*np.pi/180)*np.cos(RA2*np.pi/180)\n",
    "dm['X2'] = dm['Rcom']*np.cos(dm['DEC'].astype('float64')*np.pi/180)*np.cos(RA1*np.pi/180)\n",
    "ds['Y2'] = ds['Rcom']*np.cos(ds['DEC'].astype('float64')*np.pi/180)*np.sin(RA2*np.pi/180)\n",
    "dm['Y2'] = dm['Rcom']*np.cos(dm['DEC'].astype('float64')*np.pi/180)*np.sin(RA1*np.pi/180)\n",
    "ds['Z2'] = ds['Rcom']*np.sin(ds['DEC'].astype('float64')*np.pi/180)\n",
    "dm['Z2'] = dm['Rcom']*np.sin(dm['DEC'].astype('float64')*np.pi/180)\n"
   ]
  },
  {
   "cell_type": "code",
   "execution_count": 120,
   "id": "a0dccc88-c05b-47c1-b288-64b1f19076a4",
   "metadata": {},
   "outputs": [],
   "source": [
    "group_sub = ds.groupby(['IDp','Rcomc','M200P'],as_index=False)\n",
    "group_info = group_sub.size()\n",
    "M200k = group_info['M200P'].values\n",
    "IDp = group_info['IDp'].values\n",
    "Rcomp = group_info['Rcomc'].values\n",
    "indices = group_sub.indices\n",
    "indexes = np.array(list(indices.values()),dtype=\"object\")"
   ]
  },
  {
   "cell_type": "code",
   "execution_count": 68,
   "id": "03c693d6-940b-4967-b877-b16012afd607",
   "metadata": {},
   "outputs": [
    {
     "name": "stdout",
     "output_type": "stream",
     "text": [
      "47915\n"
     ]
    }
   ],
   "source": [
    "print(M200k.size)"
   ]
  },
  {
   "cell_type": "code",
   "execution_count": 127,
   "id": "20ebad00-6786-4dde-9da5-285bcd7d8319",
   "metadata": {},
   "outputs": [],
   "source": [
    "distances = []\n",
    "IDpp = []\n",
    "for i in range(1000,2500):\n",
    "    cond = np.where((dm.IDp == IDp[i]) & (dm.Rcomc == Rcomp[i]))[0]\n",
    "    #print(cond)\n",
    "    #print(cond)\n",
    "    main = dm.iloc[cond]\n",
    "    sub = ds.iloc[indexes[i]]\n",
    "    cent= np.array([main.X2,main.Y2,main.Z2]).astype('float64')\n",
    "    sat = (np.array([sub.X2,sub.Y2,sub.Z2]).T).astype('float64')\n",
    "    #print(cent)\n",
    "    #print(sat)\n",
    "    s = distance(cent,sat)\n",
    "    #print(s)\n",
    "    distances.append(np.squeeze(s))\n",
    "    IDpp.append(sub.IDp.values*np.size(sat[:,0]))\n"
   ]
  },
  {
   "cell_type": "code",
   "execution_count": 19,
   "id": "4780519e-b615-445e-9d5a-04176507522a",
   "metadata": {},
   "outputs": [
    {
     "name": "stdout",
     "output_type": "stream",
     "text": [
      "[21049289] [2979]\n"
     ]
    }
   ],
   "source": [
    "cond = np.where(dm.IDp == 53537844)[0]\n",
    "cond2 = np.where(ds.IDp == 53537844)[0]\n",
    "print(cond,cond2)\n"
   ]
  },
  {
   "cell_type": "code",
   "execution_count": 21,
   "id": "8043a684-d178-415b-bb98-00fa591b3266",
   "metadata": {},
   "outputs": [
    {
     "name": "stdout",
     "output_type": "stream",
     "text": [
      "DD computation done\n",
      "DR computation done\n",
      "DD computation done\n",
      "DR computation done\n"
     ]
    }
   ],
   "source": [
    "rp3,wp3 = HOD_pip.galaxy_wp_central()\n",
    "rp,wp = HOD_pip.galaxy_wp()"
   ]
  },
  {
   "cell_type": "code",
   "execution_count": 22,
   "id": "e8ce474c-71ac-4f91-ab20-e51acba2aa82",
   "metadata": {},
   "outputs": [
    {
     "data": {
      "text/plain": [
       "[<matplotlib.lines.Line2D at 0x15ec0efa0>]"
      ]
     },
     "execution_count": 22,
     "metadata": {},
     "output_type": "execute_result"
    },
    {
     "data": {
      "image/png": "[encoded data removed]",
      "text/plain": [
       "<Figure size 432x288 with 1 Axes>"
      ]
     },
     "metadata": {
      "needs_background": "light"
     },
     "output_type": "display_data"
    }
   ],
   "source": [
    "#plt.loglog(HOD_pip.rp,HOD_pip.wp)\n",
    "#plt.loglog(rp3,wp3)\n",
    "plt.loglog(rp,wp)\n",
    "plt.loglog(rp3,wp3)\n",
    "#plt.loglog(HOD_pip.rp,2*HOD_pip.wpdata)"
   ]
  },
  {
   "cell_type": "code",
   "execution_count": 23,
   "id": "0b62331c-747f-4fb8-bf84-f3ce3b5f8075",
   "metadata": {},
   "outputs": [
    {
     "name": "stdout",
     "output_type": "stream",
     "text": [
      "DD computation done\n"
     ]
    },
    {
     "name": "stderr",
     "output_type": "stream",
     "text": [
      "Received signal = `Interrupt: 2' (signo = 2). Aborting \n"
     ]
    },
    {
     "ename": "RuntimeError",
     "evalue": "RuntimeError occurred",
     "output_type": "error",
     "traceback": [
      "\u001b[0;31m---------------------------------------------------------------------------\u001b[0m",
      "\u001b[0;31mRuntimeError\u001b[0m                              Traceback (most recent call last)",
      "\u001b[0;32m/var/folders/3z/9mwhgs_j71j38m0rkc9_lg1r0000gn/T/ipykernel_45188/3728423312.py\u001b[0m in \u001b[0;36m<module>\u001b[0;34m\u001b[0m\n\u001b[1;32m      1\u001b[0m \u001b[0mbinsfile\u001b[0m \u001b[0;34m=\u001b[0m \u001b[0mnp\u001b[0m\u001b[0;34m.\u001b[0m\u001b[0mlinspace\u001b[0m\u001b[0;34m(\u001b[0m\u001b[0;36m1e-5\u001b[0m\u001b[0;34m,\u001b[0m\u001b[0;36m200\u001b[0m\u001b[0;34m+\u001b[0m\u001b[0;36m1e-5\u001b[0m\u001b[0;34m,\u001b[0m\u001b[0;36m41\u001b[0m\u001b[0;34m)\u001b[0m\u001b[0;34m\u001b[0m\u001b[0;34m\u001b[0m\u001b[0m\n\u001b[0;32m----> 2\u001b[0;31m \u001b[0mr\u001b[0m\u001b[0;34m,\u001b[0m\u001b[0me0\u001b[0m\u001b[0;34m,\u001b[0m\u001b[0me2\u001b[0m\u001b[0;34m,\u001b[0m\u001b[0me4\u001b[0m\u001b[0;34m=\u001b[0m\u001b[0mHOD_pip\u001b[0m\u001b[0;34m.\u001b[0m\u001b[0mcompute_multipoles\u001b[0m\u001b[0;34m(\u001b[0m\u001b[0mbinsfile\u001b[0m\u001b[0;34m)\u001b[0m\u001b[0;34m\u001b[0m\u001b[0;34m\u001b[0m\u001b[0m\n\u001b[0m\u001b[1;32m      3\u001b[0m \u001b[0mr2\u001b[0m\u001b[0;34m,\u001b[0m\u001b[0me02\u001b[0m\u001b[0;34m,\u001b[0m\u001b[0me22\u001b[0m\u001b[0;34m,\u001b[0m\u001b[0me42\u001b[0m\u001b[0;34m=\u001b[0m\u001b[0mHOD_pip\u001b[0m\u001b[0;34m.\u001b[0m\u001b[0mcompute_multipoles_central\u001b[0m\u001b[0;34m(\u001b[0m\u001b[0mbinsfile\u001b[0m\u001b[0;34m)\u001b[0m\u001b[0;34m\u001b[0m\u001b[0;34m\u001b[0m\u001b[0m\n",
      "\u001b[0;32m~/eBOSSxDES/make_HOD.py\u001b[0m in \u001b[0;36mcompute_multipoles\u001b[0;34m(self, binsfile)\u001b[0m\n\u001b[1;32m    180\u001b[0m         \u001b[0mra\u001b[0m \u001b[0;34m=\u001b[0m \u001b[0mself\u001b[0m\u001b[0;34m.\u001b[0m\u001b[0mconvert_ra\u001b[0m\u001b[0;34m(\u001b[0m\u001b[0mra\u001b[0m\u001b[0;34m)\u001b[0m\u001b[0;34m\u001b[0m\u001b[0;34m\u001b[0m\u001b[0m\n\u001b[1;32m    181\u001b[0m         \u001b[0mself\u001b[0m\u001b[0;34m.\u001b[0m\u001b[0mpipeline_2PCF\u001b[0m\u001b[0;34m.\u001b[0m\u001b[0mset_data\u001b[0m\u001b[0;34m(\u001b[0m\u001b[0mRA\u001b[0m\u001b[0;34m=\u001b[0m\u001b[0mra\u001b[0m\u001b[0;34m,\u001b[0m\u001b[0mDEC\u001b[0m\u001b[0;34m=\u001b[0m\u001b[0mdec\u001b[0m\u001b[0;34m,\u001b[0m\u001b[0mZ\u001b[0m\u001b[0;34m=\u001b[0m\u001b[0mz\u001b[0m\u001b[0;34m,\u001b[0m\u001b[0mW\u001b[0m\u001b[0;34m=\u001b[0m\u001b[0mw\u001b[0m\u001b[0;34m)\u001b[0m\u001b[0;34m\u001b[0m\u001b[0;34m\u001b[0m\u001b[0m\n\u001b[0;32m--> 182\u001b[0;31m         \u001b[0ms\u001b[0m\u001b[0;34m,\u001b[0m\u001b[0me0\u001b[0m\u001b[0;34m,\u001b[0m\u001b[0me2\u001b[0m\u001b[0;34m,\u001b[0m\u001b[0me4\u001b[0m \u001b[0;34m=\u001b[0m \u001b[0mself\u001b[0m\u001b[0;34m.\u001b[0m\u001b[0mpipeline_2PCF\u001b[0m\u001b[0;34m.\u001b[0m\u001b[0mcompute\u001b[0m\u001b[0;34m(\u001b[0m\u001b[0mbinsfile\u001b[0m\u001b[0;34m)\u001b[0m\u001b[0;34m\u001b[0m\u001b[0;34m\u001b[0m\u001b[0m\n\u001b[0m\u001b[1;32m    183\u001b[0m         \u001b[0;32mreturn\u001b[0m \u001b[0ms\u001b[0m\u001b[0;34m,\u001b[0m\u001b[0me0\u001b[0m\u001b[0;34m,\u001b[0m\u001b[0me2\u001b[0m\u001b[0;34m,\u001b[0m\u001b[0me4\u001b[0m\u001b[0;34m\u001b[0m\u001b[0;34m\u001b[0m\u001b[0m\n\u001b[1;32m    184\u001b[0m \u001b[0;34m\u001b[0m\u001b[0m\n",
      "\u001b[0;32m~/eBOSSxDES/PCF.py\u001b[0m in \u001b[0;36mcompute\u001b[0;34m(self, binsfile)\u001b[0m\n\u001b[1;32m    301\u001b[0m         \u001b[0mautocorr\u001b[0m\u001b[0;34m=\u001b[0m\u001b[0;36m0\u001b[0m\u001b[0;34m\u001b[0m\u001b[0;34m\u001b[0m\u001b[0m\n\u001b[1;32m    302\u001b[0m \u001b[0;34m\u001b[0m\u001b[0m\n\u001b[0;32m--> 303\u001b[0;31m         self.DR = DDsmu_mocks(autocorr,1,self.nthreads,self.mu_max,self.nmu_bins,self.binsfile,self.ra,self.dec,\n\u001b[0m\u001b[1;32m    304\u001b[0m                               \u001b[0mself\u001b[0m\u001b[0;34m.\u001b[0m\u001b[0mdc\u001b[0m\u001b[0;34m,\u001b[0m \u001b[0mweights1\u001b[0m \u001b[0;34m=\u001b[0m \u001b[0mself\u001b[0m\u001b[0;34m.\u001b[0m\u001b[0mw\u001b[0m\u001b[0;34m,\u001b[0m \u001b[0mRA2\u001b[0m \u001b[0;34m=\u001b[0m \u001b[0mself\u001b[0m\u001b[0;34m.\u001b[0m\u001b[0mra_r\u001b[0m\u001b[0;34m,\u001b[0m \u001b[0mDEC2\u001b[0m\u001b[0;34m=\u001b[0m\u001b[0mself\u001b[0m\u001b[0;34m.\u001b[0m\u001b[0mdec_r\u001b[0m\u001b[0;34m,\u001b[0m \u001b[0mCZ2\u001b[0m\u001b[0;34m=\u001b[0m\u001b[0mself\u001b[0m\u001b[0;34m.\u001b[0m\u001b[0mdc_r\u001b[0m\u001b[0;34m,\u001b[0m\u001b[0;34m\u001b[0m\u001b[0;34m\u001b[0m\u001b[0m\n\u001b[1;32m    305\u001b[0m                             weight_type='pair_product',weights2=self.w_r,is_comoving_dist=True,output_savg=True)\n",
      "\u001b[0;32m/usr/local/lib/python3.8/site-packages/Corrfunc/mocks/DDsmu_mocks.py\u001b[0m in \u001b[0;36mDDsmu_mocks\u001b[0;34m(autocorr, cosmology, nthreads, mu_max, nmu_bins, binfile, RA1, DEC1, CZ1, weights1, RA2, DEC2, CZ2, weights2, is_comoving_dist, verbose, output_savg, fast_divide_and_NR_steps, xbin_refine_factor, ybin_refine_factor, zbin_refine_factor, max_cells_per_dim, copy_particles, enable_min_sep_opt, c_api_timer, isa, weight_type)\u001b[0m\n\u001b[1;32m    315\u001b[0m     \u001b[0;32mif\u001b[0m \u001b[0mextn_results\u001b[0m \u001b[0;32mis\u001b[0m \u001b[0;32mNone\u001b[0m\u001b[0;34m:\u001b[0m\u001b[0;34m\u001b[0m\u001b[0;34m\u001b[0m\u001b[0m\n\u001b[1;32m    316\u001b[0m         \u001b[0mmsg\u001b[0m \u001b[0;34m=\u001b[0m \u001b[0;34m\"RuntimeError occurred\"\u001b[0m\u001b[0;34m\u001b[0m\u001b[0;34m\u001b[0m\u001b[0m\n\u001b[0;32m--> 317\u001b[0;31m         \u001b[0;32mraise\u001b[0m \u001b[0mRuntimeError\u001b[0m\u001b[0;34m(\u001b[0m\u001b[0mmsg\u001b[0m\u001b[0;34m)\u001b[0m\u001b[0;34m\u001b[0m\u001b[0;34m\u001b[0m\u001b[0m\n\u001b[0m\u001b[1;32m    318\u001b[0m     \u001b[0;32melse\u001b[0m\u001b[0;34m:\u001b[0m\u001b[0;34m\u001b[0m\u001b[0;34m\u001b[0m\u001b[0m\n\u001b[1;32m    319\u001b[0m         \u001b[0mextn_results\u001b[0m\u001b[0;34m,\u001b[0m \u001b[0mapi_time\u001b[0m \u001b[0;34m=\u001b[0m \u001b[0mextn_results\u001b[0m\u001b[0;34m\u001b[0m\u001b[0;34m\u001b[0m\u001b[0m\n",
      "\u001b[0;31mRuntimeError\u001b[0m: RuntimeError occurred"
     ]
    }
   ],
   "source": [
    "binsfile = np.linspace(1e-5,200+1e-5,41)\n",
    "r,e0,e2,e4=HOD_pip.compute_multipoles(binsfile)\n",
    "r2,e02,e22,e42=HOD_pip.compute_multipoles_central(binsfile)"
   ]
  },
  {
   "cell_type": "code",
   "execution_count": 27,
   "id": "aa13e367-a83f-440f-a88b-03fd93ee7817",
   "metadata": {},
   "outputs": [
    {
     "data": {
      "text/html": [
       "<div>\n",
       "<style scoped>\n",
       "    .dataframe tbody tr th:only-of-type {\n",
       "        vertical-align: middle;\n",
       "    }\n",
       "\n",
       "    .dataframe tbody tr th {\n",
       "        vertical-align: top;\n",
       "    }\n",
       "\n",
       "    .dataframe thead th {\n",
       "        text-align: right;\n",
       "    }\n",
       "</style>\n",
       "<table border=\"1\" class=\"dataframe\">\n",
       "  <thead>\n",
       "    <tr style=\"text-align: right;\">\n",
       "      <th></th>\n",
       "      <th>IDp</th>\n",
       "      <th>ID</th>\n",
       "      <th>RA</th>\n",
       "      <th>DEC</th>\n",
       "      <th>X</th>\n",
       "      <th>Y</th>\n",
       "      <th>Z</th>\n",
       "      <th>Rcom</th>\n",
       "      <th>Rcomc</th>\n",
       "      <th>VX</th>\n",
       "      <th>VY</th>\n",
       "      <th>VZ</th>\n",
       "      <th>M200P</th>\n",
       "      <th>M200C</th>\n",
       "      <th>z_true</th>\n",
       "      <th>z_obs</th>\n",
       "      <th>Rcom_obs</th>\n",
       "    </tr>\n",
       "  </thead>\n",
       "  <tbody>\n",
       "    <tr>\n",
       "      <th>624174</th>\n",
       "      <td>1769785</td>\n",
       "      <td>1769877</td>\n",
       "      <td>8.543354</td>\n",
       "      <td>11.109373</td>\n",
       "      <td>1516.763916</td>\n",
       "      <td>227.855347</td>\n",
       "      <td>301.17688</td>\n",
       "      <td>1563.073364</td>\n",
       "      <td>1562.853516</td>\n",
       "      <td>-543.990967</td>\n",
       "      <td>611.8172</td>\n",
       "      <td>552.405945</td>\n",
       "      <td>68739999465472.0</td>\n",
       "      <td>677250007040.0</td>\n",
       "      <td>0.611299</td>\n",
       "      <td>0.609513</td>\n",
       "      <td>1559.272004</td>\n",
       "    </tr>\n",
       "    <tr>\n",
       "      <th>626927</th>\n",
       "      <td>1780379</td>\n",
       "      <td>1780378</td>\n",
       "      <td>7.584188</td>\n",
       "      <td>10.874339</td>\n",
       "      <td>1545.904053</td>\n",
       "      <td>205.833435</td>\n",
       "      <td>299.597107</td>\n",
       "      <td>1588.063354</td>\n",
       "      <td>1588.073853</td>\n",
       "      <td>22.764935</td>\n",
       "      <td>-596.018005</td>\n",
       "      <td>-8.485281</td>\n",
       "      <td>3367299973120.0</td>\n",
       "      <td>461750009856.0</td>\n",
       "      <td>0.62308</td>\n",
       "      <td>0.622773</td>\n",
       "      <td>1587.414635</td>\n",
       "    </tr>\n",
       "    <tr>\n",
       "      <th>627154</th>\n",
       "      <td>1896975</td>\n",
       "      <td>1896951</td>\n",
       "      <td>9.098548</td>\n",
       "      <td>9.118534</td>\n",
       "      <td>1563.625</td>\n",
       "      <td>250.411499</td>\n",
       "      <td>254.168945</td>\n",
       "      <td>1603.817627</td>\n",
       "      <td>1603.399292</td>\n",
       "      <td>1001.454468</td>\n",
       "      <td>146.357025</td>\n",
       "      <td>-609.808899</td>\n",
       "      <td>51995998158848.0</td>\n",
       "      <td>1164800032768.0</td>\n",
       "      <td>0.630551</td>\n",
       "      <td>0.63546</td>\n",
       "      <td>1614.146244</td>\n",
       "    </tr>\n",
       "    <tr>\n",
       "      <th>627245</th>\n",
       "      <td>1901567</td>\n",
       "      <td>1901570</td>\n",
       "      <td>9.871955</td>\n",
       "      <td>10.489089</td>\n",
       "      <td>1537.020874</td>\n",
       "      <td>267.477905</td>\n",
       "      <td>288.844055</td>\n",
       "      <td>1586.634277</td>\n",
       "      <td>1586.447754</td>\n",
       "      <td>39.115471</td>\n",
       "      <td>286.692352</td>\n",
       "      <td>-391.150269</td>\n",
       "      <td>9619900465152.0</td>\n",
       "      <td>885239971840.0</td>\n",
       "      <td>0.622404</td>\n",
       "      <td>0.622485</td>\n",
       "      <td>1586.806095</td>\n",
       "    </tr>\n",
       "    <tr>\n",
       "      <th>627226</th>\n",
       "      <td>1902665</td>\n",
       "      <td>1902663</td>\n",
       "      <td>9.757643</td>\n",
       "      <td>9.793844</td>\n",
       "      <td>1549.899414</td>\n",
       "      <td>266.534302</td>\n",
       "      <td>271.469849</td>\n",
       "      <td>1595.908691</td>\n",
       "      <td>1596.001221</td>\n",
       "      <td>15.55382</td>\n",
       "      <td>56.203545</td>\n",
       "      <td>-597.39917</td>\n",
       "      <td>7999800213504.0</td>\n",
       "      <td>494779990016.0</td>\n",
       "      <td>0.626796</td>\n",
       "      <td>0.626378</td>\n",
       "      <td>1595.026097</td>\n",
       "    </tr>\n",
       "    <tr>\n",
       "      <th>...</th>\n",
       "      <td>...</td>\n",
       "      <td>...</td>\n",
       "      <td>...</td>\n",
       "      <td>...</td>\n",
       "      <td>...</td>\n",
       "      <td>...</td>\n",
       "      <td>...</td>\n",
       "      <td>...</td>\n",
       "      <td>...</td>\n",
       "      <td>...</td>\n",
       "      <td>...</td>\n",
       "      <td>...</td>\n",
       "      <td>...</td>\n",
       "      <td>...</td>\n",
       "      <td>...</td>\n",
       "      <td>...</td>\n",
       "      <td>...</td>\n",
       "    </tr>\n",
       "    <tr>\n",
       "      <th>639622</th>\n",
       "      <td>5357009506</td>\n",
       "      <td>5357009497</td>\n",
       "      <td>-11.760325</td>\n",
       "      <td>-0.719504</td>\n",
       "      <td>2401.825684</td>\n",
       "      <td>-500.032043</td>\n",
       "      <td>-30.809753</td>\n",
       "      <td>2453.517334</td>\n",
       "      <td>2453.705322</td>\n",
       "      <td>-222.972656</td>\n",
       "      <td>-626.142639</td>\n",
       "      <td>170.532959</td>\n",
       "      <td>14699999526912.0</td>\n",
       "      <td>420220010496.0</td>\n",
       "      <td>1.093196</td>\n",
       "      <td>1.092548</td>\n",
       "      <td>2452.482508</td>\n",
       "    </tr>\n",
       "    <tr>\n",
       "      <th>638716</th>\n",
       "      <td>5357010848</td>\n",
       "      <td>5357010842</td>\n",
       "      <td>-12.328122</td>\n",
       "      <td>-0.585631</td>\n",
       "      <td>2396.159424</td>\n",
       "      <td>-523.679382</td>\n",
       "      <td>-25.070557</td>\n",
       "      <td>2452.844971</td>\n",
       "      <td>2453.048584</td>\n",
       "      <td>-149.337418</td>\n",
       "      <td>-343.651154</td>\n",
       "      <td>-113.455284</td>\n",
       "      <td>9768999583744.0</td>\n",
       "      <td>2576600006656.0</td>\n",
       "      <td>1.092775</td>\n",
       "      <td>1.092277</td>\n",
       "      <td>2452.049283</td>\n",
       "    </tr>\n",
       "    <tr>\n",
       "      <th>639563</th>\n",
       "      <td>5357011668</td>\n",
       "      <td>5357011647</td>\n",
       "      <td>-12.110862</td>\n",
       "      <td>-0.375609</td>\n",
       "      <td>2394.792725</td>\n",
       "      <td>-513.873962</td>\n",
       "      <td>-16.056946</td>\n",
       "      <td>2449.358398</td>\n",
       "      <td>2449.053711</td>\n",
       "      <td>-164.285019</td>\n",
       "      <td>-95.799553</td>\n",
       "      <td>-374.964569</td>\n",
       "      <td>5480499904512.0</td>\n",
       "      <td>628199981056.0</td>\n",
       "      <td>1.090594</td>\n",
       "      <td>1.089631</td>\n",
       "      <td>2447.818506</td>\n",
       "    </tr>\n",
       "    <tr>\n",
       "      <th>638121</th>\n",
       "      <td>5357017575</td>\n",
       "      <td>5357017563</td>\n",
       "      <td>-12.369751</td>\n",
       "      <td>-1.598489</td>\n",
       "      <td>2376.384277</td>\n",
       "      <td>-521.16687</td>\n",
       "      <td>-67.891785</td>\n",
       "      <td>2433.809082</td>\n",
       "      <td>2433.952637</td>\n",
       "      <td>208.140549</td>\n",
       "      <td>108.92881</td>\n",
       "      <td>266.169128</td>\n",
       "      <td>2883300098048.0</td>\n",
       "      <td>722059984896.0</td>\n",
       "      <td>1.080899</td>\n",
       "      <td>1.082096</td>\n",
       "      <td>2435.73458</td>\n",
       "    </tr>\n",
       "    <tr>\n",
       "      <th>639510</th>\n",
       "      <td>5357025671</td>\n",
       "      <td>5357025673</td>\n",
       "      <td>-12.080242</td>\n",
       "      <td>-1.0808</td>\n",
       "      <td>2397.1604</td>\n",
       "      <td>-513.042114</td>\n",
       "      <td>-46.248413</td>\n",
       "      <td>2451.882812</td>\n",
       "      <td>2451.968506</td>\n",
       "      <td>-631.482666</td>\n",
       "      <td>-435.894867</td>\n",
       "      <td>-83.056778</td>\n",
       "      <td>1063499988992.0</td>\n",
       "      <td>213539995648.0</td>\n",
       "      <td>1.092173</td>\n",
       "      <td>1.088512</td>\n",
       "      <td>2446.032639</td>\n",
       "    </tr>\n",
       "  </tbody>\n",
       "</table>\n",
       "<p>40978 rows × 17 columns</p>\n",
       "</div>"
      ],
      "text/plain": [
       "               IDp          ID         RA        DEC            X           Y  \\\n",
       "624174     1769785     1769877   8.543354  11.109373  1516.763916  227.855347   \n",
       "626927     1780379     1780378   7.584188  10.874339  1545.904053  205.833435   \n",
       "627154     1896975     1896951   9.098548   9.118534     1563.625  250.411499   \n",
       "627245     1901567     1901570   9.871955  10.489089  1537.020874  267.477905   \n",
       "627226     1902665     1902663   9.757643   9.793844  1549.899414  266.534302   \n",
       "...            ...         ...        ...        ...          ...         ...   \n",
       "639622  5357009506  5357009497 -11.760325  -0.719504  2401.825684 -500.032043   \n",
       "638716  5357010848  5357010842 -12.328122  -0.585631  2396.159424 -523.679382   \n",
       "639563  5357011668  5357011647 -12.110862  -0.375609  2394.792725 -513.873962   \n",
       "638121  5357017575  5357017563 -12.369751  -1.598489  2376.384277  -521.16687   \n",
       "639510  5357025671  5357025673 -12.080242    -1.0808    2397.1604 -513.042114   \n",
       "\n",
       "                 Z         Rcom        Rcomc           VX          VY  \\\n",
       "624174   301.17688  1563.073364  1562.853516  -543.990967    611.8172   \n",
       "626927  299.597107  1588.063354  1588.073853    22.764935 -596.018005   \n",
       "627154  254.168945  1603.817627  1603.399292  1001.454468  146.357025   \n",
       "627245  288.844055  1586.634277  1586.447754    39.115471  286.692352   \n",
       "627226  271.469849  1595.908691  1596.001221     15.55382   56.203545   \n",
       "...            ...          ...          ...          ...         ...   \n",
       "639622  -30.809753  2453.517334  2453.705322  -222.972656 -626.142639   \n",
       "638716  -25.070557  2452.844971  2453.048584  -149.337418 -343.651154   \n",
       "639563  -16.056946  2449.358398  2449.053711  -164.285019  -95.799553   \n",
       "638121  -67.891785  2433.809082  2433.952637   208.140549   108.92881   \n",
       "639510  -46.248413  2451.882812  2451.968506  -631.482666 -435.894867   \n",
       "\n",
       "                VZ             M200P            M200C    z_true     z_obs  \\\n",
       "624174  552.405945  68739999465472.0   677250007040.0  0.611299  0.609513   \n",
       "626927   -8.485281   3367299973120.0   461750009856.0   0.62308  0.622773   \n",
       "627154 -609.808899  51995998158848.0  1164800032768.0  0.630551   0.63546   \n",
       "627245 -391.150269   9619900465152.0   885239971840.0  0.622404  0.622485   \n",
       "627226  -597.39917   7999800213504.0   494779990016.0  0.626796  0.626378   \n",
       "...            ...               ...              ...       ...       ...   \n",
       "639622  170.532959  14699999526912.0   420220010496.0  1.093196  1.092548   \n",
       "638716 -113.455284   9768999583744.0  2576600006656.0  1.092775  1.092277   \n",
       "639563 -374.964569   5480499904512.0   628199981056.0  1.090594  1.089631   \n",
       "638121  266.169128   2883300098048.0   722059984896.0  1.080899  1.082096   \n",
       "639510  -83.056778   1063499988992.0   213539995648.0  1.092173  1.088512   \n",
       "\n",
       "           Rcom_obs  \n",
       "624174  1559.272004  \n",
       "626927  1587.414635  \n",
       "627154  1614.146244  \n",
       "627245  1586.806095  \n",
       "627226  1595.026097  \n",
       "...             ...  \n",
       "639622  2452.482508  \n",
       "638716  2452.049283  \n",
       "639563  2447.818506  \n",
       "638121   2435.73458  \n",
       "639510  2446.032639  \n",
       "\n",
       "[40978 rows x 17 columns]"
      ]
     },
     "execution_count": 27,
     "metadata": {},
     "output_type": "execute_result"
    }
   ],
   "source": [
    "HOD_pip.dfgS"
   ]
  },
  {
   "cell_type": "code",
   "execution_count": null,
   "id": "cdd2cde9-2aa9-44d1-a69b-f789bcb1b0b6",
   "metadata": {},
   "outputs": [],
   "source": [
    "pi  = np.linspace(0,80,int(80/10)+1)"
   ]
  },
  {
   "cell_type": "code",
   "execution_count": 14,
   "id": "c77f98b2-cacd-4416-b80f-b86501c5f23d",
   "metadata": {},
   "outputs": [
    {
     "data": {
      "text/plain": [
       "[<matplotlib.lines.Line2D at 0x14b57b520>]"
      ]
     },
     "execution_count": 14,
     "metadata": {},
     "output_type": "execute_result"
    },
    {
     "data": {
      "image/png": "[encoded data removed]",
      "text/plain": [
       "<Figure size 432x288 with 1 Axes>"
      ]
     },
     "metadata": {
      "needs_background": "light"
     },
     "output_type": "display_data"
    }
   ],
   "source": [
    "plt.plot(r,e0*r**2)\n",
    "plt.plot(r,e02*r**2)"
   ]
  },
  {
   "cell_type": "code",
   "execution_count": null,
   "id": "ba717ee2-7b91-4071-ac7f-c6b7bb2a82bc",
   "metadata": {},
   "outputs": [],
   "source": [
    "HOD_pip.fsat()"
   ]
  },
  {
   "cell_type": "code",
   "execution_count": null,
   "id": "c3c42721-46fc-4155-a172-ac65bd537cae",
   "metadata": {},
   "outputs": [],
   "source": [
    "plt.plot(r,e0*r**2)\n",
    "#plt.plot(r,e02*r**2)"
   ]
  },
  {
   "cell_type": "code",
   "execution_count": null,
   "id": "3e07426f-d01b-42b4-8459-8d18120a7575",
   "metadata": {},
   "outputs": [],
   "source": [
    "kk = HOD_pip.dfm.M200C"
   ]
  },
  {
   "cell_type": "code",
   "execution_count": null,
   "id": "68d7c258-57ce-4c27-a422-b2492faa8526",
   "metadata": {},
   "outputs": [],
   "source": [
    "prob = HOD_pip.HOD.splineC(kk)"
   ]
  },
  {
   "cell_type": "code",
   "execution_count": null,
   "id": "dc4f6cfd-aa31-4e2a-a5e0-fbb5ed349b1e",
   "metadata": {},
   "outputs": [],
   "source": [
    "rng = np.random.default_rng()\n",
    "array = np.ones(prob.size,dtype=int)\n",
    "Nc = rng.binomial(array,prob)\n",
    "cond = Nc > 0\n",
    "kk2 = kk[cond]"
   ]
  },
  {
   "cell_type": "code",
   "execution_count": null,
   "id": "f0f5e585-9c19-48f1-ac4d-d14741073d53",
   "metadata": {},
   "outputs": [],
   "source": [
    "plt.hist(kk2)"
   ]
  },
  {
   "cell_type": "code",
   "execution_count": null,
   "id": "01c166d3-6f06-4ec2-b474-f8e7566b3736",
   "metadata": {},
   "outputs": [],
   "source": [
    "plt.plot(r,e0*r**2)\n",
    "plt.plot(r,e02*r**2)"
   ]
  },
  {
   "cell_type": "code",
   "execution_count": null,
   "id": "09e8b1e6-4539-45b3-a604-7383c202e7af",
   "metadata": {},
   "outputs": [],
   "source": [
    "HOD_pip.dfgC"
   ]
  },
  {
   "cell_type": "code",
   "execution_count": null,
   "id": "5f0b51e3-d9e5-48f5-b11f-7450a66a3d00",
   "metadata": {},
   "outputs": [],
   "source": [
    "plt.plot(r,e0*r**2)"
   ]
  },
  {
   "cell_type": "code",
   "execution_count": null,
   "id": "c0aa446e-e67d-4dd1-8225-ddf7490b5faf",
   "metadata": {},
   "outputs": [],
   "source": [
    "HOD_pip.dfgS"
   ]
  },
  {
   "cell_type": "code",
   "execution_count": null,
   "id": "f8c22bd5-13b9-4572-a162-c8a7ab35abad",
   "metadata": {},
   "outputs": [],
   "source": [
    "HOD_pip.dfg"
   ]
  },
  {
   "cell_type": "code",
   "execution_count": null,
   "id": "1274b876-98c4-4d68-984a-c422d91c7d51",
   "metadata": {},
   "outputs": [],
   "source": [
    "print(HOD_pip.wp)"
   ]
  },
  {
   "cell_type": "code",
   "execution_count": null,
   "id": "6fa5416d-5f47-4af6-9506-ba25a8d49a05",
   "metadata": {},
   "outputs": [],
   "source": [
    "HOD_pip.fit()"
   ]
  },
  {
   "cell_type": "code",
   "execution_count": null,
   "id": "5d329475-05f6-4b3c-92af-1e6a665d52e3",
   "metadata": {},
   "outputs": [],
   "source": []
  },
  {
   "cell_type": "code",
   "execution_count": null,
   "id": "380b8348-617e-436f-9c0e-bbc5b863309a",
   "metadata": {},
   "outputs": [],
   "source": [
    "HOD_pip.populate(param_ELG)"
   ]
  },
  {
   "cell_type": "code",
   "execution_count": null,
   "id": "d675dfa9-506e-4899-b18b-181d732a64b3",
   "metadata": {},
   "outputs": [],
   "source": [
    "HOD_pip.dfg['z_obs'].values"
   ]
  },
  {
   "cell_type": "code",
   "execution_count": null,
   "id": "95328705-5af3-44c2-949b-00af60501b15",
   "metadata": {},
   "outputs": [],
   "source": [
    "rp,wp = HOD_pip.galaxy_wp()"
   ]
  },
  {
   "cell_type": "code",
   "execution_count": null,
   "id": "ae7d254b-54af-42e6-9511-15956efa410d",
   "metadata": {},
   "outputs": [],
   "source": [
    "print(rp)"
   ]
  },
  {
   "cell_type": "code",
   "execution_count": null,
   "id": "50eae6d0-90c3-4b4f-86d4-7945d5f43991",
   "metadata": {},
   "outputs": [],
   "source": [
    "rp,wpx,wp2x = np.loadtxt(\"wp_ELG_SGC.dat\",unpack=True)\n"
   ]
  },
  {
   "cell_type": "code",
   "execution_count": null,
   "id": "e43de287-9f39-4f50-b9bf-7afa92e3211d",
   "metadata": {},
   "outputs": [],
   "source": [
    "plt.loglog(rp,wp)\n",
    "plt.loglog(rp,2*wpx)"
   ]
  },
  {
   "cell_type": "code",
   "execution_count": null,
   "id": "e2470932-273a-462f-949c-624279b1fcd5",
   "metadata": {},
   "outputs": [],
   "source": [
    "wp"
   ]
  },
  {
   "cell_type": "code",
   "execution_count": null,
   "id": "422751a8-9b0d-43a6-b0fc-ff77a65b1282",
   "metadata": {},
   "outputs": [],
   "source": [
    "HOD_pip.populate(param_ELG)"
   ]
  },
  {
   "cell_type": "code",
   "execution_count": null,
   "id": "f9bd0357-d663-4565-88d8-7c8d8c362a2c",
   "metadata": {},
   "outputs": [],
   "source": [
    "HOD_pip.dfg"
   ]
  },
  {
   "cell_type": "code",
   "execution_count": null,
   "id": "b47384be-f436-4f77-8e5b-d2186393c1e0",
   "metadata": {},
   "outputs": [],
   "source": [
    "cosmo = FlatLambdaCDM(Om0=0.3089,H0=100)"
   ]
  },
  {
   "cell_type": "code",
   "execution_count": null,
   "id": "8ed3a750-1098-4bf4-bafa-d3003d9b67e6",
   "metadata": {},
   "outputs": [],
   "source": [
    "zc = np.arange(0.4,1.2,0.005)\n",
    "Dc = cosmo.comoving_distance(zc).value\n",
    "spline_z = CS(Dc,zc)\n",
    "zback = z_at_value(cosmo.comoving_distance,Dc*u.Mpc)"
   ]
  },
  {
   "cell_type": "code",
   "execution_count": null,
   "id": "a91117c5-5928-48de-a578-43c2ca68ab55",
   "metadata": {},
   "outputs": [],
   "source": [
    "plt.plot(Dc,spline_z(Dc))\n",
    "plt.plot(Dc,zback)"
   ]
  },
  {
   "cell_type": "code",
   "execution_count": 16,
   "id": "b44ae057-5253-4e01-8901-92fab2e09cee",
   "metadata": {},
   "outputs": [],
   "source": [
    "## CMASS parameter\n",
    "logMmin = 13.08\n",
    "logM1 = 14.00\n",
    "logM0 = 13.077\n",
    "sigmalog = 0.596\n",
    "alpha = 1.0127\n",
    "Mmin = 10**logMmin\n",
    "M1 = 10**logM1\n",
    "M0 = 10**logM0\n",
    "\n",
    "\n",
    "#ELG parameter\n",
    "Ac = 0.00537\n",
    "As = 0.005301\n",
    "mu = 11.515\n",
    "logM0e = mu - 0.05\n",
    "logM1e = mu + 0.35\n",
    "M0e = 10**logM0e\n",
    "M1e = 10**logM1e\n",
    "sigmae = 0.08\n",
    "alphae = 0.9\n",
    "gammae = -1.4\n",
    "\n",
    "def HOD_centrals(M):\n",
    "    Ncen = (1./2.)*(1 + erf(np.log(M/Mmin)/sigmalog))\n",
    "    return Ncen\n",
    "\n",
    "def HOD_sattelite(M):\n",
    "    if (M > M0):\n",
    "        Ncen = HOD_centrals(M)\n",
    "        Nsat=Ncen*((M - M0)/M1)**(alpha)\n",
    "    else :\n",
    "        Nsat=0.0\n",
    "    return Nsat\n",
    "\n",
    "def HOD_central_ELG(M):\n",
    "    x = np.log10(M)\n",
    "    if (x < mu):\n",
    "        Ncen = Ac/(np.sqrt(2*np.pi)*sigmae)*np.exp(-((x - mu)**2)/(2*sigmae**2))\n",
    "    else:\n",
    "        Ncen= Ac/(np.sqrt(2*np.pi)*sigmae)*(M/(10**mu))**(gammae)\n",
    "\n",
    "    return Ncen\n",
    "\n",
    "\n",
    "def HOD_sattelite_ELG(M):\n",
    "    if (M > M0e):\n",
    "        Nsat=As*((M - M0e)/M1e)**(alphae)\n",
    "    else :\n",
    "        Nsat=0.0\n",
    "    return Nsat\n",
    "\n",
    "\n",
    "\n",
    "\n",
    "\n",
    "def random_sample(side):\n",
    "    return np.random.uniform(side)\n",
    "\n",
    "\n",
    "\n",
    "\n",
    "HOD_sattelitev = np.vectorize(HOD_sattelite)\n",
    "HOD_sattelite_ELGv = np.vectorize(HOD_sattelite_ELG)\n",
    "HOD_central_ELGv = np.vectorize(HOD_central_ELG)"
   ]
  },
  {
   "cell_type": "code",
   "execution_count": null,
   "id": "8d3fe2f5-99a9-43e3-a891-435939e297e2",
   "metadata": {},
   "outputs": [],
   "source": [
    "M = np.geomspace(8e10,1e15,500)\n",
    "HOD_ELGc = HOD_central_ELGv(M)\n",
    "HOD_ELGs = HOD_sattelite_ELGv(M)\n",
    "spline_ELGc = CS(M,HOD_ELGc)\n",
    "spline_ELGs = CS(M,HOD_ELGs)\n",
    "\n",
    "        "
   ]
  },
  {
   "cell_type": "code",
   "execution_count": null,
   "id": "78aec10c-4e8f-4da5-bce7-25b7bda63cf5",
   "metadata": {},
   "outputs": [],
   "source": [
    "plt.loglog(M,HOD_ELGc)\n",
    "plt.loglog(M,HOD_ELGs)"
   ]
  },
  {
   "cell_type": "code",
   "execution_count": null,
   "id": "27df1df4-8b41-4e69-a7e7-725b6a26326e",
   "metadata": {},
   "outputs": [],
   "source": [
    "M = np.geomspace(8e10,1e15,500)\n",
    "HOD_ELGc = HOD_centrals(M)\n",
    "HOD_ELGs = HOD_sattelitev(M)\n",
    "spline_ELGc = CS(M,HOD_ELGc)\n",
    "spline_ELGs = CS(M,HOD_ELGs)"
   ]
  },
  {
   "cell_type": "code",
   "execution_count": null,
   "id": "f305bc5c-c1b7-49bd-8459-d4838b180f57",
   "metadata": {},
   "outputs": [],
   "source": [
    "plt.loglog(M,HOD_ELGc)\n",
    "plt.loglog(M,HOD_ELGs)"
   ]
  },
  {
   "cell_type": "code",
   "execution_count": null,
   "id": "f9e71942-ce13-4f42-abc8-22b5367606cf",
   "metadata": {},
   "outputs": [],
   "source": [
    "T = Table.read(\"/Users/rpaviot/eBOSSxDES/clustering_catalog_uchuu.fits\")\n",
    "df = T.to_pandas()\n",
    "df=df[(df.M200P > 2e11) &(df.z_obs > 0.6) & (df.z_obs < 1.1)]\n",
    "df = df.reset_index(drop=True)\n",
    "\n",
    "dfm = df[df.ID == df.IDp]\n",
    "dft = df[df.ID != df.IDp]\n",
    "dft = dft.reset_index(drop=True)\n",
    "dfm = dfm.reset_index(drop=True)\n",
    "#dft=dft.to_numpy()\n",
    "#dfm =dfm.to_numpy()\n",
    "\n",
    "\n",
    "\n",
    "\n",
    "dfgC = pd.DataFrame(columns=['IDp','ID','RA','DEC','Rcom','VX','VY','VZ','M200P','M200C','z_true','z_obs'])\n",
    "dfgS = pd.DataFrame(columns=['IDp','ID','RA','DEC','Rcom','VX','VY','VZ','M200P','M200C','z_true','z_obs'])\n",
    "rng = np.random.default_rng()\n",
    "rng2 = np.random.default_rng()\n",
    "rng3 = np.random.default_rng()\n",
    "\n",
    "z = df['z_obs'].values\n",
    "ra = df['RA'].values\n",
    "dec = df['DEC'].values\n",
    "w = np.ones(len(dec))\n",
    "\n",
    "pip = PCF.create_random(ra,dec,z,w)\n",
    "ra_r,dec_r,z_r,w_r = pip()"
   ]
  },
  {
   "cell_type": "code",
   "execution_count": null,
   "id": "478e5573-e69d-4708-80b5-ccb702b386dd",
   "metadata": {},
   "outputs": [],
   "source": [
    "bins = np.geomspace(0.2,60,11)"
   ]
  },
  {
   "cell_type": "code",
   "execution_count": null,
   "id": "58e65cdf-f4d9-4e55-beed-05fce28d4abe",
   "metadata": {},
   "outputs": [],
   "source": [
    "dxc = np.diff(bins)[0];   xc = bins[0:-1] + 0.5*dxc\n"
   ]
  },
  {
   "cell_type": "code",
   "execution_count": null,
   "id": "30599311-b34e-40d1-b239-0622eb63660c",
   "metadata": {},
   "outputs": [],
   "source": [
    "np.geomspace(0.2,60,10)"
   ]
  },
  {
   "cell_type": "code",
   "execution_count": null,
   "id": "e91b00ee-1e53-4be8-8b34-4938312f9778",
   "metadata": {},
   "outputs": [],
   "source": [
    "dxc = np.diff(bins);   xc = bins[0:-1] + 0.5*dxc\n"
   ]
  },
  {
   "cell_type": "code",
   "execution_count": null,
   "id": "c2f2432b-9438-439f-9731-e83eac580663",
   "metadata": {},
   "outputs": [],
   "source": [
    "dxc"
   ]
  },
  {
   "cell_type": "code",
   "execution_count": null,
   "id": "8952ece0-9a98-4ab7-8d51-c4e6e852fd0b",
   "metadata": {},
   "outputs": [],
   "source": [
    "xc"
   ]
  },
  {
   "cell_type": "code",
   "execution_count": null,
   "id": "25e55f5c-d58b-4a16-af62-2f3438b36341",
   "metadata": {},
   "outputs": [],
   "source": [
    "\n",
    "pip = PCF.randomcat(ra,dec,z,w)\n",
    "ra_r,dec_r,z_r,w_r = pip()"
   ]
  },
  {
   "cell_type": "code",
   "execution_count": null,
   "id": "dec3df85-3460-434f-9a05-165d4ea124ae",
   "metadata": {},
   "outputs": [],
   "source": [
    "_=plt.hist(z_r,bins=200,density=True)\n",
    "#_=plt.hist(z,bins=200,density=True)"
   ]
  },
  {
   "cell_type": "code",
   "execution_count": null,
   "id": "712005b5-a6f1-47c2-aefd-1979d99642f3",
   "metadata": {},
   "outputs": [],
   "source": [
    "print(np.max(z_r))"
   ]
  },
  {
   "cell_type": "code",
   "execution_count": null,
   "id": "5c80e654-53bf-4b72-8d1c-9c76f2265da0",
   "metadata": {},
   "outputs": [],
   "source": [
    "%%time\n",
    "\n",
    "probC = spline_ELGc(dfm.M200C)\n",
    "array = np.ones(probC.size,dtype=int)\n",
    "Nc = rng.binomial(array,probC)\n",
    "\n",
    "cond = Nc > 0\n",
    "dfm = dfm[cond]\n",
    "dfgC=pd.concat([dfgC,dfm],axis=0)\n"
   ]
  },
  {
   "cell_type": "code",
   "execution_count": null,
   "id": "99a9ff0c-7c58-47a0-9988-57d5bc29517b",
   "metadata": {},
   "outputs": [],
   "source": [
    "dfgC.shape"
   ]
  },
  {
   "cell_type": "code",
   "execution_count": null,
   "id": "8321434b-39de-4525-b2cd-28991ded7856",
   "metadata": {},
   "outputs": [],
   "source": [
    "def cut(x,y):\n",
    "    x = x[0:y]\n",
    "    return x"
   ]
  },
  {
   "cell_type": "code",
   "execution_count": null,
   "id": "786e971e-e933-4c62-a8d0-ff9bbfaebc32",
   "metadata": {},
   "outputs": [],
   "source": [
    "%%time\n",
    "group_sub = dft.groupby(['IDp','M200P'],as_index=False)\n",
    "group_info = group_sub.size()\n",
    "M200P = group_info['M200P'].values\n",
    "probS = HOD_sattelite_ELGv(M200P)\n",
    "Ns = rng2.poisson(probS)\n",
    "indices = group_sub.indices\n",
    "indexes = np.array(list(indices.values()),dtype=\"object\")\n",
    "cond = np.where(Ns > 0)\n",
    "M200P = M200P[cond]\n",
    "Ns = Ns[cond]\n",
    "indexes = indexes[cond]\n",
    "shuf = list(map(np.random.shuffle, indexes))\n",
    "indexes2 = np.array(list(map(cut, indexes,Ns)),dtype=\"object\")\n",
    "indextot = np.hstack(indexes2)\n",
    "dfgS = pd.concat([dfgS,dft.loc[indextot]])"
   ]
  },
  {
   "cell_type": "code",
   "execution_count": null,
   "id": "9aefd502-1b8e-499d-b9d4-1a25717d939f",
   "metadata": {},
   "outputs": [],
   "source": [
    "print(probS)"
   ]
  },
  {
   "cell_type": "code",
   "execution_count": null,
   "id": "30eb7a8e-1c4a-4018-9c2b-a097df25eae7",
   "metadata": {},
   "outputs": [],
   "source": [
    "dfg  = pd.concat([dfgC,dfgS])"
   ]
  },
  {
   "cell_type": "code",
   "execution_count": null,
   "id": "7c9155f2-e4c2-4e41-a009-6b4600a6ef06",
   "metadata": {},
   "outputs": [],
   "source": [
    "dfgS.size/(dfgC.size+dfgS.size)"
   ]
  },
  {
   "cell_type": "code",
   "execution_count": null,
   "id": "e1bd8851-9efb-4a70-b3c9-80d78a6977d0",
   "metadata": {},
   "outputs": [],
   "source": [
    "dfgS.shape[0]/(dfgC.shape[0]+dfgS.shape[0])"
   ]
  },
  {
   "cell_type": "code",
   "execution_count": null,
   "id": "24b46f1b-6edd-4779-8b6e-48fa17de9698",
   "metadata": {},
   "outputs": [],
   "source": [
    "from scipy.constants import speed_of_light\n",
    "c = speed_of_light/1e3\n",
    "\n",
    "Dc = dfg.Rcom.values.astype('float64')\n",
    "vx = dfg.VX.values.astype('float64')\n",
    "vy = dfg.VY.values.astype('float64')\n",
    "vz = dfg.VZ.values.astype('float64')\n",
    "ra = dfg.RA.values.astype('float64')\n",
    "dec = dfg.DEC.values.astype('float64')\n",
    "\n",
    "z = z_at_value(cosmo.comoving_distance,Dc*u.Mpc)\n",
    "xc = Dc*np.cos(dec*np.pi/180)*np.cos(ra*np.pi/180)\n",
    "yc = Dc*np.cos(dec*np.pi/180)*np.sin(ra*np.pi/180)\n",
    "zc = Dc*np.sin(dec*np.pi/180)\n",
    "r = np.sqrt(xc**2 + yc**2 + zc**2)\n",
    "vr = (xc*vx + yc*vy + zc*vz)/r\n",
    "#Dc = Dc + vr*(1+z)/cosmo.H(z).value\n",
    "dz = (1+z)*vr/c\n",
    "z = z + dz"
   ]
  },
  {
   "cell_type": "code",
   "execution_count": null,
   "id": "6fe7f067-58f1-4d5f-a4d2-2e607833774a",
   "metadata": {},
   "outputs": [],
   "source": [
    "ra = dfg.RA.values.astype('float64')\n",
    "dec = dfg.DEC.values.astype('float64')\n",
    "z = dfg.z_obs.values.astype('float64')\n",
    "w = np.ones(len(z))"
   ]
  },
  {
   "cell_type": "code",
   "execution_count": null,
   "id": "aaa5ed3b-3521-4556-9f2f-661b1ab6f121",
   "metadata": {},
   "outputs": [],
   "source": [
    "z = z.value"
   ]
  },
  {
   "cell_type": "code",
   "execution_count": null,
   "id": "e6f43df8-3f29-4a53-b189-11ad17379e84",
   "metadata": {},
   "outputs": [],
   "source": [
    "w = np.ones(len(z))\n",
    "pip = PCF.create_random(ra,dec,z,w)\n",
    "ra_r,dec_r,z_r,w_r = pip(10)"
   ]
  },
  {
   "cell_type": "code",
   "execution_count": null,
   "id": "65d93fff-4955-42f3-9f45-d8a9cb00d796",
   "metadata": {},
   "outputs": [],
   "source": [
    "print(np.where(w_r < 0))"
   ]
  },
  {
   "cell_type": "code",
   "execution_count": null,
   "id": "cc588119-5efb-4c22-a78f-b62ddc5ff8f5",
   "metadata": {},
   "outputs": [],
   "source": [
    "binsfile = np.arange(1.05e-5,60+1.05e-5,5)\n",
    "calc = PCF.RSD_2PCF(Om0 = 0.3089)\n",
    "calc.set_random(RA_r=ra_r,DEC_r=dec_r,Z_r=z_r,W_r=w_r)\n",
    "calc.set_data(RA=ra,DEC=dec,Z=z,W=w)\n",
    "calc.precompute_RR(binsfile)\n",
    "calc.precompute_RR_rppi()"
   ]
  },
  {
   "cell_type": "code",
   "execution_count": null,
   "id": "7e688737-2e2e-42a5-a93f-d0a504038e97",
   "metadata": {},
   "outputs": [],
   "source": [
    "r,e0,e2,e4 = calc.compute(binsfile)\n",
    "rp,wp = calc.compute_wp()"
   ]
  },
  {
   "cell_type": "code",
   "execution_count": null,
   "id": "171e82dd-8533-4b70-a0b5-18eb3a473359",
   "metadata": {},
   "outputs": [],
   "source": [
    "plt.plot(r,e0*r**2)"
   ]
  },
  {
   "cell_type": "code",
   "execution_count": null,
   "id": "fddc87f9-b29f-4b45-87fe-b108c10b11c5",
   "metadata": {},
   "outputs": [],
   "source": [
    "plt.loglog(rp,wp)"
   ]
  },
  {
   "cell_type": "code",
   "execution_count": null,
   "id": "96068ce5-c58e-4288-98b1-0c66faf35c7b",
   "metadata": {},
   "outputs": [],
   "source": []
  }
 ],
 "metadata": {
  "kernelspec": {
   "display_name": "Python 3 (ipykernel)",
   "language": "python",
   "name": "python3"
  },
  "language_info": {
   "codemirror_mode": {
    "name": "ipython",
    "version": 3
   },
   "file_extension": ".py",
   "mimetype": "text/x-python",
   "name": "python",
   "nbconvert_exporter": "python",
   "pygments_lexer": "ipython3",
   "version": "3.8.12"
  }
 },
 "nbformat": 4,
 "nbformat_minor": 5
}
