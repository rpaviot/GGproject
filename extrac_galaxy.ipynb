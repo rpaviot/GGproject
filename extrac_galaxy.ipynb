{
 "cells": [
  {
   "cell_type": "code",
   "execution_count": 4,
   "id": "247bf972-37f6-49ad-9744-7c9f549bdc96",
   "metadata": {
    "tags": []
   },
   "outputs": [],
   "source": [
    "import sys\n",
    "##sys.path.append('/feynman/home/dap/lceg/rp269101/.local/lib/python3.6/site-packages')\n",
    "##sys.path.append('/usr/lib64/python3.6/site-packages')\n",
    "import pandas as pd\n",
    "import numpy as np\n",
    "import matplotlib.pyplot as plt\n",
    "import dask.dataframe as dd\n",
    "from random import randint\n",
    "from astropy.io import fits,ascii\n",
    "from astropy.table import Table\n",
    "from astropy.cosmology import FlatLambdaCDM\n",
    "from scipy.special import erfc,erf\n",
    "#from mpmath import erf\n",
    "import dask\n",
    "from scipy.integrate import simps\n",
    "pd.options.mode.chained_assignment = None\n",
    "from astropy.cosmology import FlatLambdaCDM\n",
    "import functools\n",
    "import os\n",
    "from astropy.cosmology import z_at_value\n",
    "import astropy.units as u\n",
    "import random\n",
    "p = 0.01  "
   ]
  },
  {
   "cell_type": "code",
   "execution_count": 18,
   "id": "dcc33b94-19a0-46b2-a54d-71327cfe8ff6",
   "metadata": {},
   "outputs": [
    {
     "ename": "NameError",
     "evalue": "name 'vectorize' is not defined",
     "output_type": "error",
     "traceback": [
      "\u001b[0;31m---------------------------------------------------------------------------\u001b[0m",
      "\u001b[0;31mNameError\u001b[0m                                 Traceback (most recent call last)",
      "\u001b[0;32m/var/folders/3z/9mwhgs_j71j38m0rkc9_lg1r0000gn/T/ipykernel_847/1986591756.py\u001b[0m in \u001b[0;36m<module>\u001b[0;34m\u001b[0m\n\u001b[0;32m----> 1\u001b[0;31m \u001b[0;34m@\u001b[0m\u001b[0mvectorize\u001b[0m\u001b[0;34m(\u001b[0m\u001b[0mexcluded\u001b[0m\u001b[0;34m)\u001b[0m\u001b[0;34m\u001b[0m\u001b[0;34m\u001b[0m\u001b[0m\n\u001b[0m\u001b[1;32m      2\u001b[0m \u001b[0;32mdef\u001b[0m \u001b[0mf\u001b[0m\u001b[0;34m(\u001b[0m\u001b[0mx1\u001b[0m\u001b[0;34m,\u001b[0m\u001b[0mx2\u001b[0m\u001b[0;34m)\u001b[0m\u001b[0;34m:\u001b[0m\u001b[0;34m\u001b[0m\u001b[0;34m\u001b[0m\u001b[0m\n\u001b[1;32m      3\u001b[0m     \u001b[0;32mif\u001b[0m \u001b[0mx2\u001b[0m \u001b[0;34m>=\u001b[0m \u001b[0;36m1\u001b[0m\u001b[0;34m:\u001b[0m\u001b[0;34m\u001b[0m\u001b[0;34m\u001b[0m\u001b[0m\n\u001b[1;32m      4\u001b[0m         \u001b[0;32mreturn\u001b[0m \u001b[0mx1\u001b[0m \u001b[0;34m+\u001b[0m \u001b[0;36m10\u001b[0m\u001b[0;34m*\u001b[0m\u001b[0mx2\u001b[0m\u001b[0;34m\u001b[0m\u001b[0;34m\u001b[0m\u001b[0m\n\u001b[1;32m      5\u001b[0m     \u001b[0;32melif\u001b[0m \u001b[0mx2\u001b[0m \u001b[0;34m<\u001b[0m \u001b[0;36m1\u001b[0m\u001b[0;34m:\u001b[0m\u001b[0;34m\u001b[0m\u001b[0;34m\u001b[0m\u001b[0m\n",
      "\u001b[0;31mNameError\u001b[0m: name 'vectorize' is not defined"
     ]
    }
   ],
   "source": [
    "@vectorize(excluded)\n",
    "def f(x1,x2):\n",
    "    if x2 >= 1:\n",
    "        return x1 + 10*x2\n",
    "    elif x2 < 1:\n",
    "        return x1"
   ]
  },
  {
   "cell_type": "code",
   "execution_count": 10,
   "id": "4ccf9165-561c-45b8-8ed5-5459d8dcf4f9",
   "metadata": {},
   "outputs": [
    {
     "name": "stdout",
     "output_type": "stream",
     "text": [
      "[ 0.5 10.5 20.5 30.5 40.5 50.5 60.5 70.5 80.5 90.5]\n"
     ]
    }
   ],
   "source": [
    "print(f(0.5,np.arange(0,10,1)))"
   ]
  },
  {
   "cell_type": "code",
   "execution_count": 105,
   "id": "357cbe10-b933-4bd7-a7a2-1106be9cb899",
   "metadata": {},
   "outputs": [],
   "source": [
    "## CMASS parameter\n",
    "logMmin = 13.08\n",
    "logM1 = 14.00\n",
    "logM0 = 13.077\n",
    "sigmalog = 0.596\n",
    "alpha = 1.0127\n",
    "Mmin = 10**logMmin\n",
    "M1 = 10**logM1\n",
    "M0 = 10**logM0\n",
    "\n",
    "\n",
    "#ELG parameter\n",
    "Ac = 0.00537\n",
    "As = 0.005301\n",
    "mu = 11.515\n",
    "logM0e = mu - 0.05\n",
    "logM1e = mu + 0.35\n",
    "M0e = 10**logM0e\n",
    "M1e = 10**logM1e\n",
    "sigmae = 0.08\n",
    "alphae = 0.9\n",
    "gammae = -1.4\n",
    "\n",
    "def HOD_centrals(M):\n",
    "    Ncen = (1./2.)*(1 + erf(np.log(M/Mmin)/sigmalog))\n",
    "    return Ncen\n",
    "\n",
    "def HOD_sattelite(M):\n",
    "    if (M > M0):\n",
    "        Ncen = HOD_centrals(M)\n",
    "        Nsat=Ncen*((M - M0)/M1)**(alpha)\n",
    "    else :\n",
    "        Nsat=0.0\n",
    "    return Nsat\n",
    "\n",
    "def HOD_central_ELG(M):\n",
    "    x = np.log10(M)\n",
    "    if (x < mu):\n",
    "        Ncen = Ac/(np.sqrt(2*np.pi)*sigmae)*np.exp(-((x - mu)**2)/(2*sigmae**2))\n",
    "    else:\n",
    "        Ncen= Ac/(np.sqrt(2*np.pi)*sigmae)*(M/(10**mu))**(gammae)\n",
    "\n",
    "    return Ncen\n",
    "\n",
    "\n",
    "def HOD_sattelite_ELG(M):\n",
    "    if (M > M0e):\n",
    "        Nsat=As*((M - M0e)/M1e)**(alphae)\n",
    "    else :\n",
    "        Nsat=0.0\n",
    "    return Nsat\n",
    "\n",
    "\n",
    "\n",
    "\n",
    "\n",
    "def random_sample(side):\n",
    "    return np.random.uniform(side)\n",
    "\n",
    "\n",
    "\n",
    "\n",
    "HOD_sattelitev = np.vectorize(HOD_sattelite)\n",
    "HOD_sattelite_ELGv = np.vectorize(HOD_sattelite_ELG)\n",
    "HOD_central_ELGv = np.vectorize(HOD_central_ELG)\n",
    "\n",
    "\n",
    "\n",
    "\n",
    "def load_data(filename):\n",
    "    #df = dd.read_parquet(filename)\n",
    "    df = pd.read_parquet(filename)\n",
    "    return df\n",
    "\n",
    "\n",
    "def func_tomap(x,y,dfg,dfgS):\n",
    "    dfi = dfgS.loc[dfgS.M200P == x]\n",
    "    size = dfi.M200P.size\n",
    "    index = dfi.index.values\n",
    "    if ((y >= 1) & (y < size)): \n",
    "        np.random.shuffle(index)\n",
    "        indices = index[0:size]\n",
    "        dfi = dfi.loc[indices]\n",
    "        dfg = pd.concat([dfg, dfi])\n",
    "    elif (Ns[i] > size):\n",
    "        dfg = pd.concat([dfg,dfi])\n",
    "    del dfi\n",
    "    \n",
    "    "
   ]
  },
  {
   "cell_type": "code",
   "execution_count": 3,
   "id": "43c22b43-8fab-47d9-8a57-46bb95e533f8",
   "metadata": {},
   "outputs": [
    {
     "ename": "KeyboardInterrupt",
     "evalue": "",
     "output_type": "error",
     "traceback": [
      "\u001b[0;31m---------------------------------------------------------------------------\u001b[0m",
      "\u001b[0;31mKeyboardInterrupt\u001b[0m                         Traceback (most recent call last)",
      "\u001b[0;32m/var/folders/3z/9mwhgs_j71j38m0rkc9_lg1r0000gn/T/ipykernel_38778/1347350332.py\u001b[0m in \u001b[0;36m<module>\u001b[0;34m\u001b[0m\n\u001b[0;32m----> 1\u001b[0;31m \u001b[0mdf\u001b[0m \u001b[0;34m=\u001b[0m \u001b[0mload_data\u001b[0m\u001b[0;34m(\u001b[0m\u001b[0;34m'/Volumes/LaCie/lightcone2_wide/dmsdens_1150.0.2.parquet'\u001b[0m\u001b[0;34m)\u001b[0m\u001b[0;34m\u001b[0m\u001b[0;34m\u001b[0m\u001b[0m\n\u001b[0m\u001b[1;32m      2\u001b[0m \u001b[0mdf\u001b[0m \u001b[0;34m=\u001b[0m \u001b[0mdf\u001b[0m\u001b[0;34m[\u001b[0m\u001b[0mdf\u001b[0m\u001b[0;34m.\u001b[0m\u001b[0mM200C\u001b[0m \u001b[0;34m>\u001b[0m \u001b[0;36m6e10\u001b[0m\u001b[0;34m]\u001b[0m\u001b[0;34m\u001b[0m\u001b[0;34m\u001b[0m\u001b[0m\n\u001b[1;32m      3\u001b[0m \u001b[0mdfm\u001b[0m\u001b[0;34m=\u001b[0m \u001b[0mdf\u001b[0m\u001b[0;34m[\u001b[0m\u001b[0mdf\u001b[0m\u001b[0;34m.\u001b[0m\u001b[0mPID\u001b[0m \u001b[0;34m==\u001b[0m \u001b[0;34m-\u001b[0m\u001b[0;36m1\u001b[0m\u001b[0;34m]\u001b[0m\u001b[0;34m\u001b[0m\u001b[0;34m\u001b[0m\u001b[0m\n\u001b[1;32m      4\u001b[0m \u001b[0mdfs\u001b[0m \u001b[0;34m=\u001b[0m \u001b[0mdf\u001b[0m\u001b[0;34m[\u001b[0m\u001b[0mdf\u001b[0m\u001b[0;34m.\u001b[0m\u001b[0mPID\u001b[0m \u001b[0;34m!=\u001b[0m \u001b[0;34m-\u001b[0m\u001b[0;36m1\u001b[0m\u001b[0;34m]\u001b[0m\u001b[0;34m\u001b[0m\u001b[0;34m\u001b[0m\u001b[0m\n\u001b[1;32m      5\u001b[0m \u001b[0mdfm\u001b[0m \u001b[0;34m=\u001b[0m \u001b[0mdfm\u001b[0m\u001b[0;34m.\u001b[0m\u001b[0mrename\u001b[0m\u001b[0;34m(\u001b[0m\u001b[0mcolumns\u001b[0m\u001b[0;34m=\u001b[0m\u001b[0;34m{\u001b[0m\u001b[0;34m\"M200C\"\u001b[0m\u001b[0;34m:\u001b[0m \u001b[0;34m\"M200P\"\u001b[0m\u001b[0;34m,\u001b[0m \u001b[0;34m\"ID\"\u001b[0m\u001b[0;34m:\u001b[0m\u001b[0;34m\"IDp\"\u001b[0m\u001b[0;34m}\u001b[0m\u001b[0;34m)\u001b[0m\u001b[0;34m\u001b[0m\u001b[0;34m\u001b[0m\u001b[0m\n",
      "\u001b[0;32m/var/folders/3z/9mwhgs_j71j38m0rkc9_lg1r0000gn/T/ipykernel_38778/1670134446.py\u001b[0m in \u001b[0;36mload_data\u001b[0;34m(filename)\u001b[0m\n\u001b[1;32m     69\u001b[0m \u001b[0;32mdef\u001b[0m \u001b[0mload_data\u001b[0m\u001b[0;34m(\u001b[0m\u001b[0mfilename\u001b[0m\u001b[0;34m)\u001b[0m\u001b[0;34m:\u001b[0m\u001b[0;34m\u001b[0m\u001b[0;34m\u001b[0m\u001b[0m\n\u001b[1;32m     70\u001b[0m     \u001b[0;31m#df = dd.read_parquet(filename)\u001b[0m\u001b[0;34m\u001b[0m\u001b[0;34m\u001b[0m\u001b[0;34m\u001b[0m\u001b[0m\n\u001b[0;32m---> 71\u001b[0;31m     \u001b[0mdf\u001b[0m \u001b[0;34m=\u001b[0m \u001b[0mpd\u001b[0m\u001b[0;34m.\u001b[0m\u001b[0mread_parquet\u001b[0m\u001b[0;34m(\u001b[0m\u001b[0mfilename\u001b[0m\u001b[0;34m)\u001b[0m\u001b[0;34m\u001b[0m\u001b[0;34m\u001b[0m\u001b[0m\n\u001b[0m\u001b[1;32m     72\u001b[0m     \u001b[0;32mreturn\u001b[0m \u001b[0mdf\u001b[0m\u001b[0;34m\u001b[0m\u001b[0;34m\u001b[0m\u001b[0m\n\u001b[1;32m     73\u001b[0m \u001b[0;34m\u001b[0m\u001b[0m\n",
      "\u001b[0;32m/usr/local/lib/python3.8/site-packages/pandas/io/parquet.py\u001b[0m in \u001b[0;36mread_parquet\u001b[0;34m(path, engine, columns, storage_options, use_nullable_dtypes, **kwargs)\u001b[0m\n\u001b[1;32m    491\u001b[0m     \u001b[0mimpl\u001b[0m \u001b[0;34m=\u001b[0m \u001b[0mget_engine\u001b[0m\u001b[0;34m(\u001b[0m\u001b[0mengine\u001b[0m\u001b[0;34m)\u001b[0m\u001b[0;34m\u001b[0m\u001b[0;34m\u001b[0m\u001b[0m\n\u001b[1;32m    492\u001b[0m \u001b[0;34m\u001b[0m\u001b[0m\n\u001b[0;32m--> 493\u001b[0;31m     return impl.read(\n\u001b[0m\u001b[1;32m    494\u001b[0m         \u001b[0mpath\u001b[0m\u001b[0;34m,\u001b[0m\u001b[0;34m\u001b[0m\u001b[0;34m\u001b[0m\u001b[0m\n\u001b[1;32m    495\u001b[0m         \u001b[0mcolumns\u001b[0m\u001b[0;34m=\u001b[0m\u001b[0mcolumns\u001b[0m\u001b[0;34m,\u001b[0m\u001b[0;34m\u001b[0m\u001b[0;34m\u001b[0m\u001b[0m\n",
      "\u001b[0;32m/usr/local/lib/python3.8/site-packages/pandas/io/parquet.py\u001b[0m in \u001b[0;36mread\u001b[0;34m(self, path, columns, use_nullable_dtypes, storage_options, **kwargs)\u001b[0m\n\u001b[1;32m    238\u001b[0m         )\n\u001b[1;32m    239\u001b[0m         \u001b[0;32mtry\u001b[0m\u001b[0;34m:\u001b[0m\u001b[0;34m\u001b[0m\u001b[0;34m\u001b[0m\u001b[0m\n\u001b[0;32m--> 240\u001b[0;31m             result = self.api.parquet.read_table(\n\u001b[0m\u001b[1;32m    241\u001b[0m                 \u001b[0mpath_or_handle\u001b[0m\u001b[0;34m,\u001b[0m \u001b[0mcolumns\u001b[0m\u001b[0;34m=\u001b[0m\u001b[0mcolumns\u001b[0m\u001b[0;34m,\u001b[0m \u001b[0;34m**\u001b[0m\u001b[0mkwargs\u001b[0m\u001b[0;34m\u001b[0m\u001b[0;34m\u001b[0m\u001b[0m\n\u001b[1;32m    242\u001b[0m             ).to_pandas(**to_pandas_kwargs)\n",
      "\u001b[0;32m/usr/local/lib/python3.8/site-packages/pyarrow/parquet.py\u001b[0m in \u001b[0;36mread_table\u001b[0;34m(source, columns, use_threads, metadata, use_pandas_metadata, memory_map, read_dictionary, filesystem, filters, buffer_size, partitioning, use_legacy_dataset, ignore_prefixes, pre_buffer, coerce_int96_timestamp_unit)\u001b[0m\n\u001b[1;32m   1994\u001b[0m             )\n\u001b[1;32m   1995\u001b[0m \u001b[0;34m\u001b[0m\u001b[0m\n\u001b[0;32m-> 1996\u001b[0;31m         return dataset.read(columns=columns, use_threads=use_threads,\n\u001b[0m\u001b[1;32m   1997\u001b[0m                             use_pandas_metadata=use_pandas_metadata)\n\u001b[1;32m   1998\u001b[0m \u001b[0;34m\u001b[0m\u001b[0m\n",
      "\u001b[0;32m/usr/local/lib/python3.8/site-packages/pyarrow/parquet.py\u001b[0m in \u001b[0;36mread\u001b[0;34m(self, columns, use_threads, use_pandas_metadata)\u001b[0m\n\u001b[1;32m   1829\u001b[0m                 \u001b[0muse_threads\u001b[0m \u001b[0;34m=\u001b[0m \u001b[0;32mFalse\u001b[0m\u001b[0;34m\u001b[0m\u001b[0;34m\u001b[0m\u001b[0m\n\u001b[1;32m   1830\u001b[0m \u001b[0;34m\u001b[0m\u001b[0m\n\u001b[0;32m-> 1831\u001b[0;31m         table = self._dataset.to_table(\n\u001b[0m\u001b[1;32m   1832\u001b[0m             \u001b[0mcolumns\u001b[0m\u001b[0;34m=\u001b[0m\u001b[0mcolumns\u001b[0m\u001b[0;34m,\u001b[0m \u001b[0mfilter\u001b[0m\u001b[0;34m=\u001b[0m\u001b[0mself\u001b[0m\u001b[0;34m.\u001b[0m\u001b[0m_filter_expression\u001b[0m\u001b[0;34m,\u001b[0m\u001b[0;34m\u001b[0m\u001b[0;34m\u001b[0m\u001b[0m\n\u001b[1;32m   1833\u001b[0m             \u001b[0muse_threads\u001b[0m\u001b[0;34m=\u001b[0m\u001b[0muse_threads\u001b[0m\u001b[0;34m\u001b[0m\u001b[0;34m\u001b[0m\u001b[0m\n",
      "\u001b[0;31mKeyboardInterrupt\u001b[0m: "
     ]
    }
   ],
   "source": [
    "df = load_data('/Volumes/LaCie/lightcone2_wide/dmsdens_1150.0.2.parquet')\n",
    "df = df[df.M200C > 6e10]\n",
    "dfm= df[df.PID == -1]\n",
    "dfs = df[df.PID != -1]\n",
    "dfm = dfm.rename(columns={\"M200C\": \"M200P\", \"ID\":\"IDp\"}) \n",
    "dfm['M200C'] = dfm['M200P']\n",
    "dfm = dfm.drop(columns=['RS','PID','X','Y','Z'])\n",
    "dfs = dfs.drop(columns=['RS','X','Y','Z'])\n",
    "dfm2 = dfm.copy()\n",
    "dfm2 = dfm2.drop(columns=['RA','M200C','DEC','RVIR','Rcom','VX','VY','VZ','VMAX'])\n",
    "dfs = dfs.rename(columns={\"PID\":\"IDp\"})\n",
    "dft = dd.merge(dfm2,dfs,on=\"IDp\")\n",
    "\n",
    "dft = dft.reset_index(drop=True)\n",
    "dfm = dfm.reset_index(drop=True)\n",
    "dft = dft.sort_values(by=['M200P'],ignore_index=True)\n",
    "dfm['ID'] = dfm['IDp']\n",
    "\n",
    "\n",
    "dft = dft[['IDp','ID','RA','DEC','Rcom','VX','VY','VZ','VMAX','RVIR','M200P','M200C']]\n",
    "dfm = dfm[['IDp','ID','RA','DEC','Rcom','VX','VY','VZ','VMAX','RVIR','M200P','M200C']]\n",
    "\n",
    "#childs = dft.loc[~cond1]\n",
    "dfm = dfm.compute()\n",
    "dft = dft.compute()\n"
   ]
  },
  {
   "cell_type": "code",
   "execution_count": null,
   "id": "1326ac54-4a16-40a7-99d3-786ea1b236ab",
   "metadata": {},
   "outputs": [],
   "source": [
    "cond1 = dft.M200C > dft.M200P\n",
    "parents = dft.loc[cond1]\n",
    "M200C = parents.M200C.values\n",
    "M200P = parents.M200P.values\n",
    "ID = parents.ID.values\n",
    "IDp = parents.IDp.values\n",
    "\n",
    "cond = np.isin(dfm.IDp,IDp)"
   ]
  },
  {
   "cell_type": "code",
   "execution_count": null,
   "id": "faaca4e2-766c-48a0-ac65-56303a554beb",
   "metadata": {},
   "outputs": [],
   "source": [
    "np.arange(0,10)"
   ]
  },
  {
   "cell_type": "code",
   "execution_count": null,
   "id": "6a5fd26e-87b2-4c0f-b26b-9b4ef9fd8231",
   "metadata": {},
   "outputs": [],
   "source": []
  },
  {
   "cell_type": "code",
   "execution_count": null,
   "id": "def8d2ec-1016-407b-8a62-1d9ce70b1627",
   "metadata": {},
   "outputs": [],
   "source": [
    "print(parents.shape)"
   ]
  },
  {
   "cell_type": "code",
   "execution_count": null,
   "id": "30d37622-8dd3-49c7-8a57-ff5e9208d1ce",
   "metadata": {},
   "outputs": [],
   "source": [
    "print(dft.IDp[cond].shape)"
   ]
  },
  {
   "cell_type": "code",
   "execution_count": null,
   "id": "a00979a7-4e42-46a9-9ed5-da02c740fbca",
   "metadata": {},
   "outputs": [],
   "source": [
    "print(cond.shape)\n",
    "print(dft.shape)"
   ]
  },
  {
   "cell_type": "code",
   "execution_count": null,
   "id": "39238e73-5d9c-4c1e-9a53-d5de3d0b74f2",
   "metadata": {},
   "outputs": [],
   "source": [
    "print(parents.shape)"
   ]
  },
  {
   "cell_type": "code",
   "execution_count": null,
   "id": "ad2bdb29-650b-40b4-beef-c00ac6193f73",
   "metadata": {},
   "outputs": [],
   "source": [
    "print(cond)"
   ]
  },
  {
   "cell_type": "code",
   "execution_count": null,
   "id": "ab09daca-e7c3-4b0b-9d54-65be77d5bef4",
   "metadata": {},
   "outputs": [],
   "source": [
    "cond = np.isin(dfm.IDp,IDp)\n",
    "dfm.loc[cond,'M200P']= M200C\n",
    "dfm.loc[cond,'IDp']= ID\n",
    "    "
   ]
  },
  {
   "cell_type": "code",
   "execution_count": null,
   "id": "2506ad99-de75-42b9-b2fa-7c6404eef244",
   "metadata": {},
   "outputs": [],
   "source": []
  },
  {
   "cell_type": "code",
   "execution_count": null,
   "id": "1be7d40d-2efa-44b5-b4cb-716f1f838d31",
   "metadata": {},
   "outputs": [],
   "source": [
    "import os"
   ]
  },
  {
   "cell_type": "code",
   "execution_count": null,
   "id": "cdbe39b9-15a9-4a48-a9ce-2aace6c48b37",
   "metadata": {},
   "outputs": [],
   "source": []
  },
  {
   "cell_type": "code",
   "execution_count": null,
   "id": "93ec0179-2eb2-46f1-a585-ae514e682896",
   "metadata": {},
   "outputs": [],
   "source": [
    "print(files[0])"
   ]
  },
  {
   "cell_type": "code",
   "execution_count": 16,
   "id": "a57bbd20-39f4-462e-b4db-299207213003",
   "metadata": {},
   "outputs": [
    {
     "ename": "AttributeError",
     "evalue": "'DataFrame' object has no attribute 'compute'",
     "output_type": "error",
     "traceback": [
      "\u001b[0;31m---------------------------------------------------------------------------\u001b[0m",
      "\u001b[0;31mAttributeError\u001b[0m                            Traceback (most recent call last)",
      "\u001b[0;32m/var/folders/3z/9mwhgs_j71j38m0rkc9_lg1r0000gn/T/ipykernel_24367/2893259743.py\u001b[0m in \u001b[0;36m<module>\u001b[0;34m\u001b[0m\n\u001b[1;32m     29\u001b[0m \u001b[0;34m\u001b[0m\u001b[0m\n\u001b[1;32m     30\u001b[0m \u001b[0;31m#childs = dft.loc[~cond1]\u001b[0m\u001b[0;34m\u001b[0m\u001b[0;34m\u001b[0m\u001b[0;34m\u001b[0m\u001b[0m\n\u001b[0;32m---> 31\u001b[0;31m \u001b[0mdfm\u001b[0m \u001b[0;34m=\u001b[0m \u001b[0mdfm\u001b[0m\u001b[0;34m.\u001b[0m\u001b[0mcompute\u001b[0m\u001b[0;34m(\u001b[0m\u001b[0;34m)\u001b[0m\u001b[0;34m\u001b[0m\u001b[0;34m\u001b[0m\u001b[0m\n\u001b[0m\u001b[1;32m     32\u001b[0m \u001b[0mdft\u001b[0m \u001b[0;34m=\u001b[0m \u001b[0mdft\u001b[0m\u001b[0;34m.\u001b[0m\u001b[0mcompute\u001b[0m\u001b[0;34m(\u001b[0m\u001b[0;34m)\u001b[0m\u001b[0;34m\u001b[0m\u001b[0;34m\u001b[0m\u001b[0m\n\u001b[1;32m     33\u001b[0m \u001b[0;34m\u001b[0m\u001b[0m\n",
      "\u001b[0;32m/usr/local/lib/python3.8/site-packages/pandas/core/generic.py\u001b[0m in \u001b[0;36m__getattr__\u001b[0;34m(self, name)\u001b[0m\n\u001b[1;32m   5581\u001b[0m         ):\n\u001b[1;32m   5582\u001b[0m             \u001b[0;32mreturn\u001b[0m \u001b[0mself\u001b[0m\u001b[0;34m[\u001b[0m\u001b[0mname\u001b[0m\u001b[0;34m]\u001b[0m\u001b[0;34m\u001b[0m\u001b[0;34m\u001b[0m\u001b[0m\n\u001b[0;32m-> 5583\u001b[0;31m         \u001b[0;32mreturn\u001b[0m \u001b[0mobject\u001b[0m\u001b[0;34m.\u001b[0m\u001b[0m__getattribute__\u001b[0m\u001b[0;34m(\u001b[0m\u001b[0mself\u001b[0m\u001b[0;34m,\u001b[0m \u001b[0mname\u001b[0m\u001b[0;34m)\u001b[0m\u001b[0;34m\u001b[0m\u001b[0;34m\u001b[0m\u001b[0m\n\u001b[0m\u001b[1;32m   5584\u001b[0m \u001b[0;34m\u001b[0m\u001b[0m\n\u001b[1;32m   5585\u001b[0m     \u001b[0;32mdef\u001b[0m \u001b[0m__setattr__\u001b[0m\u001b[0;34m(\u001b[0m\u001b[0mself\u001b[0m\u001b[0;34m,\u001b[0m \u001b[0mname\u001b[0m\u001b[0;34m:\u001b[0m \u001b[0mstr\u001b[0m\u001b[0;34m,\u001b[0m \u001b[0mvalue\u001b[0m\u001b[0;34m)\u001b[0m \u001b[0;34m->\u001b[0m \u001b[0;32mNone\u001b[0m\u001b[0;34m:\u001b[0m\u001b[0;34m\u001b[0m\u001b[0;34m\u001b[0m\u001b[0m\n",
      "\u001b[0;31mAttributeError\u001b[0m: 'DataFrame' object has no attribute 'compute'"
     ]
    }
   ],
   "source": [
    "dfg = pd.DataFrame(columns=['IDp','ID','RA','DEC','Rcom','VX','VY','VZ','VMAX','RVIR','M200P','M200C'])\n",
    "\n",
    "\n",
    "df = load_data('/Volumes/LaCie/lightcone2_wide/dmsdens_1150.0.2.parquet')\n",
    "\n",
    "dfgC = pd.DataFrame(columns=['IDp','ID','RA','DEC','Rcom','VX','VY','VZ','VMAX','RVIR','M200P','M200C'])\n",
    "dfgS = pd.DataFrame(columns=['IDp','ID','RA','DEC','Rcom','VX','VY','VZ','VMAX','RVIR','M200P','M200C'])\n",
    "\n",
    "df = df[df.M200C > 6e10]\n",
    "dfm= df[df.PID == -1]\n",
    "dfs = df[df.PID != -1]\n",
    "dfm = dfm.rename(columns={\"M200C\": \"M200P\", \"ID\":\"IDp\"}) \n",
    "dfm['M200C'] = dfm['M200P']\n",
    "dfm = dfm.drop(columns=['RS','PID','X','Y','Z'])\n",
    "dfs = dfs.drop(columns=['RS','X','Y','Z'])\n",
    "dfm2 = dfm.copy()\n",
    "dfm2 = dfm2.drop(columns=['RA','M200C','DEC','RVIR','Rcom','VX','VY','VZ','VMAX'])\n",
    "dfs = dfs.rename(columns={\"PID\":\"IDp\"})\n",
    "dft = dd.merge(dfm2,dfs,on=\"IDp\")\n",
    "\n",
    "dft = dft.reset_index(drop=True)\n",
    "dfm = dfm.reset_index(drop=True)\n",
    "dft = dft.sort_values(by=['M200P'],ignore_index=True)\n",
    "dfm['ID'] = dfm['IDp']\n",
    "\n",
    "\n",
    "dft = dft[['IDp','ID','RA','DEC','Rcom','VX','VY','VZ','VMAX','RVIR','M200P','M200C']]\n",
    "dfm = dfm[['IDp','ID','RA','DEC','Rcom','VX','VY','VZ','VMAX','RVIR','M200P','M200C']]\n",
    "\n",
    "#childs = dft.loc[~cond1]\n",
    "dfm = dfm.compute()\n",
    "dft = dft.compute()\n",
    "\n",
    "\n",
    "\n",
    "cond1 = dft.M200C > dft.M200P\n",
    "parents = dft.loc[cond1]\n",
    "M200C = parents.M200C.values\n",
    "M200P = parents.M200P.values\n",
    "ID = parents.ID.values\n",
    "IDp = parents.IDp.values\n",
    "\n",
    "cond = np.isin(dfm.IDp,IDp)\n",
    "dfm.loc[cond,'M200P']= M200C\n",
    "dfm.loc[cond,'IDp']= ID\n",
    "    \n",
    "cond = (dfm.M200P == dfm.M200C) & (dfm.IDp == dfm.ID)\n",
    "parents1 = dfm.loc[cond]\n",
    "childs1 = dfm.loc[~cond]\n",
    "\n",
    "\n",
    "cond = np.isin(dft.IDp,IDp)\n",
    "M200in = dft.M200C[cond]\n",
    "IDin = dft.ID[cond]\n",
    "dft.loc[cond,'M200P']= M200in\n",
    "dft.loc[cond,'IDp']= IDin\n",
    "\n",
    "#for i in range(0,M200P.size):\n",
    "#    cond = dft.IDp == IDp[i]\n",
    "#    size = cond.values.sum()\n",
    "#    dft.loc[cond,'M200P'] = np.ones(size)*M200C[i]\n",
    "#    dft.loc[cond,'IDp'] = np.ones(size,dtype=int)*ID[i]\n",
    "    \n",
    "cond = (dft.M200P == dft.M200C) & (dft.IDp == dft.ID)\n",
    "parents2 = dft.loc[cond]\n",
    "childs2 = dft.loc[~cond]\n",
    "\n",
    "dfgS = pd.concat([dfgS,childs1])\n",
    "dfgS = pd.concat([dfgS,childs2])\n",
    "dfgC = pd.concat([dfgC,parents1])\n",
    "dfgC = pd.concat([dfgC,parents2])\n",
    "\n",
    "\n",
    "Mh_u = dfgS.M200P.unique()\n",
    "\n",
    "#dds = drop_duplicates\n",
    "#probC = dask.delayed(HOD_centrals)(dfm.M200C)\n",
    "#probS = dask.delayed(HOD_sattelitev)(Mh_u)\n",
    "\n",
    "probC = dask.delayed(HOD_central_ELGv)(dfgC.M200P)\n",
    "probS = dask.delayed(HOD_sattelite_ELGv)(Mh_u)\n",
    "\n",
    "\n",
    "array = dask.delayed(np.ones)(probC.size,dtype=int)\n",
    "Nc = dask.delayed(np.random.binomial)(array,probC)\n",
    "size_sat = dft.groupby(dft.M200P,as_index=False).size()\n",
    "Ns = dask.delayed(np.random.poisson)(probS)\n",
    "    \n",
    "Nc = Nc.compute()\n",
    "Ns = Ns.compute()\n",
    "\n",
    "cond = Nc > 0\n",
    "dfgC = dfgC.loc[cond]\n",
    "dfg = pd.concat([dfg, dfgC])  \n",
    "size_cent = dfg.M200P.size\n",
    "\n",
    "\n",
    "\n",
    "for i in range(0,Mh_u.size):\n",
    "    dfi = dfgS.loc[dfgS.M200P == Mh_u[i]]\n",
    "    size = dfi.M200P.size\n",
    "    index = dfi.index.values\n",
    "    if ((Ns[i] >= 1) & (Ns[i] < size)): \n",
    "        indices = np.random.choice(index,size=Ns[i], replace=False)  \n",
    "        indices = list(indices)\n",
    "        dfi = dfi.loc[indices]\n",
    "        dfg = pd.concat([dfg, dfi])\n",
    "    elif (Ns[i] > size):\n",
    "        dfg = pd.concat([dfg,dfi])\n",
    "    del dfi\n",
    "#t2 = time.time()\n",
    "\n",
    "  \n",
    "size_tot= dfg.M200P.size\n",
    "print(\"fsat =\", (size_tot - size_cent)/(size_tot))\n"
   ]
  },
  {
   "cell_type": "code",
   "execution_count": 350,
   "id": "72ab558f-19f6-4299-ba5f-49a5f9f77fa3",
   "metadata": {},
   "outputs": [],
   "source": [
    "#dfg.Rcom.min()\n",
    "#cosmo.comoving_distance(0.8).value\n",
    "#dfg.Rcom.max()\n",
    "#dfg.Rcom.min()"
   ]
  },
  {
   "cell_type": "code",
   "execution_count": 2,
   "id": "e628a6ae-5061-4f85-8a7b-931695fe01df",
   "metadata": {},
   "outputs": [
    {
     "ename": "NameError",
     "evalue": "name 'load_data' is not defined",
     "output_type": "error",
     "traceback": [
      "\u001b[0;31m---------------------------------------------------------------------------\u001b[0m",
      "\u001b[0;31mNameError\u001b[0m                                 Traceback (most recent call last)",
      "\u001b[0;32m/var/folders/3z/9mwhgs_j71j38m0rkc9_lg1r0000gn/T/ipykernel_37220/3894409903.py\u001b[0m in \u001b[0;36m<module>\u001b[0;34m\u001b[0m\n\u001b[1;32m      9\u001b[0m \u001b[0;32mfor\u001b[0m \u001b[0mi\u001b[0m \u001b[0;32min\u001b[0m \u001b[0mrange\u001b[0m\u001b[0;34m(\u001b[0m\u001b[0mlen\u001b[0m\u001b[0;34m(\u001b[0m\u001b[0mfiles\u001b[0m\u001b[0;34m)\u001b[0m\u001b[0;34m-\u001b[0m\u001b[0;36m2\u001b[0m\u001b[0;34m,\u001b[0m\u001b[0mlen\u001b[0m\u001b[0;34m(\u001b[0m\u001b[0mfiles\u001b[0m\u001b[0;34m)\u001b[0m\u001b[0;34m)\u001b[0m\u001b[0;34m:\u001b[0m\u001b[0;34m\u001b[0m\u001b[0;34m\u001b[0m\u001b[0m\n\u001b[1;32m     10\u001b[0m \u001b[0;34m\u001b[0m\u001b[0m\n\u001b[0;32m---> 11\u001b[0;31m     \u001b[0mdf\u001b[0m \u001b[0;34m=\u001b[0m \u001b[0mload_data\u001b[0m\u001b[0;34m(\u001b[0m\u001b[0mpath\u001b[0m\u001b[0;34m+\u001b[0m\u001b[0mfiles\u001b[0m\u001b[0;34m[\u001b[0m\u001b[0mi\u001b[0m\u001b[0;34m]\u001b[0m\u001b[0;34m)\u001b[0m\u001b[0;34m\u001b[0m\u001b[0;34m\u001b[0m\u001b[0m\n\u001b[0m\u001b[1;32m     12\u001b[0m \u001b[0;34m\u001b[0m\u001b[0m\n\u001b[1;32m     13\u001b[0m     \u001b[0mdf\u001b[0m \u001b[0;34m=\u001b[0m \u001b[0mdf\u001b[0m\u001b[0;34m[\u001b[0m\u001b[0mdf\u001b[0m\u001b[0;34m.\u001b[0m\u001b[0mM200C\u001b[0m \u001b[0;34m>\u001b[0m \u001b[0;36m6e10\u001b[0m\u001b[0;34m]\u001b[0m\u001b[0;34m\u001b[0m\u001b[0;34m\u001b[0m\u001b[0m\n",
      "\u001b[0;31mNameError\u001b[0m: name 'load_data' is not defined"
     ]
    }
   ],
   "source": [
    "dfg = pd.DataFrame(columns=['IDp','ID','RA','DEC','Rcom','VX','VY','VZ','VMAX','RVIR','M200P','M200C'])\n",
    "dfgC = pd.DataFrame(columns=['IDp','ID','RA','DEC','Rcom','VX','VY','VZ','VMAX','RVIR','M200P','M200C'])\n",
    "dfgS = pd.DataFrame(columns=['IDp','ID','RA','DEC','Rcom','VX','VY','VZ','VMAX','RVIR','M200P','M200C'])\n",
    "\n",
    "\n",
    "MAX=15\n",
    "MIN=5\n",
    "\n",
    "path = \"/Volumes/LaCie/lightcone2_wide/\"\n",
    "files = os.listdir(path)\n",
    "\n",
    "for i in range(len(files)-2,len(files)):\n",
    "    \n",
    "    df = load_data(path+files[i])\n",
    "\n",
    "    df = df[df.M200C > 6e10]\n",
    "    dfm= df[df.PID == -1]\n",
    "    dfs = df[df.PID != -1]\n",
    "    dfm = dfm.rename(columns={\"M200C\": \"M200P\", \"ID\":\"IDp\"}) \n",
    "    dfm['M200C'] = dfm['M200P']\n",
    "    dfm = dfm.drop(columns=['RS','PID','X','Y','Z'])\n",
    "    dfs = dfs.drop(columns=['RS','X','Y','Z'])\n",
    "    dfm2 = dfm.copy()\n",
    "    dfm2 = dfm2.drop(columns=['RA','M200C','DEC','RVIR','Rcom','VX','VY','VZ','VMAX'])\n",
    "    dfs = dfs.rename(columns={\"PID\":\"IDp\"})\n",
    "    dft = dd.merge(dfm2,dfs,on=\"IDp\")\n",
    "\n",
    "    dft = dft.reset_index(drop=True)\n",
    "    dfm = dfm.reset_index(drop=True)\n",
    "    dft = dft.sort_values(by=['M200P'],ignore_index=True)\n",
    "    dfm['ID'] = dfm['IDp']\n",
    "\n",
    "\n",
    "    dft = dft[['IDp','ID','RA','DEC','Rcom','VX','VY','VZ','VMAX','RVIR','M200P','M200C']]\n",
    "    dfm = dfm[['IDp','ID','RA','DEC','Rcom','VX','VY','VZ','VMAX','RVIR','M200P','M200C']]\n",
    "    \n",
    "    \n",
    "\n",
    "    #childs = dft.loc[~cond1]\n",
    "    #dfm = dfm.compute()\n",
    "    #£dft = dft.compute()\n",
    "    Mh_u = dft.M200P.unique()\n",
    "    IDp = dft.IDp.unique()\n",
    "\n",
    "\n",
    "    probC = dask.delayed(HOD_central_ELGv)((dfm.M200P))\n",
    "    probS = dask.delayed(HOD_sattelite_ELGv)((Mh_u))\n",
    "\n",
    "\n",
    "    array = dask.delayed(np.ones)(probC.size,dtype=int)\n",
    "    Nc = dask.delayed(np.random.binomial)(array,probC)\n",
    "    size_sat = dft.groupby(dft.M200P,as_index=False).size()\n",
    "    Ns = dask.delayed(np.random.poisson)(probS)\n",
    "\n",
    "    Nc = Nc.compute()\n",
    "    Ns = Ns.compute()\n",
    "\n",
    "    cond = Nc > 0\n",
    "    dfm = dfm.loc[cond]\n",
    "    dfgC = pd.concat([dfgC, dfm])  \n",
    "\n",
    "\n",
    "\n",
    "    for j in range(0,Mh_u.size):\n",
    "        dfi = dft.loc[dft.IDp == IDp[j]]\n",
    "        size = dfi.M200P.size\n",
    "        index = dfi.index.values\n",
    "        if ((Ns[j] >= 1) & (Ns[j] < size)): \n",
    "            indices = np.random.choice(index,size=Ns[j], replace=False)  \n",
    "            indices = list(indices)\n",
    "            dfi = dfi.loc[indices]\n",
    "            dfgS = pd.concat([dfgS, dfi])\n",
    "        elif (Ns[j] > size):\n",
    "            dfgS = pd.concat([dfgS,dfi])\n",
    "        del dfi\n",
    "        \n",
    "\n",
    "    del df \n",
    "    del dfm\n",
    "    del dft\n",
    "#t2 = time.time()\n",
    "dfg = pd.concat([dfg,dfgC])\n",
    "dfg = pd.concat([dfg,dfgS])\n",
    "\n",
    "size_cent = dfgC.M200P.size\n",
    "size_tot= (dfgS.M200P.size + size_cent)\n",
    "\n",
    "\n",
    "print(\"fsat =\", (size_tot - size_cent)/(size_tot))"
   ]
  },
  {
   "cell_type": "code",
   "execution_count": 19,
   "id": "60c8769a-ef54-403b-b2da-9d710e83c9c1",
   "metadata": {},
   "outputs": [
    {
     "name": "stdout",
     "output_type": "stream",
     "text": [
      "15880\n",
      "6242\n"
     ]
    }
   ],
   "source": [
    "print(np.sum(Nc))\n",
    "print(np.sum(Ns))"
   ]
  },
  {
   "cell_type": "code",
   "execution_count": 7,
   "id": "ff26816d-02ac-4a80-8556-009dfff12eb0",
   "metadata": {},
   "outputs": [
    {
     "name": "stdout",
     "output_type": "stream",
     "text": [
      "['dmsdens_0790.0.2.parquet', 'dmsdens_0810.0.2.parquet', 'dmsdens_0850.0.2.parquet', 'dmsdens_0870.0.2.parquet', 'dmsdens_0910.0.2.parquet', 'dmsdens_0930.0.2.parquet', 'dmsdens_0950.0.2.parquet', 'dmsdens_0970.0.2.parquet', 'dmsdens_0990.0.2.parquet', 'dmsdens_1010.0.2.parquet', 'dmsdens_1030.0.2.parquet', 'dmsdens_1050.0.2.parquet', 'dmsdens_1070.0.2.parquet', 'dmsdens_1090.0.2.parquet', 'dmsdens_1110.0.2.parquet', 'dmsdens_1130.0.2.parquet', 'dmsdens_1150.0.2.parquet', 'dmsdens_1170.0.2.parquet', 'dmsdens_1190.0.2.parquet', 'dmsdens_1210.0.2.parquet', 'dmsdens_1230.0.2.parquet', 'dmsdens_1250.0.2.parquet']\n"
     ]
    }
   ],
   "source": [
    "print(files)"
   ]
  },
  {
   "cell_type": "code",
   "execution_count": 397,
   "id": "0bdb1385-de83-4192-828e-73f9daa33caf",
   "metadata": {},
   "outputs": [
    {
     "name": "stdout",
     "output_type": "stream",
     "text": [
      "0.0\n",
      "1050.0\n",
      "fsat hypothétique = 0.31404043201329274\n",
      "fsat = 0.2577165118369793\n"
     ]
    }
   ],
   "source": [
    "columns_names = ['IDp','ID','RA','DEC','Rcom','VX','VY','VZ','VMAX','RVIR','M200P','M200C']\n",
    "\n",
    "dfg = pd.DataFrame(columns=['IDp','ID','RA','DEC','Rcom','VX','VY','VZ','VMAX','RVIR','M200P','M200C'])\n",
    "#dfgC = pd.DataFrame(columns=['IDp','ID','RA','DEC','Rcom','VX','VY','VZ','VMAX','RVIR','M200P','M200C'])\n",
    "#dfgS = pd.DataFrame(columns=['IDp','ID','RA','DEC','Rcom','VX','VY','VZ','VMAX','RVIR','M200P','M200C'])\n",
    "cosmo= FlatLambdaCDM(Om0=0.3089,H0=100)\n",
    "zmin = 0.6\n",
    "zmax = 1.1\n",
    "Dmin = cosmo.comoving_distance(zmin).value\n",
    "Dmax = cosmo.comoving_distance(zmax).value\n",
    "\n",
    "path = \"/Volumes/LaCie/lightcone2_wide/\"\n",
    "files = os.listdir(path)\n",
    "\n",
    "for i in range(15,16):\n",
    "    \n",
    "    dfgC= np.empty((1,12), dtype=\"object\")\n",
    "    dfgS= np.empty((1,12), dtype=\"object\") \n",
    "   \n",
    "    df = load_data(path+files[i])\n",
    "    print(df.Rcom.values.min())\n",
    "    print(df.Rcom.values.max())\n",
    "\n",
    "    df = df[(df.M200C > 6e10)]\n",
    "    dfm= df[df.PID == -1]\n",
    "    dfs = df[df.PID != -1]\n",
    "    dfm = dfm.rename(columns={\"M200C\": \"M200P\", \"ID\":\"IDp\"}) \n",
    "    dfm['M200C'] = dfm['M200P']\n",
    "    dfm = dfm.drop(columns=['RS','PID','X','Y','Z'])\n",
    "    dfs = dfs.drop(columns=['RS','X','Y','Z'])\n",
    "    dfm2 = dfm.copy()\n",
    "    dfm2 = dfm2.drop(columns=['RA','M200C','DEC','RVIR','Rcom','VX','VY','VZ','VMAX'])\n",
    "    dfs = dfs.rename(columns={\"PID\":\"IDp\"})\n",
    "    dft = dd.merge(dfm2,dfs,on=\"IDp\")\n",
    "\n",
    "    dft = dft.reset_index(drop=True)\n",
    "    dfm = dfm.reset_index(drop=True)\n",
    "    dfm['ID'] = dfm['IDp']\n",
    "\n",
    "\n",
    "    dft = dft[['IDp','ID','RA','DEC','Rcom','VX','VY','VZ','VMAX','RVIR','M200P','M200C']]\n",
    "    dfm = dfm[['IDp','ID','RA','DEC','Rcom','VX','VY','VZ','VMAX','RVIR','M200P','M200C']]\n",
    "    \n",
    "    dft=dft.to_numpy()\n",
    "    dfm =dfm.to_numpy()\n",
    "    \n",
    "    probC = HOD_central_ELGv(dfm[:,10])\n",
    "    array = np.ones(probC.size,dtype=int)\n",
    "    Nc = np.random.binomial(array,probC)\n",
    "\n",
    "    cond = Nc > 0\n",
    "    dfm = dfm[cond]\n",
    "    dfgC=np.append(dfgC,dfm,axis=0)\n",
    "    \n",
    "    arr = np.array([dft[:,0],dft[:,10]]).T\n",
    "    halou,ind,counts = np.unique(arr,return_index=True,return_counts=True,axis=0)\n",
    "    \n",
    "    IDp = halou[:,0].astype('int64')\n",
    "    Mh_u = halou[:,1]\n",
    "    probS = HOD_sattelite_ELGv(Mh_u)\n",
    "    Ns = np.random.poisson(probS)\n",
    "    cond = Ns > 0\n",
    "    #print(len(Mh_u))\n",
    "    IDp = IDp[cond]\n",
    "    Mh_u = Mh_u[cond]\n",
    "    counts = counts[cond]\n",
    "    Ns = Ns[cond]\n",
    "   # print(len(Mh_u))\n",
    "    for j in range(0,Mh_u.size):\n",
    "        #cond = np.where(dft[:,0].astype('int64') == IDp[j])[0]\n",
    "        cond = (dft[:,10] == Mh_u[j]) & (dft[:,0].astype('int64') == IDp[j])\n",
    "        dfi = dft[cond]\n",
    "        size = counts[j]\n",
    "        index = np.arange(0,size)\n",
    "        if ((Ns[j] >= 1) & (Ns[j] < size)): \n",
    "            indices = np.random.choice(index,size=Ns[j], replace=False)  \n",
    "            dfi = dfi[indices]\n",
    "            dfgS=np.append(dfgS,dfi,axis=0)\n",
    "        elif (Ns[j] > size):\n",
    "            dfgS=np.append(dfgS,dfi,axis=0)\n",
    "   \n",
    "\n",
    "    \n",
    "    \n",
    "    dfgC = pd.DataFrame(dfgC,columns=columns_names)\n",
    "    dfgS = pd.DataFrame(dfgS,columns=columns_names)\n",
    "    dfgC = dfgC.iloc[1: , :]\n",
    "    dfgS = dfgS.iloc[1: , :]\n",
    "            \n",
    "    dfg = pd.concat([dfg,dfgC],ignore_index=True)\n",
    "    dfg = pd.concat([dfg,dfgS],ignore_index=True)\n",
    "    \n",
    "\n",
    "\n",
    "\n",
    "size_cent = dfgC.M200P.size\n",
    "size_tot= (dfgS.M200P.size + size_cent)\n",
    "\n",
    "print(\"fsat hypothétique =\", np.sum(Ns)/(np.sum(Ns)+np.sum(Nc)))\n",
    "\n",
    "print(\"fsat =\", (size_tot - size_cent)/(size_tot))\n"
   ]
  },
  {
   "cell_type": "code",
   "execution_count": 398,
   "id": "b0bea150-df5d-4637-a31d-01baae04b54d",
   "metadata": {},
   "outputs": [],
   "source": [
    "from scipy.constants import speed_of_light"
   ]
  },
  {
   "cell_type": "code",
   "execution_count": 404,
   "id": "aa63df8b-44cb-4afd-8181-49bf2abdb0af",
   "metadata": {},
   "outputs": [
    {
     "ename": "UnitConversionError",
     "evalue": "Can only apply 'add' function to dimensionless quantities when other argument is not a quantity (unless the latter is all zero/infinity/nan)",
     "output_type": "error",
     "traceback": [
      "\u001b[0;31m---------------------------------------------------------------------------\u001b[0m",
      "\u001b[0;31mUnitConversionError\u001b[0m                       Traceback (most recent call last)",
      "\u001b[0;32m/var/folders/3z/9mwhgs_j71j38m0rkc9_lg1r0000gn/T/ipykernel_38778/2210374109.py\u001b[0m in \u001b[0;36m<module>\u001b[0;34m\u001b[0m\n\u001b[1;32m     19\u001b[0m \u001b[0mz2\u001b[0m \u001b[0;34m=\u001b[0m \u001b[0mz\u001b[0m \u001b[0;34m+\u001b[0m \u001b[0mdz\u001b[0m\u001b[0;34m\u001b[0m\u001b[0;34m\u001b[0m\u001b[0m\n\u001b[1;32m     20\u001b[0m \u001b[0;34m\u001b[0m\u001b[0m\n\u001b[0;32m---> 21\u001b[0;31m \u001b[0mDc3\u001b[0m \u001b[0;34m=\u001b[0m \u001b[0mDc\u001b[0m \u001b[0;34m+\u001b[0m \u001b[0mvr\u001b[0m\u001b[0;34m*\u001b[0m\u001b[0;34m(\u001b[0m\u001b[0;36m1\u001b[0m\u001b[0;34m+\u001b[0m\u001b[0mz\u001b[0m\u001b[0;34m)\u001b[0m\u001b[0;34m/\u001b[0m\u001b[0mcosmo\u001b[0m\u001b[0;34m.\u001b[0m\u001b[0mH\u001b[0m\u001b[0;34m(\u001b[0m\u001b[0mz\u001b[0m\u001b[0;34m)\u001b[0m\u001b[0;34m\u001b[0m\u001b[0;34m\u001b[0m\u001b[0m\n\u001b[0m",
      "\u001b[0;32m/usr/local/lib/python3.8/site-packages/astropy/units/quantity.py\u001b[0m in \u001b[0;36m__array_ufunc__\u001b[0;34m(self, function, method, *inputs, **kwargs)\u001b[0m\n\u001b[1;32m    591\u001b[0m         \u001b[0;31m# consistent units between two inputs (e.g., in np.add) --\u001b[0m\u001b[0;34m\u001b[0m\u001b[0;34m\u001b[0m\u001b[0;34m\u001b[0m\u001b[0m\n\u001b[1;32m    592\u001b[0m         \u001b[0;31m# and the unit of the result (or tuple of units for nout > 1).\u001b[0m\u001b[0;34m\u001b[0m\u001b[0;34m\u001b[0m\u001b[0;34m\u001b[0m\u001b[0m\n\u001b[0;32m--> 593\u001b[0;31m         \u001b[0mconverters\u001b[0m\u001b[0;34m,\u001b[0m \u001b[0munit\u001b[0m \u001b[0;34m=\u001b[0m \u001b[0mconverters_and_unit\u001b[0m\u001b[0;34m(\u001b[0m\u001b[0mfunction\u001b[0m\u001b[0;34m,\u001b[0m \u001b[0mmethod\u001b[0m\u001b[0;34m,\u001b[0m \u001b[0;34m*\u001b[0m\u001b[0minputs\u001b[0m\u001b[0;34m)\u001b[0m\u001b[0;34m\u001b[0m\u001b[0;34m\u001b[0m\u001b[0m\n\u001b[0m\u001b[1;32m    594\u001b[0m \u001b[0;34m\u001b[0m\u001b[0m\n\u001b[1;32m    595\u001b[0m         \u001b[0mout\u001b[0m \u001b[0;34m=\u001b[0m \u001b[0mkwargs\u001b[0m\u001b[0;34m.\u001b[0m\u001b[0mget\u001b[0m\u001b[0;34m(\u001b[0m\u001b[0;34m'out'\u001b[0m\u001b[0;34m,\u001b[0m \u001b[0;32mNone\u001b[0m\u001b[0;34m)\u001b[0m\u001b[0;34m\u001b[0m\u001b[0;34m\u001b[0m\u001b[0m\n",
      "\u001b[0;32m/usr/local/lib/python3.8/site-packages/astropy/units/quantity_helper/converters.py\u001b[0m in \u001b[0;36mconverters_and_unit\u001b[0;34m(function, method, *args)\u001b[0m\n\u001b[1;32m    190\u001b[0m                         \u001b[0mconverters\u001b[0m\u001b[0;34m[\u001b[0m\u001b[0mi\u001b[0m\u001b[0;34m]\u001b[0m \u001b[0;34m=\u001b[0m \u001b[0;32mNone\u001b[0m\u001b[0;34m\u001b[0m\u001b[0;34m\u001b[0m\u001b[0m\n\u001b[1;32m    191\u001b[0m                     \u001b[0;32melse\u001b[0m\u001b[0;34m:\u001b[0m\u001b[0;34m\u001b[0m\u001b[0;34m\u001b[0m\u001b[0m\n\u001b[0;32m--> 192\u001b[0;31m                         raise UnitConversionError(\n\u001b[0m\u001b[1;32m    193\u001b[0m                             \u001b[0;34m\"Can only apply '{}' function to \"\u001b[0m\u001b[0;34m\u001b[0m\u001b[0;34m\u001b[0m\u001b[0m\n\u001b[1;32m    194\u001b[0m                             \u001b[0;34m\"dimensionless quantities when other \"\u001b[0m\u001b[0;34m\u001b[0m\u001b[0;34m\u001b[0m\u001b[0m\n",
      "\u001b[0;31mUnitConversionError\u001b[0m: Can only apply 'add' function to dimensionless quantities when other argument is not a quantity (unless the latter is all zero/infinity/nan)"
     ]
    }
   ],
   "source": [
    "from scipy.constants import speed_of_light\n",
    "c = speed_of_light/1e3\n",
    "\n",
    "Dc = dfg.Rcom.values.astype('float64')\n",
    "vx = dfg.VX.values.astype('float64')\n",
    "vy = dfg.VY.values.astype('float64')\n",
    "vz = dfg.VZ.values.astype('float64')\n",
    "ra = dfg.RA.values.astype('float64')\n",
    "dec = dfg.DEC.values.astype('float64')\n",
    "\n",
    "xc = Dc*np.cos(dec*np.pi/180)*np.cos(ra*np.pi/180)\n",
    "yc = Dc*np.cos(dec*np.pi/180)*np.sin(ra*np.pi/180)\n",
    "zc = Dc*np.sin(dec*np.pi/180)\n",
    "r = np.sqrt(xc**2 + yc**2 + zc**2)\n",
    "vr = (xc*vx + yc*vy + zc*vz)/r\n",
    "Dc = Dc + vr*(1+z)/cosmo.H(z).value\n",
    "\n",
    "\n"
   ]
  },
  {
   "cell_type": "code",
   "execution_count": 405,
   "id": "032e6b07-f85f-4f21-bc7d-3104bd546d5d",
   "metadata": {},
   "outputs": [],
   "source": []
  },
  {
   "cell_type": "code",
   "execution_count": 410,
   "id": "dda48c96-fe3c-4bd9-ab8b-f99c243b0061",
   "metadata": {},
   "outputs": [
    {
     "data": {
      "text/plain": [
       "array([-1.31191907, -1.85106463,  0.68634659, ...,  3.74770424,\n",
       "        6.26388577, 11.09434587])"
      ]
     },
     "execution_count": 410,
     "metadata": {},
     "output_type": "execute_result"
    }
   ],
   "source": [
    "Dc2-Dc"
   ]
  },
  {
   "cell_type": "code",
   "execution_count": 415,
   "id": "973bbdb8-f022-44f9-b173-dc234a78cc54",
   "metadata": {},
   "outputs": [
    {
     "data": {
      "text/plain": [
       "array([-1.31172035, -1.85067136,  0.68640531, ...,  3.74938908,\n",
       "        6.26862114, 11.1092213 ])"
      ]
     },
     "execution_count": 415,
     "metadata": {},
     "output_type": "execute_result"
    }
   ],
   "source": [
    "Dc3.value - Dc"
   ]
  },
  {
   "cell_type": "code",
   "execution_count": 401,
   "id": "b12a2996-c820-426e-9290-b219a0a4ab72",
   "metadata": {},
   "outputs": [],
   "source": [
    "Dc2 = cosmo.comoving_distance(z).value"
   ]
  },
  {
   "cell_type": "code",
   "execution_count": 409,
   "id": "baccdb6f-9027-4025-8d78-fdf81fa69c74",
   "metadata": {},
   "outputs": [
    {
     "data": {
      "text/plain": [
       "array([ 913.56011963,  900.77783203,  933.21539307, ..., 1028.72375488,\n",
       "       1047.64025879, 1048.47070312])"
      ]
     },
     "execution_count": 409,
     "metadata": {},
     "output_type": "execute_result"
    }
   ],
   "source": [
    "Dc"
   ]
  },
  {
   "cell_type": "code",
   "execution_count": 341,
   "id": "d8247f18-e10b-40ab-8510-0124fefa44a2",
   "metadata": {},
   "outputs": [
    {
     "data": {
      "text/html": [
       "<div>\n",
       "<style scoped>\n",
       "    .dataframe tbody tr th:only-of-type {\n",
       "        vertical-align: middle;\n",
       "    }\n",
       "\n",
       "    .dataframe tbody tr th {\n",
       "        vertical-align: top;\n",
       "    }\n",
       "\n",
       "    .dataframe thead th {\n",
       "        text-align: right;\n",
       "    }\n",
       "</style>\n",
       "<table border=\"1\" class=\"dataframe\">\n",
       "  <thead>\n",
       "    <tr style=\"text-align: right;\">\n",
       "      <th></th>\n",
       "      <th>IDp</th>\n",
       "      <th>ID</th>\n",
       "      <th>RA</th>\n",
       "      <th>DEC</th>\n",
       "      <th>Rcom</th>\n",
       "      <th>VX</th>\n",
       "      <th>VY</th>\n",
       "      <th>VZ</th>\n",
       "      <th>VMAX</th>\n",
       "      <th>RVIR</th>\n",
       "      <th>M200P</th>\n",
       "      <th>M200C</th>\n",
       "    </tr>\n",
       "  </thead>\n",
       "  <tbody>\n",
       "    <tr>\n",
       "      <th>0</th>\n",
       "      <td>4126435412.0</td>\n",
       "      <td>4126435412.0</td>\n",
       "      <td>-12.984</td>\n",
       "      <td>-11.008956</td>\n",
       "      <td>2108.518555</td>\n",
       "      <td>64.351456</td>\n",
       "      <td>-128.81459</td>\n",
       "      <td>-376.103027</td>\n",
       "      <td>182.419998</td>\n",
       "      <td>206.955994</td>\n",
       "      <td>597139980288.0</td>\n",
       "      <td>597139980288.0</td>\n",
       "    </tr>\n",
       "    <tr>\n",
       "      <th>1</th>\n",
       "      <td>3914352287.0</td>\n",
       "      <td>3914352287.0</td>\n",
       "      <td>-13.543637</td>\n",
       "      <td>-11.248273</td>\n",
       "      <td>2125.722656</td>\n",
       "      <td>-82.520668</td>\n",
       "      <td>-182.760513</td>\n",
       "      <td>243.181091</td>\n",
       "      <td>169.669998</td>\n",
       "      <td>204.535995</td>\n",
       "      <td>580129980416.0</td>\n",
       "      <td>580129980416.0</td>\n",
       "    </tr>\n",
       "    <tr>\n",
       "      <th>2</th>\n",
       "      <td>3914353788.0</td>\n",
       "      <td>3914353788.0</td>\n",
       "      <td>-13.588886</td>\n",
       "      <td>-11.139823</td>\n",
       "      <td>2124.933838</td>\n",
       "      <td>-477.491791</td>\n",
       "      <td>524.007141</td>\n",
       "      <td>-21.51726</td>\n",
       "      <td>144.75</td>\n",
       "      <td>182.828995</td>\n",
       "      <td>409099993088.0</td>\n",
       "      <td>409099993088.0</td>\n",
       "    </tr>\n",
       "    <tr>\n",
       "      <th>3</th>\n",
       "      <td>3914332119.0</td>\n",
       "      <td>3914332119.0</td>\n",
       "      <td>-12.848049</td>\n",
       "      <td>-11.730643</td>\n",
       "      <td>2135.770996</td>\n",
       "      <td>454.928925</td>\n",
       "      <td>-163.658569</td>\n",
       "      <td>209.897583</td>\n",
       "      <td>181.089996</td>\n",
       "      <td>210.417007</td>\n",
       "      <td>643239968768.0</td>\n",
       "      <td>643239968768.0</td>\n",
       "    </tr>\n",
       "    <tr>\n",
       "      <th>4</th>\n",
       "      <td>4126429287.0</td>\n",
       "      <td>4126429287.0</td>\n",
       "      <td>-12.909426</td>\n",
       "      <td>-11.180666</td>\n",
       "      <td>2116.005615</td>\n",
       "      <td>-47.117554</td>\n",
       "      <td>-255.436874</td>\n",
       "      <td>171.621887</td>\n",
       "      <td>225.509995</td>\n",
       "      <td>281.687012</td>\n",
       "      <td>1485999964160.0</td>\n",
       "      <td>1485999964160.0</td>\n",
       "    </tr>\n",
       "    <tr>\n",
       "      <th>...</th>\n",
       "      <td>...</td>\n",
       "      <td>...</td>\n",
       "      <td>...</td>\n",
       "      <td>...</td>\n",
       "      <td>...</td>\n",
       "      <td>...</td>\n",
       "      <td>...</td>\n",
       "      <td>...</td>\n",
       "      <td>...</td>\n",
       "      <td>...</td>\n",
       "      <td>...</td>\n",
       "      <td>...</td>\n",
       "    </tr>\n",
       "    <tr>\n",
       "      <th>30698</th>\n",
       "      <td>5192555219.0</td>\n",
       "      <td>5192555213.0</td>\n",
       "      <td>-12.111651</td>\n",
       "      <td>1.202113</td>\n",
       "      <td>2229.614746</td>\n",
       "      <td>180.930023</td>\n",
       "      <td>-418.164642</td>\n",
       "      <td>-932.553589</td>\n",
       "      <td>96.43</td>\n",
       "      <td>99.593002</td>\n",
       "      <td>1206699950080.0</td>\n",
       "      <td>71290003456.0</td>\n",
       "    </tr>\n",
       "    <tr>\n",
       "      <th>30699</th>\n",
       "      <td>5192676005.0</td>\n",
       "      <td>5192676023.0</td>\n",
       "      <td>-12.026659</td>\n",
       "      <td>0.423402</td>\n",
       "      <td>2246.262939</td>\n",
       "      <td>-269.085663</td>\n",
       "      <td>-619.349426</td>\n",
       "      <td>-739.287231</td>\n",
       "      <td>114.339996</td>\n",
       "      <td>115.504997</td>\n",
       "      <td>42711000285184.0</td>\n",
       "      <td>107919998976.0</td>\n",
       "    </tr>\n",
       "    <tr>\n",
       "      <th>30700</th>\n",
       "      <td>5192684254.0</td>\n",
       "      <td>5192684246.0</td>\n",
       "      <td>-10.54756</td>\n",
       "      <td>0.757159</td>\n",
       "      <td>2248.693848</td>\n",
       "      <td>-266.175812</td>\n",
       "      <td>-169.684326</td>\n",
       "      <td>94.299759</td>\n",
       "      <td>84.400002</td>\n",
       "      <td>100.903</td>\n",
       "      <td>7677700210688.0</td>\n",
       "      <td>72271003648.0</td>\n",
       "    </tr>\n",
       "    <tr>\n",
       "      <th>30701</th>\n",
       "      <td>5192686514.0</td>\n",
       "      <td>5192686516.0</td>\n",
       "      <td>-10.166639</td>\n",
       "      <td>1.300635</td>\n",
       "      <td>2246.118896</td>\n",
       "      <td>256.066376</td>\n",
       "      <td>-721.031799</td>\n",
       "      <td>-218.128311</td>\n",
       "      <td>99.160004</td>\n",
       "      <td>116.592003</td>\n",
       "      <td>2570699931648.0</td>\n",
       "      <td>105629999104.0</td>\n",
       "    </tr>\n",
       "    <tr>\n",
       "      <th>30702</th>\n",
       "      <td>5198916136.0</td>\n",
       "      <td>5198916085.0</td>\n",
       "      <td>-13.240753</td>\n",
       "      <td>3.710607</td>\n",
       "      <td>2240.357178</td>\n",
       "      <td>989.653442</td>\n",
       "      <td>500.340942</td>\n",
       "      <td>-515.282837</td>\n",
       "      <td>107.059998</td>\n",
       "      <td>102.876999</td>\n",
       "      <td>79817001140224.0</td>\n",
       "      <td>77829996544.0</td>\n",
       "    </tr>\n",
       "  </tbody>\n",
       "</table>\n",
       "<p>30703 rows × 12 columns</p>\n",
       "</div>"
      ],
      "text/plain": [
       "                IDp            ID         RA        DEC         Rcom  \\\n",
       "0      4126435412.0  4126435412.0    -12.984 -11.008956  2108.518555   \n",
       "1      3914352287.0  3914352287.0 -13.543637 -11.248273  2125.722656   \n",
       "2      3914353788.0  3914353788.0 -13.588886 -11.139823  2124.933838   \n",
       "3      3914332119.0  3914332119.0 -12.848049 -11.730643  2135.770996   \n",
       "4      4126429287.0  4126429287.0 -12.909426 -11.180666  2116.005615   \n",
       "...             ...           ...        ...        ...          ...   \n",
       "30698  5192555219.0  5192555213.0 -12.111651   1.202113  2229.614746   \n",
       "30699  5192676005.0  5192676023.0 -12.026659   0.423402  2246.262939   \n",
       "30700  5192684254.0  5192684246.0  -10.54756   0.757159  2248.693848   \n",
       "30701  5192686514.0  5192686516.0 -10.166639   1.300635  2246.118896   \n",
       "30702  5198916136.0  5198916085.0 -13.240753   3.710607  2240.357178   \n",
       "\n",
       "               VX          VY          VZ        VMAX        RVIR  \\\n",
       "0       64.351456  -128.81459 -376.103027  182.419998  206.955994   \n",
       "1      -82.520668 -182.760513  243.181091  169.669998  204.535995   \n",
       "2     -477.491791  524.007141   -21.51726      144.75  182.828995   \n",
       "3      454.928925 -163.658569  209.897583  181.089996  210.417007   \n",
       "4      -47.117554 -255.436874  171.621887  225.509995  281.687012   \n",
       "...           ...         ...         ...         ...         ...   \n",
       "30698  180.930023 -418.164642 -932.553589       96.43   99.593002   \n",
       "30699 -269.085663 -619.349426 -739.287231  114.339996  115.504997   \n",
       "30700 -266.175812 -169.684326   94.299759   84.400002     100.903   \n",
       "30701  256.066376 -721.031799 -218.128311   99.160004  116.592003   \n",
       "30702  989.653442  500.340942 -515.282837  107.059998  102.876999   \n",
       "\n",
       "                  M200P            M200C  \n",
       "0        597139980288.0   597139980288.0  \n",
       "1        580129980416.0   580129980416.0  \n",
       "2        409099993088.0   409099993088.0  \n",
       "3        643239968768.0   643239968768.0  \n",
       "4       1485999964160.0  1485999964160.0  \n",
       "...                 ...              ...  \n",
       "30698   1206699950080.0    71290003456.0  \n",
       "30699  42711000285184.0   107919998976.0  \n",
       "30700   7677700210688.0    72271003648.0  \n",
       "30701   2570699931648.0   105629999104.0  \n",
       "30702  79817001140224.0    77829996544.0  \n",
       "\n",
       "[30703 rows x 12 columns]"
      ]
     },
     "execution_count": 341,
     "metadata": {},
     "output_type": "execute_result"
    }
   ],
   "source": [
    "dfg"
   ]
  },
  {
   "cell_type": "code",
   "execution_count": 340,
   "id": "016550ae-cdc2-41c0-860e-7af5c2b8ead7",
   "metadata": {},
   "outputs": [
    {
     "name": "stdout",
     "output_type": "stream",
     "text": [
      "1538.9390811333021\n"
     ]
    }
   ],
   "source": [
    "print(Dmin)"
   ]
  },
  {
   "cell_type": "code",
   "execution_count": 339,
   "id": "de386201-2baa-4914-9b89-a582a8226ca3",
   "metadata": {},
   "outputs": [
    {
     "data": {
      "text/plain": [
       "2249.99462890625"
      ]
     },
     "execution_count": 339,
     "metadata": {},
     "output_type": "execute_result"
    }
   ],
   "source": [
    "dfg.Rcom.max()\n",
    "#dfg.Rcom.max()"
   ]
  },
  {
   "cell_type": "code",
   "execution_count": 124,
   "id": "7702ef01-ae8f-414b-9ed9-ab972f49d0c2",
   "metadata": {},
   "outputs": [],
   "source": [
    "logMmin = 13.67\n",
    "logM1 = 14.93\n",
    "logM0 = 11.62\n",
    "sigmalog = 0.81\n",
    "alpha = 0.43\n",
    "Mmin = 10**logMmin\n",
    "M1 = 10**logM1\n",
    "M0 = 10**logM0\n",
    "\n",
    "def HOD_centrals(M):\n",
    "    Ncen = (1./2.)*(1 + erf(np.log(M/Mmin)/sigmalog))\n",
    "    return Ncen\n",
    "\n",
    "#def HOD_sattelite(M):                                                                                                                                                   \n",
    "    #if (M > M0):                                                                                                                                                        \n",
    "    #    Ncen = HOD_centrals(M)                                                                                                                                          \n",
    "    #    Nsat=Ncen*((M - M0)/M1)**(alpha)                                                                                                                                \n",
    "    #else :                                                                                                                                                              \n",
    "    #    Nsat=0.0                                                                                                                                                        \n",
    "    #return Nsat                                                                                                                                                         \n",
    "\n",
    "def HOD_sattelite(M):\n",
    "    Ncen = HOD_centrals(M)\n",
    "    Nsat = Ncen*(M/M1)**(alpha)*np.exp(-M0/M)\n",
    "    return Nsat\n"
   ]
  },
  {
   "cell_type": "code",
   "execution_count": 128,
   "id": "aa8a9122-b3e4-40c0-8292-0bba12940c47",
   "metadata": {},
   "outputs": [],
   "source": [
    "M = np.geomspace(6e10,2e15,100,dtype=\"float64\")\n",
    "LRGc = HOD_centrals(M)\n",
    "ELGc = HOD_central_ELGv(M)\n",
    "LRGs = HOD_sattelitev(M)\n",
    "ELGs = HOD_sattelite_ELGv(M)"
   ]
  },
  {
   "cell_type": "code",
   "execution_count": 132,
   "id": "04d70c85-e4da-41e7-b461-354a993b33ad",
   "metadata": {},
   "outputs": [
    {
     "data": {
      "text/plain": [
       "[<matplotlib.lines.Line2D at 0x12da7d9d0>]"
      ]
     },
     "execution_count": 132,
     "metadata": {},
     "output_type": "execute_result"
    },
    {
     "data": {
      "image/png": "[encoded data removed]",
      "text/plain": [
       "<Figure size 432x288 with 1 Axes>"
      ]
     },
     "metadata": {
      "needs_background": "light"
     },
     "output_type": "display_data"
    }
   ],
   "source": [
    "plt.ylim(1e-4,1e1)\n",
    "plt.xlim(1e12,2e15)\n",
    "\n",
    "plt.loglog(M,LRGc+LRGs)\n",
    "plt.loglog(M,LRGc)\n",
    "plt.loglog(M,LRGs)"
   ]
  },
  {
   "cell_type": "code",
   "execution_count": 122,
   "id": "3ccc66f6-fa19-4a10-909a-ac68e7374d78",
   "metadata": {},
   "outputs": [
    {
     "data": {
      "text/plain": [
       "[<matplotlib.lines.Line2D at 0x12d6b8070>]"
      ]
     },
     "execution_count": 122,
     "metadata": {},
     "output_type": "execute_result"
    },
    {
     "data": {
      "image/png": "[encoded data removed]",
      "text/plain": [
       "<Figure size 432x288 with 1 Axes>"
      ]
     },
     "metadata": {
      "needs_background": "light"
     },
     "output_type": "display_data"
    }
   ],
   "source": [
    "plt.ylim(1e-4,1e1)\n",
    "plt.xlim(1e11,1e15)\n",
    "\n",
    "plt.loglog(M,ELGc)\n",
    "plt.loglog(M,ELGs)"
   ]
  },
  {
   "cell_type": "code",
   "execution_count": 41,
   "id": "f08c9a0c-ceb6-444d-9dc6-54eb9fab5926",
   "metadata": {},
   "outputs": [
    {
     "data": {
      "text/plain": [
       "(array([2075., 1597., 7548., 9012., 4090., 2169., 1278.,  824.,  524.,\n",
       "         354.]),\n",
       " array([10000000000.0, 109000000000.0, 208000000000.0, 307000000000.0,\n",
       "        406000000000.0, 505000000000.0, 604000000000.0, 703000000000.0,\n",
       "        802000000000.0, 901000000000.0, 1000000000000.0], dtype=object),\n",
       " <BarContainer object of 10 artists>)"
      ]
     },
     "execution_count": 41,
     "metadata": {},
     "output_type": "execute_result"
    },
    {
     "data": {
      "image/png": "[encoded data removed]",
      "text/plain": [
       "<Figure size 432x288 with 1 Axes>"
      ]
     },
     "metadata": {
      "needs_background": "light"
     },
     "output_type": "display_data"
    }
   ],
   "source": [
    "plt.hist(dfg.M200C,range=(1e10,1e12))"
   ]
  },
  {
   "cell_type": "code",
   "execution_count": null,
   "id": "8cec3963-04c2-407e-a849-373b62a6e0c5",
   "metadata": {},
   "outputs": [],
   "source": []
  },
  {
   "cell_type": "code",
   "execution_count": 52,
   "id": "91107975-10c9-4676-8652-1f57715fe127",
   "metadata": {},
   "outputs": [
    {
     "name": "stdout",
     "output_type": "stream",
     "text": [
      "nan\n",
      "nan\n"
     ]
    }
   ],
   "source": [
    "print(df.Rcom.min())\n",
    "print(df.Rcom.max())"
   ]
  },
  {
   "cell_type": "code",
   "execution_count": 12,
   "id": "f06a5e07-05e3-4f40-ac7a-ac501d393771",
   "metadata": {},
   "outputs": [
    {
     "name": "stdout",
     "output_type": "stream",
     "text": [
      "8911\n"
     ]
    }
   ],
   "source": [
    "print(len(dfg.RA.values))"
   ]
  },
  {
   "cell_type": "code",
   "execution_count": 14,
   "id": "84e5e9dc-8a93-40c9-8207-3ece46b22508",
   "metadata": {},
   "outputs": [
    {
     "data": {
      "text/plain": [
       "<matplotlib.collections.PathCollection at 0x128ff6f40>"
      ]
     },
     "execution_count": 14,
     "metadata": {},
     "output_type": "execute_result"
    },
    {
     "data": {
      "image/png": "[encoded data removed]",
      "text/plain": [
       "<Figure size 432x288 with 1 Axes>"
      ]
     },
     "metadata": {
      "needs_background": "light"
     },
     "output_type": "display_data"
    }
   ],
   "source": [
    "plt.scatter(dfg.RA.values,dfg.DEC.values)"
   ]
  },
  {
   "cell_type": "code",
   "execution_count": 156,
   "id": "7d268aac-6ec7-419a-a818-c14726f6f15f",
   "metadata": {},
   "outputs": [],
   "source": [
    "\n"
   ]
  },
  {
   "cell_type": "code",
   "execution_count": null,
   "id": "7933d920-d7e0-48c5-b936-d62b35262438",
   "metadata": {},
   "outputs": [
    {
     "ename": "SyntaxError",
     "evalue": "invalid character in identifier (249759936.py, line 1)",
     "output_type": "error",
     "traceback": [
      "\u001b[0;36m  File \u001b[0;32m\"/var/folders/3z/9mwhgs_j71j38m0rkc9_lg1r0000gn/T/ipykernel_46071/249759936.py\"\u001b[0;36m, line \u001b[0;32m1\u001b[0m\n\u001b[0;31m    £columns_names = ['IDp','ID','RA','DEC','Rcom','VX','VY','VZ','VMAX','RVIR','M200P','M200C']\u001b[0m\n\u001b[0m                 ^\u001b[0m\n\u001b[0;31mSyntaxError\u001b[0m\u001b[0;31m:\u001b[0m invalid character in identifier\n"
     ]
    }
   ],
   "source": [
    "£columns_names = ['IDp','ID','RA','DEC','Rcom','VX','VY','VZ','VMAX','RVIR','M200P','M200C']\n",
    "\n",
    "dfg = pd.DataFrame(columns=['IDp','ID','RA','DEC','Rcom','VX','VY','VZ','VMAX','RVIR','M200P','M200C'])\n",
    "#dfgC = pd.DataFrame(columns=['IDp','ID','RA','DEC','Rcom','VX','VY','VZ','VMAX','RVIR','M200P','M200C'])\n",
    "#dfgS = pd.DataFrame(columns=['IDp','ID','RA','DEC','Rcom','VX','VY','VZ','VMAX','RVIR','M200P','M200C'])\n",
    "cosmo= FlatLambdaCDM(Om0=0.3089,H0=100)\n",
    "zmin = 0.6\n",
    "zmax = 1.1\n",
    "Dmin = cosmo.comoving_distance(zmin).value\n",
    "Dmax = cosmo.comoving_distance(zmax).value\n",
    "\n",
    "path = \"/Volumes/LaCie/lightcone2_wide/\"\n",
    "files = os.listdir(path)\n",
    "\n",
    "for i in range(15,16):\n",
    "    print(files[i])\n",
    "    \n",
    "    dfgC= np.empty((1,12), dtype=\"object\")\n",
    "    dfgS= np.empty((1,12), dtype=\"object\") \n",
    "   \n",
    "    df = load_data(path+files[i])\n",
    "    df = df[(df.M200C > 6e10)]\n",
    "    dfm= df[df.PID == -1]\n",
    "    dfs = df[df.PID != -1]\n",
    "    dfm = dfm.rename(columns={\"M200C\": \"M200P\", \"ID\":\"IDp\"}) \n",
    "    dfm['M200C'] = dfm['M200P']\n",
    "    dfm = dfm.drop(columns=['RS','PID','X','Y','Z'])\n",
    "    dfs = dfs.drop(columns=['RS','X','Y','Z'])\n",
    "    dfm2 = dfm.copy()\n",
    "    dfm2 = dfm2.drop(columns=['RA','M200C','DEC','RVIR','Rcom','VX','VY','VZ','VMAX'])\n",
    "    dfs = dfs.rename(columns={\"PID\":\"IDp\"})\n",
    "    dft = dd.merge(dfm2,dfs,on=\"IDp\")\n",
    "\n",
    "    dft = dft.reset_index(drop=True)\n",
    "    dfm = dfm.reset_index(drop=True)\n",
    "    dfm['ID'] = dfm['IDp']\n",
    "\n",
    "\n",
    "    dft = dft[['IDp','ID','RA','DEC','Rcom','VX','VY','VZ','VMAX','RVIR','M200P','M200C']]\n",
    "    dfm = dfm[['IDp','ID','RA','DEC','Rcom','VX','VY','VZ','VMAX','RVIR','M200P','M200C']]\n"
   ]
  },
  {
   "cell_type": "code",
   "execution_count": 65,
   "id": "ad97b844-cabb-4c07-b5f1-fa1fea7b19af",
   "metadata": {},
   "outputs": [],
   "source": [
    "df = pd.read_parquet(\"/Volumes/LaCie/lightcone2_wide/dmsdens_1150.0.2.parquet\")\n",
    "df = df[(df.M200C > 1e11)]\n",
    "df = df.reset_index(drop=True)"
   ]
  },
  {
   "cell_type": "code",
   "execution_count": 70,
   "id": "10be48b3-558d-46ad-8451-70efcb33bca5",
   "metadata": {},
   "outputs": [],
   "source": [
    "dfm = df[df.PID == 1]\n",
    "dft = df[df.PID !=-1]"
   ]
  },
  {
   "cell_type": "code",
   "execution_count": 54,
   "id": "17863a8b-4e8e-477f-9e33-bb78dbbaeec5",
   "metadata": {},
   "outputs": [],
   "source": [
    "df.shape\n",
    "x = np.zeros((df.shape[0],2,2))"
   ]
  },
  {
   "cell_type": "code",
   "execution_count": 55,
   "id": "8bacc66b-da13-46c9-a035-f8b803b51abe",
   "metadata": {},
   "outputs": [],
   "source": [
    "df2 = df.sort_values(by=['PID','M200C'], inplace=True)"
   ]
  },
  {
   "cell_type": "code",
   "execution_count": 56,
   "id": "3cdb92f4-ebef-4176-ba9f-417b52e7491e",
   "metadata": {},
   "outputs": [],
   "source": [
    "df['tavu'] = list(x)"
   ]
  },
  {
   "cell_type": "code",
   "execution_count": 57,
   "id": "1e93644d-3e58-4018-a95d-bfdbbd5bbb9a",
   "metadata": {},
   "outputs": [
    {
     "data": {
      "text/plain": [
       "dtype('float64')"
      ]
     },
     "execution_count": 57,
     "metadata": {},
     "output_type": "execute_result"
    }
   ],
   "source": [
    "df.loc[9473,'tavu'].dtype"
   ]
  },
  {
   "cell_type": "code",
   "execution_count": 68,
   "id": "4fdf2c37-e67f-41e6-bed6-f298e734d9f9",
   "metadata": {},
   "outputs": [
    {
     "data": {
      "text/html": [
       "<div>\n",
       "<style scoped>\n",
       "    .dataframe tbody tr th:only-of-type {\n",
       "        vertical-align: middle;\n",
       "    }\n",
       "\n",
       "    .dataframe tbody tr th {\n",
       "        vertical-align: top;\n",
       "    }\n",
       "\n",
       "    .dataframe thead th {\n",
       "        text-align: right;\n",
       "    }\n",
       "</style>\n",
       "<table border=\"1\" class=\"dataframe\">\n",
       "  <thead>\n",
       "    <tr style=\"text-align: right;\">\n",
       "      <th></th>\n",
       "      <th>ID</th>\n",
       "      <th>RA</th>\n",
       "      <th>DEC</th>\n",
       "      <th>Rcom</th>\n",
       "      <th>X</th>\n",
       "      <th>Y</th>\n",
       "      <th>Z</th>\n",
       "      <th>VX</th>\n",
       "      <th>VY</th>\n",
       "      <th>VZ</th>\n",
       "      <th>VMAX</th>\n",
       "      <th>RVIR</th>\n",
       "      <th>RS</th>\n",
       "      <th>M200C</th>\n",
       "      <th>PID</th>\n",
       "    </tr>\n",
       "  </thead>\n",
       "  <tbody>\n",
       "    <tr>\n",
       "      <th>0</th>\n",
       "      <td>2628400915</td>\n",
       "      <td>-13.318614</td>\n",
       "      <td>-11.612012</td>\n",
       "      <td>753.057129</td>\n",
       "      <td>717.804749</td>\n",
       "      <td>-169.928101</td>\n",
       "      <td>-151.577820</td>\n",
       "      <td>315.158173</td>\n",
       "      <td>-243.997757</td>\n",
       "      <td>-827.237122</td>\n",
       "      <td>92.820000</td>\n",
       "      <td>108.902000</td>\n",
       "      <td>7.595000</td>\n",
       "      <td>1.089000e+11</td>\n",
       "      <td>-1</td>\n",
       "    </tr>\n",
       "    <tr>\n",
       "      <th>1</th>\n",
       "      <td>2628399281</td>\n",
       "      <td>-13.270625</td>\n",
       "      <td>-11.436415</td>\n",
       "      <td>753.187622</td>\n",
       "      <td>718.520081</td>\n",
       "      <td>-169.462036</td>\n",
       "      <td>-149.342285</td>\n",
       "      <td>367.627777</td>\n",
       "      <td>-249.774475</td>\n",
       "      <td>-713.937439</td>\n",
       "      <td>97.070000</td>\n",
       "      <td>123.086998</td>\n",
       "      <td>18.965000</td>\n",
       "      <td>1.576200e+11</td>\n",
       "      <td>-1</td>\n",
       "    </tr>\n",
       "    <tr>\n",
       "      <th>2</th>\n",
       "      <td>2628398944</td>\n",
       "      <td>-13.578683</td>\n",
       "      <td>-11.735319</td>\n",
       "      <td>756.023865</td>\n",
       "      <td>719.530823</td>\n",
       "      <td>-173.789490</td>\n",
       "      <td>-153.768372</td>\n",
       "      <td>157.166306</td>\n",
       "      <td>-138.408401</td>\n",
       "      <td>-721.567139</td>\n",
       "      <td>100.949997</td>\n",
       "      <td>121.780998</td>\n",
       "      <td>12.729000</td>\n",
       "      <td>1.533700e+11</td>\n",
       "      <td>-1</td>\n",
       "    </tr>\n",
       "    <tr>\n",
       "      <th>3</th>\n",
       "      <td>2628402803</td>\n",
       "      <td>-13.348875</td>\n",
       "      <td>-11.759485</td>\n",
       "      <td>753.135742</td>\n",
       "      <td>717.407776</td>\n",
       "      <td>-170.234314</td>\n",
       "      <td>-153.491943</td>\n",
       "      <td>310.377716</td>\n",
       "      <td>-235.314301</td>\n",
       "      <td>-948.329224</td>\n",
       "      <td>94.699997</td>\n",
       "      <td>110.997002</td>\n",
       "      <td>10.236000</td>\n",
       "      <td>1.170700e+11</td>\n",
       "      <td>-1</td>\n",
       "    </tr>\n",
       "    <tr>\n",
       "      <th>4</th>\n",
       "      <td>2628401280</td>\n",
       "      <td>-13.523503</td>\n",
       "      <td>-11.573171</td>\n",
       "      <td>757.820068</td>\n",
       "      <td>721.828979</td>\n",
       "      <td>-173.609009</td>\n",
       "      <td>-152.033264</td>\n",
       "      <td>279.108429</td>\n",
       "      <td>-119.518784</td>\n",
       "      <td>-648.091675</td>\n",
       "      <td>96.519997</td>\n",
       "      <td>112.107002</td>\n",
       "      <td>8.806000</td>\n",
       "      <td>1.223000e+11</td>\n",
       "      <td>-1</td>\n",
       "    </tr>\n",
       "    <tr>\n",
       "      <th>...</th>\n",
       "      <td>...</td>\n",
       "      <td>...</td>\n",
       "      <td>...</td>\n",
       "      <td>...</td>\n",
       "      <td>...</td>\n",
       "      <td>...</td>\n",
       "      <td>...</td>\n",
       "      <td>...</td>\n",
       "      <td>...</td>\n",
       "      <td>...</td>\n",
       "      <td>...</td>\n",
       "      <td>...</td>\n",
       "      <td>...</td>\n",
       "      <td>...</td>\n",
       "      <td>...</td>\n",
       "    </tr>\n",
       "    <tr>\n",
       "      <th>702895</th>\n",
       "      <td>3735587379</td>\n",
       "      <td>13.293330</td>\n",
       "      <td>11.368653</td>\n",
       "      <td>897.964600</td>\n",
       "      <td>856.757507</td>\n",
       "      <td>202.423584</td>\n",
       "      <td>177.007690</td>\n",
       "      <td>38.463058</td>\n",
       "      <td>2.714841</td>\n",
       "      <td>-442.670044</td>\n",
       "      <td>113.610001</td>\n",
       "      <td>124.440002</td>\n",
       "      <td>10.239000</td>\n",
       "      <td>1.586000e+11</td>\n",
       "      <td>-1</td>\n",
       "    </tr>\n",
       "    <tr>\n",
       "      <th>702896</th>\n",
       "      <td>3735587862</td>\n",
       "      <td>13.406516</td>\n",
       "      <td>11.361981</td>\n",
       "      <td>897.780457</td>\n",
       "      <td>856.200378</td>\n",
       "      <td>204.078613</td>\n",
       "      <td>176.868896</td>\n",
       "      <td>81.325569</td>\n",
       "      <td>-48.397831</td>\n",
       "      <td>-469.738098</td>\n",
       "      <td>118.889999</td>\n",
       "      <td>138.300003</td>\n",
       "      <td>15.362000</td>\n",
       "      <td>2.263000e+11</td>\n",
       "      <td>-1</td>\n",
       "    </tr>\n",
       "    <tr>\n",
       "      <th>702897</th>\n",
       "      <td>3735581113</td>\n",
       "      <td>13.373571</td>\n",
       "      <td>11.261118</td>\n",
       "      <td>899.885559</td>\n",
       "      <td>858.627747</td>\n",
       "      <td>204.135498</td>\n",
       "      <td>175.730225</td>\n",
       "      <td>69.940224</td>\n",
       "      <td>5.597090</td>\n",
       "      <td>-568.506775</td>\n",
       "      <td>168.750000</td>\n",
       "      <td>202.343994</td>\n",
       "      <td>21.962999</td>\n",
       "      <td>6.939300e+11</td>\n",
       "      <td>-1</td>\n",
       "    </tr>\n",
       "    <tr>\n",
       "      <th>702898</th>\n",
       "      <td>3735585920</td>\n",
       "      <td>13.383243</td>\n",
       "      <td>11.314965</td>\n",
       "      <td>899.251770</td>\n",
       "      <td>857.827637</td>\n",
       "      <td>204.098267</td>\n",
       "      <td>176.435242</td>\n",
       "      <td>133.056137</td>\n",
       "      <td>-42.118977</td>\n",
       "      <td>-486.652100</td>\n",
       "      <td>112.589996</td>\n",
       "      <td>145.990005</td>\n",
       "      <td>28.240999</td>\n",
       "      <td>2.534400e+11</td>\n",
       "      <td>-1</td>\n",
       "    </tr>\n",
       "    <tr>\n",
       "      <th>702899</th>\n",
       "      <td>3735590504</td>\n",
       "      <td>13.520493</td>\n",
       "      <td>11.332421</td>\n",
       "      <td>898.076050</td>\n",
       "      <td>856.163086</td>\n",
       "      <td>205.870483</td>\n",
       "      <td>176.472839</td>\n",
       "      <td>85.713432</td>\n",
       "      <td>-13.219069</td>\n",
       "      <td>-471.131104</td>\n",
       "      <td>106.449997</td>\n",
       "      <td>121.859001</td>\n",
       "      <td>8.687000</td>\n",
       "      <td>1.481400e+11</td>\n",
       "      <td>-1</td>\n",
       "    </tr>\n",
       "  </tbody>\n",
       "</table>\n",
       "<p>702900 rows × 15 columns</p>\n",
       "</div>"
      ],
      "text/plain": [
       "                ID         RA        DEC        Rcom           X           Y  \\\n",
       "0       2628400915 -13.318614 -11.612012  753.057129  717.804749 -169.928101   \n",
       "1       2628399281 -13.270625 -11.436415  753.187622  718.520081 -169.462036   \n",
       "2       2628398944 -13.578683 -11.735319  756.023865  719.530823 -173.789490   \n",
       "3       2628402803 -13.348875 -11.759485  753.135742  717.407776 -170.234314   \n",
       "4       2628401280 -13.523503 -11.573171  757.820068  721.828979 -173.609009   \n",
       "...            ...        ...        ...         ...         ...         ...   \n",
       "702895  3735587379  13.293330  11.368653  897.964600  856.757507  202.423584   \n",
       "702896  3735587862  13.406516  11.361981  897.780457  856.200378  204.078613   \n",
       "702897  3735581113  13.373571  11.261118  899.885559  858.627747  204.135498   \n",
       "702898  3735585920  13.383243  11.314965  899.251770  857.827637  204.098267   \n",
       "702899  3735590504  13.520493  11.332421  898.076050  856.163086  205.870483   \n",
       "\n",
       "                 Z          VX          VY          VZ        VMAX  \\\n",
       "0      -151.577820  315.158173 -243.997757 -827.237122   92.820000   \n",
       "1      -149.342285  367.627777 -249.774475 -713.937439   97.070000   \n",
       "2      -153.768372  157.166306 -138.408401 -721.567139  100.949997   \n",
       "3      -153.491943  310.377716 -235.314301 -948.329224   94.699997   \n",
       "4      -152.033264  279.108429 -119.518784 -648.091675   96.519997   \n",
       "...            ...         ...         ...         ...         ...   \n",
       "702895  177.007690   38.463058    2.714841 -442.670044  113.610001   \n",
       "702896  176.868896   81.325569  -48.397831 -469.738098  118.889999   \n",
       "702897  175.730225   69.940224    5.597090 -568.506775  168.750000   \n",
       "702898  176.435242  133.056137  -42.118977 -486.652100  112.589996   \n",
       "702899  176.472839   85.713432  -13.219069 -471.131104  106.449997   \n",
       "\n",
       "              RVIR         RS         M200C  PID  \n",
       "0       108.902000   7.595000  1.089000e+11   -1  \n",
       "1       123.086998  18.965000  1.576200e+11   -1  \n",
       "2       121.780998  12.729000  1.533700e+11   -1  \n",
       "3       110.997002  10.236000  1.170700e+11   -1  \n",
       "4       112.107002   8.806000  1.223000e+11   -1  \n",
       "...            ...        ...           ...  ...  \n",
       "702895  124.440002  10.239000  1.586000e+11   -1  \n",
       "702896  138.300003  15.362000  2.263000e+11   -1  \n",
       "702897  202.343994  21.962999  6.939300e+11   -1  \n",
       "702898  145.990005  28.240999  2.534400e+11   -1  \n",
       "702899  121.859001   8.687000  1.481400e+11   -1  \n",
       "\n",
       "[702900 rows x 15 columns]"
      ]
     },
     "execution_count": 68,
     "metadata": {},
     "output_type": "execute_result"
    }
   ],
   "source": [
    "df"
   ]
  },
  {
   "cell_type": "code",
   "execution_count": 10,
   "id": "038230be-dcbd-4fbe-b766-45b516e4b8b1",
   "metadata": {},
   "outputs": [],
   "source": [
    "df2 = df.groupby(['PID'])"
   ]
  },
  {
   "cell_type": "code",
   "execution_count": 14,
   "id": "b80f4447-8596-4b40-9cdd-8d9befe6c071",
   "metadata": {},
   "outputs": [
    {
     "ename": "AttributeError",
     "evalue": "'DataFrameGroupBy' object has no attribute 'unique'",
     "output_type": "error",
     "traceback": [
      "\u001b[0;31m---------------------------------------------------------------------------\u001b[0m",
      "\u001b[0;31mAttributeError\u001b[0m                            Traceback (most recent call last)",
      "\u001b[0;32m/var/folders/3z/9mwhgs_j71j38m0rkc9_lg1r0000gn/T/ipykernel_46071/817241515.py\u001b[0m in \u001b[0;36m<module>\u001b[0;34m\u001b[0m\n\u001b[0;32m----> 1\u001b[0;31m \u001b[0mdf2\u001b[0m\u001b[0;34m.\u001b[0m\u001b[0munique\u001b[0m\u001b[0;34m(\u001b[0m\u001b[0;34m)\u001b[0m\u001b[0;34m\u001b[0m\u001b[0;34m\u001b[0m\u001b[0m\n\u001b[0m",
      "\u001b[0;32m/usr/local/lib/python3.8/site-packages/pandas/core/groupby/groupby.py\u001b[0m in \u001b[0;36m__getattr__\u001b[0;34m(self, attr)\u001b[0m\n\u001b[1;32m    902\u001b[0m             \u001b[0;32mreturn\u001b[0m \u001b[0mself\u001b[0m\u001b[0;34m[\u001b[0m\u001b[0mattr\u001b[0m\u001b[0;34m]\u001b[0m\u001b[0;34m\u001b[0m\u001b[0;34m\u001b[0m\u001b[0m\n\u001b[1;32m    903\u001b[0m \u001b[0;34m\u001b[0m\u001b[0m\n\u001b[0;32m--> 904\u001b[0;31m         raise AttributeError(\n\u001b[0m\u001b[1;32m    905\u001b[0m             \u001b[0;34mf\"'{type(self).__name__}' object has no attribute '{attr}'\"\u001b[0m\u001b[0;34m\u001b[0m\u001b[0;34m\u001b[0m\u001b[0m\n\u001b[1;32m    906\u001b[0m         )\n",
      "\u001b[0;31mAttributeError\u001b[0m: 'DataFrameGroupBy' object has no attribute 'unique'"
     ]
    }
   ],
   "source": [
    "df2.unique()"
   ]
  },
  {
   "cell_type": "raw",
   "id": "8e082417-050f-417b-b6a4-1d1f9d97e56d",
   "metadata": {},
   "source": [
    "dftt = pd.concat([dfm,dft])"
   ]
  },
  {
   "cell_type": "code",
   "execution_count": 366,
   "id": "ca3a45b6-9c6f-4c82-b4bf-1dee6d86d537",
   "metadata": {},
   "outputs": [
    {
     "data": {
      "text/plain": [
       "(10093318, 12)"
      ]
     },
     "execution_count": 366,
     "metadata": {},
     "output_type": "execute_result"
    }
   ],
   "source": [
    "dftt.shape"
   ]
  },
  {
   "cell_type": "code",
   "execution_count": 368,
   "id": "0372740e-154e-4f48-9d3a-8c1bee579846",
   "metadata": {},
   "outputs": [],
   "source": [
    "t = Table.from_pandas(dftt)\n",
    "t.write('/Users/rpaviot/catalog_uchuu_for_fits', format='fits',overwrite=True)"
   ]
  },
  {
   "cell_type": "code",
   "execution_count": null,
   "id": "b28fa949-de76-4f49-91b4-6a22231ab3c0",
   "metadata": {},
   "outputs": [],
   "source": []
  }
 ],
 "metadata": {
  "kernelspec": {
   "display_name": "Python 3 (ipykernel)",
   "language": "python",
   "name": "python3"
  },
  "language_info": {
   "codemirror_mode": {
    "name": "ipython",
    "version": 3
   },
   "file_extension": ".py",
   "mimetype": "text/x-python",
   "name": "python",
   "nbconvert_exporter": "python",
   "pygments_lexer": "ipython3",
   "version": "3.8.12"
  }
 },
 "nbformat": 4,
 "nbformat_minor": 5
}
