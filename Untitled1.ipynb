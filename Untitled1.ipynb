{
 "cells": [
  {
   "cell_type": "code",
   "execution_count": 7,
   "id": "54bd6184-eea4-4ccd-bdd1-0dbbd4d1e67f",
   "metadata": {},
   "outputs": [],
   "source": [
    "import numpy as np\n",
    "import pandas as pd\n",
    "from astropy.table import Table\n",
    "from astropy.cosmology import FlatLambdaCDM\n",
    "import treecorr\n",
    "import matplotlib.pyplot as plt\n",
    "import matplotlib.gridspec as gridspec\n"
   ]
  },
  {
   "cell_type": "code",
   "execution_count": 8,
   "id": "073b7e41-f88b-4677-80eb-c14a8740b026",
   "metadata": {},
   "outputs": [],
   "source": [
    "class lensingPCF:\n",
    "    def __init__(self,*args,**qwargs):\n",
    "\n",
    "        \"\"\"Init : First catalog: shear catalog, second catalog clustering catalog\"\"\"\n",
    "        self.Om =  qwargs['Om0']\n",
    "        cosmo = FlatLambdaCDM(Om0=self.Om,H0=100)\n",
    "\n",
    "        self.z = None\n",
    "        self.z2 = None\n",
    "\n",
    "        self.ra =  qwargs['RA']\n",
    "        self.dec =  qwargs['DEC']\n",
    "        self.w =  qwargs['W'] \n",
    "        self.g1 = qwargs['g1']\n",
    "        self.g2 = qwargs['g2']\n",
    "    \n",
    "        if 'Z' in qwargs:\n",
    "            self.z =  qwargs['Z']\n",
    "            self.Dc = cosmo.comoving_distance(self.z).value\n",
    "\n",
    "        if 'RA2' in qwargs:\n",
    "            self.ra2 =  qwargs['RA2']\n",
    "            self.dec2 =  qwargs['DEC2']\n",
    "            self.w2 =  qwargs['W2'] \n",
    "            self.corr = \"cross\"\n",
    "            if 'Z2' in qwargs:\n",
    "                self.z2 =  qwargs['Z2']\n",
    "                self.Dc2 = cosmo.comoving_distance(self.z2).value\n",
    "        else :\n",
    "            self.corr = \"auto\"\n",
    "\n",
    "        if self.corr == \"auto\" and self.z is None:\n",
    "            self.data1 = treecorr.Catalog(ra=self.ra,dec=self.dec,g1=self.g1,g2=self.g2,w = self.w,ra_units=\"deg\",dec_units=\"deg\")\n",
    "            self.varg = treecorr.calculateVarG(self.data1)       \n",
    "\n",
    "        elif self.corr == \"cross\" and self.z is None:\n",
    "            self.data1 = treecorr.Catalog(ra=self.ra,dec=self.dec,g1=self.g1,g2=self.g2,w = self.w,ra_units=\"deg\",dec_units=\"deg\")\n",
    "            self.data2 = treecorr.Catalog(ra=self.ra2,dec=self.dec2,w = self.w2,ra_units=\"deg\",dec_units=\"deg\")\n",
    "            self.varg = treecorr.calculateVarG(self.data1)       \n",
    "\n",
    "        elif self.corr == \"cross\" and self.z is not None:\n",
    "            self.data1 = treecorr.Catalog(ra=self.ra,dec=self.dec,r=self.Dc,g1=self.g1,g2=self.g2,w = self.w,ra_units=\"deg\",dec_units=\"deg\")\n",
    "            self.data2 = treecorr.Catalog(ra=self.ra2,dec=self.dec2,r=self.Dc2,w=self.w2,ra_units=\"deg\",dec_units=\"deg\")\n",
    "            self.varg = treecorr.calculateVarG(self.data1)       \n",
    "            \n",
    "\n",
    "    def set_random(self,*args,**qwargs):\n",
    "        self.ra_r =  qwargs['RA_r']\n",
    "        self.dec_r =  qwargs['DEC_r']\n",
    "        self.w_r =  qwargs['W_r']        \n",
    "        if 'Z_r' in qwargs:\n",
    "            self.z_r =  qwargs['Z_r']\n",
    "            self.dc_r = self.cosmo.comoving_distance(self.z_r).value\n",
    "        else :\n",
    "            self.dc_r = qwargs['Dc_r']\n",
    "        self.rand1 = treecorr.Catalog(ra=self.ra_r,dec=self.dec_r,r=self.dc_r,w=self.w_r,ra_units=\"degree\",dec_units=\"degree\",is_rand=1)\n",
    "        if 'RA_r2' in qwargs:\n",
    "            self.ra_r2 =  qwargs['RA_r2']\n",
    "            self.dec_r2 =  qwargs['DEC_r2']\n",
    "            self.w_r2 =  qwargs['W_r2']        \n",
    "            if 'Z_r2' in qwargs:\n",
    "                self.z_r2 =  qwargs['Z_r2']\n",
    "                self.dc_r2 = self.cosmo.comoving_distance(self.z_r).value\n",
    "            else :\n",
    "                self.dc_r2 = qwargs['Dc_r2']\n",
    "            self.rand2 = treecorr.Catalog(ra=self.ra_r2,dec=self.dec_r2,r=self.dc_r2,w=self.w_r2,ra_units=\"degree\",dec_units=\"degree\",is_rand=1)\n",
    "        else :\n",
    "            self.rand2 = self.rand1\n",
    "\n",
    "\n",
    "    def compute_norm(self):\n",
    "        \"\"\"Compute normalization without duplicates (only for ra now)\"\"\"\n",
    "        \"\"\"When both are identical, this is equivalent to DD normalisation: sum(wD)**2 - sum(wD**2)\"\"\"\n",
    "        \"\"\"When both are uniques, this is equivalent to DR normalisation: sum(wD)*sum(wR)\"\"\"\n",
    "        intersection_data,ind1,ind2 = np.intersect1d(self.ra,self.ra2,return_indices=True)\n",
    "        intersection_rand,indr1,indr2 = np.intersect1d(self.ra_r,self.ra_r2,return_indices=True)\n",
    "\n",
    "        w_int_d1 = self.w[ind1]\n",
    "        w_int_d2 = self.w2[ind2]\n",
    "        \n",
    "        w_int_r1 = self.w_r[indr1]\n",
    "        w_int_r2 = self.w_r2[indr2]\n",
    "\n",
    "        self.ngnorm = self.data1.sumw*self.data2.sumw - np.sum(w_int_d1*w_int_d2)\n",
    "        self.rrnorm = self.rand1.sumw*self.rand2.sumw - np.sum(w_int_r1*w_int_r2)\n",
    "        self.rgnorm = self.data1.sumw*self.rand2.sumw\n",
    "        \n",
    "        self.factor1 = self.ngnorm/self.rgnorm\n",
    "        self.factor2 = self.ngnorm/self.rrnorm\n",
    "        self.factor3 = self.rgnorm/self.rrnorm\n",
    "\n",
    "\n",
    "    def shear(self,min,max,nbins):\n",
    "        ss = treecorr.GGCorrelation(bin_type='Log',min_sep=min, max_sep=max, nbins=nbins, sep_units='arcmin')\n",
    "        if self.corr == \"auto\":\n",
    "            ss.process(self.data1)\n",
    "        elif self.corr == \"cross\":\n",
    "            ss.process_cross(self.data1,self.data2)\n",
    "        theta = ss.meanr\n",
    "        xip = ss.xip\n",
    "        xim = ss.xim\n",
    "        return theta,xip,xim\n",
    "\n",
    "    def galaxy_lensing(self,min,max,nbins):\n",
    "        print(min,max)\n",
    "        \"\"\"Distances sources > Distances lens + 1 Mpc \"\"\"\n",
    "        if self.z is None :\n",
    "            ng = treecorr.NGCorrelation(bin_type='Log',nbins=nbins,min_sep=min,max_sep=max,sep_units=\"degree\")#min_rpar=0)\n",
    "        else :\n",
    "            ng = treecorr.NGCorrelation(bin_type='Log',nbins=nbins,min_sep=min,max_sep=max,min_rpar=1,metric=\"Rperp\")\n",
    "            \n",
    "        ng.process(self.data2,self.data1) \n",
    "        #ng.finalize(self.varg)\n",
    "        xi = ng.xi\n",
    "        xix = ng.xi_im\n",
    "        var = ng.varxi\n",
    "        meanr = ng.meanr\n",
    "        mean_logr = ng.meanlogr\n",
    "\n",
    "        return meanr,mean_logr,xi,xix,var\n",
    "\n",
    "    def IA_clustering(self,min,max,nbins,pimax):\n",
    "        \"\"\"Treecorr provides 2D counts computation but only for linear bins here we compute xi(rp,pi) by looping over radial distance instead\"\"\"\n",
    "        \"\"\"10 Mpc pi bins like in the litterature\"\"\"\n",
    "        pi = np.linspace(0,pimax,int(pimax/10)+1)\n",
    "        dpi = pi[1] - pi[0]\n",
    "\n",
    "        xirppi_t = np.zeros((nbins-1,len(pi)-1))\n",
    "        xirppi_x = np.zeros((nbins-1,len(pi)-1))\n",
    "        varg_2d = np.zeros((nbins-1,len(pi)-1))\n",
    "        meanr_2d = np.zeros((nbins-1,len(pi)-1))\n",
    "        meanlogr_2d = np.zeros((nbins-1,len(pi)-1))\n",
    "\n",
    "\n",
    "        for i in range(0,len(pi)):\n",
    "            pi_min = pi[i]\n",
    "            pi_max = pi[i] + dpi\n",
    "            ng = treecorr.NGCorrelation(bin_type='Log',nbins=nbins,min_sep=min,max_sep=max, sep_units='degree',min_rpar=pi_min,max_rpar=pi_max)\n",
    "            rg = treecorr.NGCorrelation(bin_type='Log',nbins=nbins,min_sep=min,max_sep=max, sep_units='degree',min_rpar=pi_min,max_rpar=pi_max)\n",
    "            ng.process_cross(self.data1,self.data2)\n",
    "            rg.process_cross(self.data1,self.rand2)\n",
    "            ng.varxi = self.varg\n",
    "\n",
    "            rr = treecorr.NNCorrelation(bin_type='Log',nbins=nbins,min_sep=min,max_sep=max, sep_units='degree',min_rpar=pi_min,max_rpar=pi_max)\n",
    "            rr.process_cross(self.rand1,self.rand2)\n",
    "            norm1 = rr.weight*self.factor2\n",
    "            norm2 = rr.weight*self.factor3\n",
    "\n",
    "            xirppi_t[i] += (ng.xi/norm1) - (rg.xi/norm2)\n",
    "            xirppi_x[i] += (ng.xi_im/norm1) - (rg.xi_im/norm2)\n",
    "            varg_2d[i] += (ng.varxi/norm1) + (rg.varxi/norm2)\n",
    "            meanr_2d[i] += ng.meanr\n",
    "            meanlogr_2d[i] += ng.meanlogr\n",
    "\n",
    "        xit = np.sum(xirppi_t*dpi,axis=0)\n",
    "        xip = np.sum(xirppi_x*dpi,axis=0)\n",
    "        #DD_2d[i] += ng.npairs\n",
    "        #DS_2D[i] += ng.weights\n",
    "        varg = np.sum(varg_2d,axis=0)\n",
    "        meanr = np.sum(meanr_2d,axis=0)\n",
    "        meanlogr = np.sum(meanlogr_2d,axis=0)\n",
    "\n",
    "        return ng.rnom,meanr,meanlogr,xit,xip,varg"
   ]
  },
  {
   "cell_type": "code",
   "execution_count": 9,
   "id": "bb072703-5a71-477a-865f-0b6b28496b41",
   "metadata": {},
   "outputs": [],
   "source": [
    "pathELG=\"/Users/rpaviot/eBOSSxDES/faizan/elg/eBOSS_ELG_SGC_pip_v7.dat.fits\"\n",
    "\n",
    "Tc = Table.read(pathELG)\n",
    "cond = np.where((Tc['CLUSTERING']==1) & (Tc['Z'] > 0.6) & (Tc['Z'] < 1.1))\n",
    "Tc = Tc[cond]\n",
    "ra_lens = Tc['RA'].value\n",
    "dec_lens = Tc['DEC'].value\n",
    "z_lens = Tc['Z'].value\n",
    "w_lens = (Tc['WEIGHT_SYSTOT']*Tc['WEIGHT_FKP']*Tc['WEIGHT_NOZ']* Tc['WEIGHT_CP']).value\n",
    "\n",
    "\n",
    "\n",
    "T = Table.read(\"/Volumes/LaCie/y3_eboss_overlap/desy3.fits\")\n",
    "T = T.to_pandas()\n",
    "\n",
    "T = T[T.z_zmc > 0.6]\n",
    "#z_zmc','z_mean','g1','g2','w'\n",
    "ra_s = T['ra'].values\n",
    "dec_s = T['dec'].values\n",
    "z_s = T['z_zmc'].values\n",
    "z_s2 = T['z_mean'].values\n",
    "g1_s = T['g1'].values\n",
    "g2_s = T['g2'].values\n",
    "w_s = T['w'].values\n",
    "\n",
    "condang = ra_s > 180\n",
    "ra_s[condang]=ra_s[condang]-360\n",
    "\n",
    "bounds = np.array([ra_s.min(),ra_s.max(),dec_s.min(),dec_s.max()])\n",
    "\n",
    "condang = ra_lens > 180\n",
    "ra_lens = np.copy(ra_lens)\n",
    "ra_lens[condang]=ra_lens[condang]-360\n",
    "\n",
    "condg = np.where((ra_lens > bounds[0]) & (ra_lens < bounds[1]) & (dec_lens > bounds[2]) & (dec_lens < bounds[3]))\n",
    "\n",
    "\n",
    "ra_lens  = ra_lens[condg]\n",
    "dec_lens = dec_lens[condg]\n",
    "z_lens = z_lens[condg]\n",
    "w_lens = w_lens[condg]\n",
    "\n",
    "condang = ra_s < 0\n",
    "ra_s[condang]=ra_s[condang]+360\n",
    "condang = ra_lens < 0\n",
    "ra_lens[condang]=ra_lens[condang]+360\n",
    "\n",
    "del T"
   ]
  },
  {
   "cell_type": "code",
   "execution_count": null,
   "id": "fd1a43d3-4123-47ee-bd5c-5cd8af127318",
   "metadata": {},
   "outputs": [],
   "source": [
    "corr = lensingPCF(Om0=0.3089,RA=ra_s,DEC=dec_s,W=w_s,g1=g1_s,g2=g2_s,RA2=ra_lens,DEC2=dec_lens,W2=w_lens)"
   ]
  },
  {
   "cell_type": "code",
   "execution_count": 5,
   "id": "d7d4520c-fe46-4a27-bfd1-4065c5b08eaa",
   "metadata": {},
   "outputs": [
    {
     "ename": "NameError",
     "evalue": "name 'corr' is not defined",
     "output_type": "error",
     "traceback": [
      "\u001b[0;31m---------------------------------------------------------------------------\u001b[0m",
      "\u001b[0;31mNameError\u001b[0m                                 Traceback (most recent call last)",
      "\u001b[0;32m/var/folders/3z/9mwhgs_j71j38m0rkc9_lg1r0000gn/T/ipykernel_49947/1503380142.py\u001b[0m in \u001b[0;36m<module>\u001b[0;34m\u001b[0m\n\u001b[0;32m----> 1\u001b[0;31m \u001b[0mcorr\u001b[0m\u001b[0;34m.\u001b[0m\u001b[0mdata1\u001b[0m\u001b[0;34m.\u001b[0m\u001b[0mra\u001b[0m\u001b[0;34m\u001b[0m\u001b[0;34m\u001b[0m\u001b[0m\n\u001b[0m",
      "\u001b[0;31mNameError\u001b[0m: name 'corr' is not defined"
     ]
    }
   ],
   "source": [
    "corr.data1.ra"
   ]
  },
  {
   "cell_type": "code",
   "execution_count": null,
   "id": "69acbbf4-31b1-48a2-9948-e996b5300d5c",
   "metadata": {},
   "outputs": [],
   "source": [
    "corr = lensingPCF(Om0=0.3089,RA=ra_s,DEC=dec_s,Z=z_s,W=w_s \\\n",
    "                  ,g1=g1_s,g2=g2_s,RA2=ra_lens,DEC2=dec_lens,Z2=z_lens,W2=w_lens)"
   ]
  },
  {
   "cell_type": "code",
   "execution_count": null,
   "id": "29caa79d-cb5b-4d71-a23f-81ec66cfa5ee",
   "metadata": {},
   "outputs": [],
   "source": [
    "r1,r2,xi,xim,var = corr.galaxy_lensing(1e-2,1,6)"
   ]
  },
  {
   "cell_type": "code",
   "execution_count": null,
   "id": "4a9c0b71-166e-4c29-bacf-d6d7a2ec3397",
   "metadata": {},
   "outputs": [],
   "source": [
    "xi"
   ]
  },
  {
   "cell_type": "code",
   "execution_count": null,
   "id": "2bf9fffb-0b8e-41da-b357-7b4df8226fc7",
   "metadata": {},
   "outputs": [],
   "source": [
    "plt.loglog(r1,xi)"
   ]
  },
  {
   "cell_type": "code",
   "execution_count": 11,
   "id": "36dc34d8-54f3-4f07-82d1-01d324071e4b",
   "metadata": {},
   "outputs": [],
   "source": [
    "cosmo = FlatLambdaCDM(Om0=0.31,H0=100)"
   ]
  },
  {
   "cell_type": "code",
   "execution_count": 12,
   "id": "ec02b9a0-e83d-4562-a951-fcf308fdd108",
   "metadata": {},
   "outputs": [],
   "source": [
    "Dc = cosmo.comoving_distance(z_s).value\n",
    "Dclens = cosmo.comoving_distance(z_lens).value"
   ]
  },
  {
   "cell_type": "code",
   "execution_count": 13,
   "id": "59fcc16b-afeb-4ad6-8d2b-7b50816d36a3",
   "metadata": {},
   "outputs": [],
   "source": [
    "cat_l = treecorr.Catalog(\n",
    "    ra=ra_lens, dec=dec_lens,r=Dclens,\n",
    "    w=w_lens,ra_units='deg', dec_units='deg')\n",
    "\n",
    "cat_s = treecorr.Catalog(\n",
    "    ra=ra_s, dec=dec_s, g1=g1_s,\n",
    "    g2=g2_s,r = Dc,\n",
    "    w=w_s,ra_units='deg', dec_units='deg')"
   ]
  },
  {
   "cell_type": "code",
   "execution_count": null,
   "id": "fd092a99-a042-4bd0-b746-6c2a26cf6189",
   "metadata": {},
   "outputs": [],
   "source": [
    "plt.hist(Dc)"
   ]
  },
  {
   "cell_type": "code",
   "execution_count": 45,
   "id": "d555c1a5-3592-406c-826b-f5bf319eb7a7",
   "metadata": {},
   "outputs": [],
   "source": [
    "corr = treecorr.NGCorrelation(bin_type='Log',nbins=9,min_sep=2e-1,\n",
    "                                          max_sep=30,min_rpar=10,metric=\"Rperp\")\n",
    "corr.process(cat_l,cat_s)\n",
    "#corr.process_cross(cat_l,cat_s)\n"
   ]
  },
  {
   "cell_type": "code",
   "execution_count": 43,
   "id": "a0a0e388-1e15-42f8-b3da-e7bf988fe552",
   "metadata": {},
   "outputs": [
    {
     "data": {
      "text/plain": [
       "array([2.84337641e-03, 1.50227423e-04, 1.23891372e-04, 3.30523977e-04,\n",
       "       1.49431141e-04, 3.70359325e-05, 1.00595931e-04, 7.83164095e-05,\n",
       "       2.32497808e-05])"
      ]
     },
     "execution_count": 43,
     "metadata": {},
     "output_type": "execute_result"
    }
   ],
   "source": [
    "corr.xi/corr.weight"
   ]
  },
  {
   "cell_type": "code",
   "execution_count": 44,
   "id": "22060f59-a9e3-4f4a-817b-155ac7da416c",
   "metadata": {},
   "outputs": [
    {
     "data": {
      "text/plain": [
       "array([-1.76828973e+06, -2.89345983e+06, -1.97656540e+06,  1.34755019e+07,\n",
       "        9.79363717e+07,  4.66873712e+08,  1.93360306e+09,  7.39152989e+09,\n",
       "        2.67600711e+10])"
      ]
     },
     "execution_count": 44,
     "metadata": {},
     "output_type": "execute_result"
    }
   ],
   "source": [
    "corr.meanlogr"
   ]
  },
  {
   "cell_type": "code",
   "execution_count": 15,
   "id": "bccd881e-962b-47d8-a355-c4ab78bd3b63",
   "metadata": {},
   "outputs": [],
   "source": [
    "varg = corr.varxi"
   ]
  },
  {
   "cell_type": "code",
   "execution_count": 41,
   "id": "0ab90ddd-ff78-4ce4-99ab-38991738acd2",
   "metadata": {},
   "outputs": [
    {
     "name": "stderr",
     "output_type": "stream",
     "text": [
      "/var/folders/3z/9mwhgs_j71j38m0rkc9_lg1r0000gn/T/ipykernel_49947/1998495708.py:2: RuntimeWarning: overflow encountered in power\n",
      "  np.e**(corr.meanlogr)\n"
     ]
    },
    {
     "data": {
      "text/plain": [
       "array([ 0.,  0.,  0., inf, inf, inf, inf, inf, inf])"
      ]
     },
     "execution_count": 41,
     "metadata": {},
     "output_type": "execute_result"
    }
   ],
   "source": [
    "#corr.meanr\n",
    "np.e**(corr.meanlogr)"
   ]
  },
  {
   "cell_type": "code",
   "execution_count": 38,
   "id": "0b967346-7f59-40d6-9dfd-859016fe7b06",
   "metadata": {},
   "outputs": [
    {
     "data": {
      "text/plain": [
       "[<matplotlib.lines.Line2D at 0x129512c10>]"
      ]
     },
     "execution_count": 38,
     "metadata": {},
     "output_type": "execute_result"
    },
    {
     "data": {
      "image/png": "[encoded data removed]",
      "text/plain": [
       "<Figure size 864x360 with 1 Axes>"
      ]
     },
     "metadata": {
      "needs_background": "light"
     },
     "output_type": "display_data"
    }
   ],
   "source": [
    "plt.rc('font',family='serif')\n",
    "fig = plt.figure(figsize=(12,5))\n",
    "gs = gridspec.GridSpec(1, 2)\n",
    "gs.update(hspace=0 ,wspace=0.2)\n",
    "ax = fig.add_subplot(gs[0])\n",
    "ax.set_xscale('log')\n",
    "ax.set_yscale('log')\n",
    "plt.errorbar(corr.meanr,corr.xi/corr.weight,fmt=\"o\",yerr=varg**0.5,capthick=1,elinewidth=1,capsize=2,zorder=10)\n",
    "\n",
    "plt.plot(corr.meanr,corr.xi/corr.weight)\n"
   ]
  },
  {
   "cell_type": "code",
   "execution_count": null,
   "id": "a7f6e6bd-6d0e-4d21-8ac9-30cbdf186c15",
   "metadata": {},
   "outputs": [],
   "source": [
    "print(corr.xi.shape)"
   ]
  },
  {
   "cell_type": "code",
   "execution_count": null,
   "id": "c28ddfe2-cc55-43e0-abbd-c204cb3f3467",
   "metadata": {},
   "outputs": [],
   "source": []
  }
 ],
 "metadata": {
  "kernelspec": {
   "display_name": "Python 3 (ipykernel)",
   "language": "python",
   "name": "python3"
  },
  "language_info": {
   "codemirror_mode": {
    "name": "ipython",
    "version": 3
   },
   "file_extension": ".py",
   "mimetype": "text/x-python",
   "name": "python",
   "nbconvert_exporter": "python",
   "pygments_lexer": "ipython3",
   "version": "3.8.12"
  }
 },
 "nbformat": 4,
 "nbformat_minor": 5
}
