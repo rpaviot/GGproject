{
 "cells": [
  {
   "cell_type": "code",
   "execution_count": null,
   "id": "db9b327b-241a-4f21-9d53-97644d1cdbb9",
   "metadata": {},
   "outputs": [],
   "source": [
    "import sys\n",
    "##sys.path.append('/feynman/home/dap/lceg/rp269101/.local/lib/python3.6/site-packages')\n",
    "##sys.path.append('/usr/lib64/python3.6/site-packages')\n",
    "import pandas as pd\n",
    "import numpy as np\n",
    "import matplotlib.pyplot as plt\n",
    "import dask.dataframe as dd\n",
    "from random import randint\n",
    "from astropy.io import fits,ascii\n",
    "from astropy.table import Table\n",
    "from astropy.cosmology import FlatLambdaCDM\n",
    "from scipy.special import erfc,erf\n",
    "#from mpmath import erf\n",
    "import dask\n",
    "from scipy.integrate import simps\n",
    "pd.options.mode.chained_assignment = None\n",
    "from astropy.cosmology import FlatLambdaCDM\n",
    "import functools\n",
    "import os\n",
    "from astropy.cosmology import z_at_value\n",
    "import astropy.units as u\n",
    "import random\n",
    "p = 0.01  \n",
    "import time\n",
    "from scipy.interpolate import CubicSpline as CS\n",
    "import PCF\n",
    "import make_HOD\n",
    "from numpy.random import default_rng\n",
    "rng = default_rng()\n",
    "rng2 = default_rng()"
   ]
  },
  {
   "cell_type": "code",
   "execution_count": null,
   "id": "f522b7f4-562c-4ea3-aaba-0ae4ffa824b2",
   "metadata": {},
   "outputs": [],
   "source": [
    "## CMASS parameter\n",
    "logMmin = 13.08\n",
    "logM1 = 14.00\n",
    "logM0 = 13.077\n",
    "sigmalog = 0.596\n",
    "alpha = 1.0127\n",
    "Mmin = 10**logMmin\n",
    "M1 = 10**logM1\n",
    "M0 = 10**logM0\n",
    "\n",
    "\n",
    "#ELG parameter\n",
    "Ac = 0.00537\n",
    "As = 0.005301\n",
    "mu = 11.515\n",
    "logM0e = mu - 0.05\n",
    "logM1e = mu + 0.35\n",
    "M0e = 10**logM0e\n",
    "M1e = 10**logM1e\n",
    "sigmae = 0.08\n",
    "alphae = 0.9\n",
    "gammae = -1.4\n",
    "\n",
    "def HOD_centrals(M):\n",
    "    Ncen = (1./2.)*(1 + erf(np.log(M/Mmin)/sigmalog))\n",
    "    return Ncen\n",
    "\n",
    "def HOD_sattelite(M):\n",
    "    if (M > M0):\n",
    "        Ncen = HOD_centrals(M)\n",
    "        Nsat=Ncen*((M - M0)/M1)**(alpha)\n",
    "    else :\n",
    "        Nsat=0.0\n",
    "    return Nsat\n",
    "\n",
    "def HOD_central_ELG(M):\n",
    "    x = np.log10(M)\n",
    "    if (x < mu):\n",
    "        Ncen = Ac/(np.sqrt(2*np.pi)*sigmae)*np.exp(-((x - mu)**2)/(2*sigmae**2))\n",
    "    else:\n",
    "        Ncen= Ac/(np.sqrt(2*np.pi)*sigmae)*(M/(10**mu))**(gammae)\n",
    "\n",
    "    return Ncen\n",
    "\n",
    "\n",
    "def HOD_sattelite_ELG(M):\n",
    "    if (M > M0e):\n",
    "        Nsat=As*((M - M0e)/M1e)**(alphae)\n",
    "    else :\n",
    "        Nsat=0.0\n",
    "    return Nsat\n",
    "\n",
    "\n",
    "\n",
    "\n",
    "\n",
    "def random_sample(side):\n",
    "    return np.random.uniform(side)\n",
    "\n",
    "\n",
    "\n",
    "\n",
    "HOD_sattelitev = np.vectorize(HOD_sattelite)\n",
    "HOD_sattelite_ELGv = np.vectorize(HOD_sattelite_ELG)\n",
    "HOD_central_ELGv = np.vectorize(HOD_central_ELG)"
   ]
  },
  {
   "cell_type": "code",
   "execution_count": null,
   "id": "36910c3f-d0df-4fd2-b306-1963f2d89151",
   "metadata": {},
   "outputs": [],
   "source": [
    "M = np.geomspace(8e10,1e15,500)\n",
    "HOD_ELGc = HOD_central_ELGv(M)\n",
    "HOD_ELGs = HOD_sattelite_ELGv(M)\n",
    "spline_ELGc = CS(M,HOD_ELGc)"
   ]
  },
  {
   "cell_type": "code",
   "execution_count": null,
   "id": "bcc0b4b7-e2ae-482f-923e-90648f5846bd",
   "metadata": {},
   "outputs": [],
   "source": [
    "cosmo = FlatLambdaCDM(Om0=0.3089,H0=100)"
   ]
  },
  {
   "cell_type": "code",
   "execution_count": null,
   "id": "1df906ce-df59-4821-9922-9453bf8aa74b",
   "metadata": {},
   "outputs": [],
   "source": [
    "pipeline = make_HOD.clustering_catalog('/Volumes/LaCie/lightcone2_wide/')"
   ]
  },
  {
   "cell_type": "code",
   "execution_count": null,
   "id": "00c6c86d-0dd7-4ba2-a9e7-cf5a56ade435",
   "metadata": {},
   "outputs": [],
   "source": [
    "dfm,dft= pipeline.get_catalog()"
   ]
  },
  {
   "cell_type": "code",
   "execution_count": null,
   "id": "5e372ea9-99fd-44b5-8171-d60d972f63b5",
   "metadata": {},
   "outputs": [],
   "source": [
    "dfm"
   ]
  },
  {
   "cell_type": "code",
   "execution_count": null,
   "id": "b2bdc670-90b6-4590-bb99-1d2bb0e4ca1e",
   "metadata": {},
   "outputs": [],
   "source": [
    "arr = np.array([dft.IDp,dft.M200P]).T\n",
    "halou,indices,counts = np.unique(arr,return_index=True,return_counts=True,axis=0)\n",
    "IDp = halou[:,0].astype('int64')\n",
    "Mh_u = halou[:,1]\n",
    "\n",
    "\n",
    "dfgC = pd.DataFrame(columns=['IDp','ID','RA','DEC','Rcom','VX','VY','VZ','VMAX','RVIR','M200P','M200C'])\n",
    "dfgS = pd.DataFrame(columns=['IDp','ID','RA','DEC','Rcom','VX','VY','VZ','VMAX','RVIR','M200P','M200C'])\n"
   ]
  },
  {
   "cell_type": "code",
   "execution_count": null,
   "id": "aa17f560-1cda-45f4-9d89-5be4dd3e9e00",
   "metadata": {},
   "outputs": [],
   "source": [
    "%%time\n",
    "\n",
    "probC = spline_ELGc(dfm.M200C)\n",
    "array = np.ones(probC.size,dtype=int)\n",
    "Nc = rng.binomial(array,probC)\n",
    "\n",
    "cond = Nc > 0\n",
    "dfm = dfm[cond]\n",
    "dfgC=pd.concat([dfgC,dfm],axis=0)\n",
    "\n"
   ]
  },
  {
   "cell_type": "code",
   "execution_count": null,
   "id": "12671a55-47b9-4ec6-86b9-0097324c99f9",
   "metadata": {},
   "outputs": [],
   "source": [
    "%%time\n",
    "probS = HOD_sattelite_ELGv(Mh_u)\n",
    "Ns = rng2.poisson(probS)\n",
    "cond = Ns > 0\n",
    "#print(len(Mh_u))\n",
    "IDp = IDp[cond]\n",
    "Mh_u = Mh_u[cond]\n",
    "counts = counts[cond]\n",
    "Ns = Ns[cond]\n"
   ]
  },
  {
   "cell_type": "code",
   "execution_count": null,
   "id": "4904321d-1d61-4118-885e-12e7b1da3879",
   "metadata": {},
   "outputs": [],
   "source": [
    "%%time\n",
    "                    \n",
    "dfgS = pd.DataFrame(columns=['IDp','ID','RA','DEC','Rcom','VX','VY','VZ','VMAX','RVIR','M200P','M200C'])\n",
    "\n",
    "for j in range(0,len(Mh_u)):\n",
    "    #cond = np.where(dft[:,0].astype('int64') == IDp[j])[0]\n",
    "    cond = dft.IDp.values == IDp[j]\n",
    "    dfi = dft[cond]\n",
    "    size = counts[j]\n",
    "    indexes = dfi.index\n",
    "    if ((Ns[j] >=1) & (Ns[j] < size)): \n",
    "        indices = np.random.choice(indexes,size=Ns[j], replace=False)\n",
    "        indices = list(indices)\n",
    "        dfi = dfi.loc[indices]\n",
    "        dfgS=pd.concat([dfgS,dfi])\n",
    "    elif (Ns[j] >= size):\n",
    "        dfgS=pd.concat([dfgS,dfi])"
   ]
  },
  {
   "cell_type": "code",
   "execution_count": null,
   "id": "04c34ada-2696-48a9-86c0-26105508c7d5",
   "metadata": {},
   "outputs": [],
   "source": [
    "dfg = pd.concat([dfgC,dfgS])"
   ]
  },
  {
   "cell_type": "code",
   "execution_count": null,
   "id": "6e31ecb8-eaa1-4640-bf37-2cb44c11c614",
   "metadata": {},
   "outputs": [],
   "source": [
    "from scipy.constants import speed_of_light\n",
    "c = speed_of_light/1e3\n",
    "\n",
    "Dc = dfg.Rcom.values.astype('float64')\n",
    "vx = dfg.VX.values.astype('float64')\n",
    "vy = dfg.VY.values.astype('float64')\n",
    "vz = dfg.VZ.values.astype('float64')\n",
    "ra = dfg.RA.values.astype('float64')\n",
    "dec = dfg.DEC.values.astype('float64')\n",
    "\n",
    "z = z_at_value(cosmo.comoving_distance,Dc*u.Mpc)\n",
    "xc = Dc*np.cos(dec*np.pi/180)*np.cos(ra*np.pi/180)\n",
    "yc = Dc*np.cos(dec*np.pi/180)*np.sin(ra*np.pi/180)\n",
    "zc = Dc*np.sin(dec*np.pi/180)\n",
    "r = np.sqrt(xc**2 + yc**2 + zc**2)\n",
    "vr = (xc*vx + yc*vy + zc*vz)/r\n",
    "#Dc = Dc + vr*(1+z)/cosmo.H(z).value\n",
    "dz = (1+z)*vr/c\n",
    "z = z + dz"
   ]
  },
  {
   "cell_type": "code",
   "execution_count": null,
   "id": "21dc750a-07bc-4b26-b995-b6a74b2dcc16",
   "metadata": {},
   "outputs": [],
   "source": [
    "z = z.value"
   ]
  },
  {
   "cell_type": "code",
   "execution_count": null,
   "id": "2c28e384-b5f6-4798-a505-9fd6be3c00ea",
   "metadata": {},
   "outputs": [],
   "source": [
    "print(ra.dtype,dec.dtype,z.dtype,w.dtype)"
   ]
  },
  {
   "cell_type": "code",
   "execution_count": null,
   "id": "510027df-eca8-47b5-b147-0bafcd6d007c",
   "metadata": {},
   "outputs": [],
   "source": [
    "w = np.zeros(len(ra))"
   ]
  },
  {
   "cell_type": "code",
   "execution_count": null,
   "id": "37ea35df-325d-44f4-a846-b2c2e225b049",
   "metadata": {},
   "outputs": [],
   "source": [
    "rand = PCF.create_random(ra,dec,z,w)\n",
    "ra_r,dec_r,z_r,w_r = rand(100)"
   ]
  },
  {
   "cell_type": "code",
   "execution_count": null,
   "id": "2e146a40-f4d9-484c-8d02-2d8433821f54",
   "metadata": {},
   "outputs": [],
   "source": [
    "calc = PCF.RSD_2PCF(Om0=0.3089)\n",
    "binsfile = np.arange(1.05e-5,60+1.05e-5,5)\n",
    "calc.set_random(RA_r=ra_r,DEC_r=dec_r,Z_r=z_r,W_r=w_r)\n",
    "calc.precompute_RR(binsfile)\n",
    "calc.precompute_RR_rppi()"
   ]
  },
  {
   "cell_type": "code",
   "execution_count": null,
   "id": "5826d5ee-aab4-4379-9672-f980cd8ac796",
   "metadata": {},
   "outputs": [],
   "source": [
    "calc.set_data(RA=ra,DEC=dec,Z=z,W=w)\n",
    "r,e0,e2,e4 = calc.compute(binsfile)\n",
    "rp,wp = calc.compute_wp()"
   ]
  },
  {
   "cell_type": "code",
   "execution_count": null,
   "id": "ab13a281-c4b4-454c-bdf9-888fcfcabe60",
   "metadata": {},
   "outputs": [],
   "source": [
    "print(rp"
   ]
  },
  {
   "cell_type": "code",
   "execution_count": null,
   "id": "b2331a55-804a-4af2-9532-99325725d750",
   "metadata": {},
   "outputs": [],
   "source": []
  }
 ],
 "metadata": {
  "kernelspec": {
   "display_name": "Python 3 (ipykernel)",
   "language": "python",
   "name": "python3"
  },
  "language_info": {
   "codemirror_mode": {
    "name": "ipython",
    "version": 3
   },
   "file_extension": ".py",
   "mimetype": "text/x-python",
   "name": "python",
   "nbconvert_exporter": "python",
   "pygments_lexer": "ipython3",
   "version": "3.8.12"
  }
 },
 "nbformat": 4,
 "nbformat_minor": 5
}
