{
 "cells": [
  {
   "cell_type": "code",
   "execution_count": 20,
   "id": "861da00c-da18-4f0f-adac-9c49dd2c8649",
   "metadata": {},
   "outputs": [
    {
     "name": "stdout",
     "output_type": "stream",
     "text": [
      "Populating the interactive namespace from numpy and matplotlib\n"
     ]
    }
   ],
   "source": [
    "%pylab inline\n",
    "from Corrfunc.mocks.DDsmu_mocks import DDsmu_mocks\n",
    "from astropy.table import Table\n",
    "from astropy.cosmology import FlatLambdaCDM"
   ]
  },
  {
   "cell_type": "code",
   "execution_count": 21,
   "id": "d0b0b5fa-c811-4e78-8c66-1a6ed346b0c6",
   "metadata": {},
   "outputs": [],
   "source": [
    "cosmo = FlatLambdaCDM(Om0=0.3089,H0=100)"
   ]
  },
  {
   "cell_type": "code",
   "execution_count": 312,
   "id": "8c8776bb-68e2-4919-a757-1c160f08d025",
   "metadata": {},
   "outputs": [],
   "source": [
    "pathELG=\"/Users/rpaviot/eBOSSxDES/faizan/elg/eBOSS_ELG_SGC_pip_v7.dat.fits\"\n",
    "T = Table.read(pathELG)\n",
    "\n",
    "\n",
    "\"\"\"Parent Catalog\"\"\"\n",
    "RAp = T['RA']\n",
    "DECp = T['DEC']\n",
    "Zp = T['Z']\n",
    "Wp = T['WEIGHT_SYSTOT']*T['WEIGHT_FKP']*T['WEIGHT_NOZ']\n",
    "Dcp = cosmo.comoving_distance(Zp).value\n",
    "\n",
    "\n"
   ]
  },
  {
   "cell_type": "code",
   "execution_count": 313,
   "id": "c94ddda7-155d-4e82-8bd1-74e0a8d12419",
   "metadata": {},
   "outputs": [],
   "source": []
  },
  {
   "cell_type": "code",
   "execution_count": 314,
   "id": "e50bdcaf-9bd0-4349-94db-5ed8b9f02c56",
   "metadata": {},
   "outputs": [],
   "source": [
    "cond = np.where(T['CLUSTERING']==1)\n",
    "Tc = T[cond]\n",
    "Tc = Tc[0:1000]\n",
    "\n",
    "ra = Tc['RA']\n",
    "dec = Tc['DEC']\n",
    "z = Tc['Z']\n",
    "w = Tc['WEIGHT_SYSTOT']*Tc['WEIGHT_FKP']*Tc['WEIGHT_NOZ']\n",
    "Dc = cosmo.comoving_distance(z).value"
   ]
  },
  {
   "cell_type": "code",
   "execution_count": 315,
   "id": "c13bddc1-2f93-4b07-b06a-34d36ac081cc",
   "metadata": {},
   "outputs": [],
   "source": [
    "binsfile = np.linspace(1e-5,200+1e-5,41)\n",
    "mubin = np.linspace(0,1,101)"
   ]
  },
  {
   "cell_type": "code",
   "execution_count": 397,
   "id": "73a12c9a-41cf-4515-b10b-e6db94eab2ea",
   "metadata": {},
   "outputs": [],
   "source": [
    "autocorr=1\n",
    "DD = DDsmu_mocks(autocorr,1,4,1,100,binsfile,\n",
    "                        ra,dec,Dc,weights1=w, weight_type='pair_product',is_comoving_dist=True,\n",
    "                         output_savg=True)"
   ]
  },
  {
   "cell_type": "code",
   "execution_count": 476,
   "id": "4bde4330-a967-4363-97b5-097d8735afef",
   "metadata": {},
   "outputs": [
    {
     "data": {
      "text/plain": [
       "array([(1.0000000e-05,   5.00001,   4.40833183, 0.01,    4, 0.21449457),\n",
       "       (1.0000000e-05,   5.00001,   4.50050264, 0.02,    6, 0.18603831),\n",
       "       (1.0000000e-05,   5.00001,   3.93546329, 0.03,    6, 0.1182275 ),\n",
       "       ...,\n",
       "       (1.9500001e+02, 200.00001, 197.51515082, 0.98, 1406, 0.17063545),\n",
       "       (1.9500001e+02, 200.00001, 197.57671282, 0.99, 1772, 0.17173181),\n",
       "       (1.9500001e+02, 200.00001, 197.53001243, 1.  , 2714, 0.17190348)],\n",
       "      dtype=[('smin', '<f8'), ('smax', '<f8'), ('savg', '<f8'), ('mumax', '<f8'), ('npairs', '<u8'), ('weightavg', '<f8')])"
      ]
     },
     "execution_count": 476,
     "metadata": {},
     "output_type": "execute_result"
    }
   ],
   "source": [
    "DD"
   ]
  },
  {
   "cell_type": "code",
   "execution_count": 477,
   "id": "b3932865-986f-469b-b4a6-66f6a66792ce",
   "metadata": {},
   "outputs": [],
   "source": [
    "pairs = DD['npairs']*DD['weightavg']"
   ]
  },
  {
   "cell_type": "code",
   "execution_count": 478,
   "id": "c3a475d4-209b-406e-966a-38e32f272ee1",
   "metadata": {},
   "outputs": [],
   "source": [
    "pairs = pairs.reshape((40,100))"
   ]
  },
  {
   "cell_type": "code",
   "execution_count": 479,
   "id": "e1a9074a-d736-410b-aff5-f9110f96103e",
   "metadata": {},
   "outputs": [
    {
     "data": {
      "text/plain": [
       "array([[8.57978297e-01, 1.11622985e+00, 7.09364971e-01, ...,\n",
       "        4.83881842e-01, 2.94133561e-01, 8.98513917e-01],\n",
       "       [2.24921781e+00, 3.44164845e+00, 2.66657226e+00, ...,\n",
       "        2.01080266e-01, 2.75415136e+00, 2.24248297e+00],\n",
       "       [3.93322622e+00, 4.96740343e+00, 3.89796251e+00, ...,\n",
       "        5.43156421e+00, 4.24210528e+00, 2.91225960e+00],\n",
       "       ...,\n",
       "       [0.00000000e+00, 0.00000000e+00, 0.00000000e+00, ...,\n",
       "        2.28459101e+02, 3.40286062e+02, 4.35821479e+02],\n",
       "       [0.00000000e+00, 0.00000000e+00, 0.00000000e+00, ...,\n",
       "        2.16491976e+02, 2.93448011e+02, 4.84230756e+02],\n",
       "       [0.00000000e+00, 0.00000000e+00, 0.00000000e+00, ...,\n",
       "        2.39913440e+02, 3.04308766e+02, 4.66546041e+02]])"
      ]
     },
     "execution_count": 479,
     "metadata": {},
     "output_type": "execute_result"
    }
   ],
   "source": [
    "pairs"
   ]
  },
  {
   "cell_type": "code",
   "execution_count": 321,
   "id": "316ab71c-5763-42d1-b0ae-5a940cf3c6ce",
   "metadata": {},
   "outputs": [],
   "source": [
    "x = Dc*cos(dec*np.pi/180)*cos(ra*np.pi/180)\n",
    "y = Dc*cos(dec*np.pi/180)*sin(ra*np.pi/180)\n",
    "z = Dc*sin(dec*np.pi/180)"
   ]
  },
  {
   "cell_type": "code",
   "execution_count": 509,
   "id": "f9884db8-6917-49db-91fc-7a014b8dc348",
   "metadata": {},
   "outputs": [],
   "source": [
    "def distance(cent,pos):\n",
    "    dist = np.sqrt((pos[:,0] - cent[0])**2+(pos[:,1] - cent[1])**2+(pos[:,2] - cent[2])**2)\n",
    "    return dist\n",
    "    \n",
    "def norm(vec):\n",
    "    return np.sqrt(vec[:,0]**2+vec[:,1]**2+vec[:,2]**2)"
   ]
  },
  {
   "cell_type": "code",
   "execution_count": 540,
   "id": "1949228e-7dbc-4aa8-99da-4da913aec2a2",
   "metadata": {},
   "outputs": [
    {
     "name": "stderr",
     "output_type": "stream",
     "text": [
      "/var/folders/3z/9mwhgs_j71j38m0rkc9_lg1r0000gn/T/ipykernel_2336/3214437453.py:5: RuntimeWarning: invalid value encountered in true_divide\n",
      "  ss = ss/norm(ss)[:,None]\n"
     ]
    }
   ],
   "source": [
    "r = np.column_stack([x,y,z])\n",
    "los = (r+r[0])/2.\n",
    "ss = (r-r[0])\n",
    "los = los/norm(los)[:,None]\n",
    "ss = ss/norm(ss)[:,None]\n",
    "\n",
    "s = distance(r[0],r)\n",
    "#mu = np.array(list(map(np.dot,los,ss)))\n",
    "\n",
    "mu = np.array([np.dot(x,y) for x,y in zip(los,ss)])"
   ]
  },
  {
   "cell_type": "code",
   "execution_count": 541,
   "id": "543e9fa9-912a-4727-bed9-8d0c68287a68",
   "metadata": {},
   "outputs": [],
   "source": [
    "hist,_,_=np.histogram2d(s, mu, bins=(binsfile, mubin))"
   ]
  },
  {
   "cell_type": "code",
   "execution_count": 502,
   "id": "b73e1faf-0d59-416b-9c72-1eb70f0c97d9",
   "metadata": {},
   "outputs": [],
   "source": [
    "DDsmu += hist"
   ]
  },
  {
   "cell_type": "code",
   "execution_count": 568,
   "id": "685118de-3898-4e59-9eca-e34fe6897a41",
   "metadata": {},
   "outputs": [],
   "source": [
    "\n",
    "def DD_brute_smu(*args,**qwargs):\n",
    "    ra = args[0]\n",
    "    dec = args[1]\n",
    "    Dc = args[2]\n",
    "    w =args[3]\n",
    "    bins = args[4]\n",
    "    nmu = args[5]\n",
    "    mu = np.linspace(0,1,nmu+1)\n",
    "    x = Dc*cos(dec*np.pi/180)*cos(ra*np.pi/180)\n",
    "    y = Dc*cos(dec*np.pi/180)*sin(ra*np.pi/180)\n",
    "    z = Dc*sin(dec*np.pi/180)\n",
    "    r = np.column_stack([x,y,z])\n",
    "    size = x.size\n",
    "        \n",
    "    count_smu = np.zeros((len(binsfile)-1,len(mubin)-1))\n",
    "    normDD = 0\n",
    "    \n",
    "    for i in range(0,len(x)):\n",
    "        cent = np.array([x[i],y[i],z[i]])\n",
    "        wcent = w[i]\n",
    "        wi = w[int(i+1):size]*wcent\n",
    "        ri = r[int(i+1):size]\n",
    "        s = distance(cent,ri)\n",
    "        los = (cent + ri)/2.\n",
    "        ss = (cent - ri)\n",
    "        los = los/norm(los)[:,None]\n",
    "        ss = ss/norm(ss)[:,None]\n",
    "        mu = abs(np.array([np.dot(x,y) for x,y in zip(los,ss)]))\n",
    "        hist,_,_=np.histogram2d(s, mu, bins=(binsfile, mubin),weights=wi)\n",
    "        count_smu += hist\n",
    "        normDD += np.sum(wi)\n",
    "        \n",
    "    return normDD,count_smu\n",
    "\n",
    "\n",
    "\n",
    "\n",
    "\n",
    "\n",
    "def DD_brute_rppi(*args,**qwargs):\n",
    "    ra = args[0]\n",
    "    dec = args[1]\n",
    "    Dc = args[2]\n",
    "    w =args[3]\n",
    "    bins = args[4]\n",
    "    nmu = args[5]\n",
    "    mu = np.linspace(0,1,nmu+1)\n",
    "    x = Dc*cos(dec*np.pi/180)*cos(ra*np.pi/180)\n",
    "    y = Dc*cos(dec*np.pi/180)*sin(ra*np.pi/180)\n",
    "    z = Dc*sin(dec*np.pi/180)\n",
    "    r = np.column_stack([x,y,z])\n",
    "    size = x.size\n",
    "        \n",
    "    count_smu = np.zeros((len(binsfile)-1,len(mubin)-1))\n",
    "    \n",
    "    for i in range(0,len(x)):\n",
    "        cent = np.array([x[i],y[i],z[i]])\n",
    "        ri = r[int(i+1):size]\n",
    "        s = distance(cent,ri)\n",
    "        los = (cent + ri)/2.\n",
    "        ss = (cent - ri)\n",
    "        los = los/norm(los)[:,None]\n",
    "        ss = ss/norm(ss)[:,None]\n",
    "        mu = abs(np.array([np.dot(xi,yi) for xi,yi in zip(los,ss)]))\n",
    "        hist,_,_=np.histogram2d(s, mu, bins=(binsfile, mubin))\n",
    "        count_smu += hist*wcent\n",
    "        \n",
    "    return count_smu\n",
    "        \n",
    "        \n",
    "        \n",
    "        "
   ]
  },
  {
   "cell_type": "code",
   "execution_count": 569,
   "id": "bfbebfec-ebb4-4b5c-9bc4-038be05f2e95",
   "metadata": {},
   "outputs": [
    {
     "data": {
      "text/plain": [
       "[0, 1, 8, 27, 64, 125, 216, 343, 512, 729]"
      ]
     },
     "execution_count": 569,
     "metadata": {},
     "output_type": "execute_result"
    }
   ],
   "source": [
    "from itertools import repeat\n",
    "list(map(pow, range(10), repeat(3,10)))"
   ]
  },
  {
   "cell_type": "code",
   "execution_count": 570,
   "id": "8db25dce-e7af-41f4-b10b-e02979e21760",
   "metadata": {},
   "outputs": [],
   "source": [
    "normDD,DDme = DD_brute_smu(ra,dec,Dc,w,binsfile,100)"
   ]
  },
  {
   "cell_type": "code",
   "execution_count": 571,
   "id": "51cc8ee6-6d54-4735-a7f8-20c13eac984a",
   "metadata": {},
   "outputs": [],
   "source": [
    "binsfile = np.linspace(0,200,41)"
   ]
  },
  {
   "cell_type": "code",
   "execution_count": 572,
   "id": "b61623b6-f5d5-4165-9c49-96405a05720b",
   "metadata": {},
   "outputs": [],
   "source": [
    "dxc = np.diff(binsfile)[0];   xc = binsfile[0:-1] + 0.5*dxc"
   ]
  },
  {
   "cell_type": "code",
   "execution_count": null,
   "id": "75de78e8-d59a-4e5a-a4dc-9208b3f7aa27",
   "metadata": {},
   "outputs": [],
   "source": []
  }
 ],
 "metadata": {
  "kernelspec": {
   "display_name": "Python 3 (ipykernel)",
   "language": "python",
   "name": "python3"
  },
  "language_info": {
   "codemirror_mode": {
    "name": "ipython",
    "version": 3
   },
   "file_extension": ".py",
   "mimetype": "text/x-python",
   "name": "python",
   "nbconvert_exporter": "python",
   "pygments_lexer": "ipython3",
   "version": "3.8.12"
  }
 },
 "nbformat": 4,
 "nbformat_minor": 5
}
