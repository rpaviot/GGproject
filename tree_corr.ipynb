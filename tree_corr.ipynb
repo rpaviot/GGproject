{
 "cells": [
  {
   "cell_type": "code",
   "execution_count": 1,
   "id": "a4a79a25-3502-48b3-942b-0209f416348e",
   "metadata": {},
   "outputs": [],
   "source": [
    "import numpy as np\n",
    "import pandas as pd\n",
    "from astropy.table import Table\n",
    "import matplotlib.pyplot as plt\n",
    "import matplotlib.gridspec as gridspec\n",
    "from corr import lensingPCF"
   ]
  },
  {
   "cell_type": "code",
   "execution_count": 2,
   "id": "8db9a278-ba54-42f8-8270-365642db8015",
   "metadata": {},
   "outputs": [],
   "source": [
    "\"\"\"DR16 ELG\"\"\"\n",
    "\n",
    "pathELG=\"/Users/rpaviot/eBOSSxDES/faizan/elg/eBOSS_ELG_SGC_pip_v7.dat.fits\"\n",
    "\n",
    "Tc = Table.read(pathELG)\n",
    "Tc.remove_column('WEIGHT_BW')\n",
    "Tc = Tc.to_pandas()\n",
    "cond = ((Tc['CLUSTERING']==1) & (Tc['Z'] > 0.6) & (Tc['Z'] < 1.1))\n",
    "Tc = Tc[cond]\n",
    "ra_lens = Tc['RA'].values\n",
    "dec_lens = Tc['DEC'].values\n",
    "z_lens = Tc['Z'].values\n",
    "w_lens = (Tc['WEIGHT_SYSTOT']*Tc['WEIGHT_FKP']*Tc['WEIGHT_NOZ']* Tc['WEIGHT_CP']).values\n",
    "\n",
    "del Tc\n",
    "\n",
    "\"\"\"DR16 random ELG\"\"\"\n",
    "\n",
    "pathELGr=\"/Users/rpaviot/eBOSSxDES/faizan/elg/eBOSS_ELG_SGC_pip_v7.rnd.fits\"\n",
    "Tc = Table.read(pathELGr)\n",
    "Tc = Tc.to_pandas()\n",
    "Tc = Tc.reset_index()\n",
    "cond = ((Tc['CLUSTERING']==1) & (Tc['Z'] > 0.6) & (Tc['Z'] < 1.1))\n",
    "Tc = Tc[cond]\n",
    "\n",
    "\n",
    "ra_r = Tc['RA'].values\n",
    "dec_r = Tc['DEC'].values\n",
    "z_r = Tc['Z'].values\n",
    "w_r = (Tc['WEIGHT_SYSTOT']*Tc['WEIGHT_FKP']*Tc['WEIGHT_NOZ']* Tc['WEIGHT_CP']).values\n",
    "\n",
    "size = len(Tc)\n",
    "subsample = 0.5\n",
    "arr = np.arange(0,size)\n",
    "np.random.shuffle(arr)\n",
    "indices = arr[0:int(subsample*size)]\n",
    "ra_r = ra_r[indices]\n",
    "dec_r = dec_r[indices]\n",
    "z_r = z_r[indices]\n",
    "w_r = w_r[indices]\n",
    "del Tc\n",
    "\n",
    "\"\"\"DES Y3 catalog\"\"\"\n",
    "\n",
    "T = Table.read(\"/Volumes/LaCie/y3_eboss_overlap/desy3.fits\")\n",
    "T = T.to_pandas()\n",
    "\n",
    "T = T[T.z_zmc > 0.6]\n",
    "#z_zmc','z_mean','g1','g2','w'\n",
    "ra_s = T['ra'].values\n",
    "dec_s = T['dec'].values\n",
    "z_s = T['z_zmc'].values\n",
    "z_s2 = T['z_mean'].values\n",
    "g1_s = T['g1'].values\n",
    "g2_s = T['g2'].values\n",
    "w_s = T['w'].values\n",
    "\n",
    "\"\"\"Angular cuts\"\"\"\n",
    "\n",
    "condang = ra_s > 180\n",
    "ra_s[condang]=ra_s[condang]-360\n",
    "\n",
    "bounds = np.array([ra_s.min(),ra_s.max(),dec_s.min(),dec_s.max()])\n",
    "\n",
    "condang = ra_lens > 180\n",
    "ra_lens = np.copy(ra_lens)\n",
    "ra_lens[condang]=ra_lens[condang]-360\n",
    "\n",
    "condang = ra_r > 180\n",
    "ra_r = np.copy(ra_r)\n",
    "ra_r[condang]=ra_r[condang]-360\n",
    "\n",
    "condg = np.where((ra_lens > bounds[0]) & (ra_lens < bounds[1]) & (dec_lens > bounds[2]) & (dec_lens < bounds[3]))\n",
    "condr =  np.where((ra_r > bounds[0]) & (ra_r < bounds[1]) & (dec_r > bounds[2]) & (dec_r < bounds[3]))\n",
    "\n",
    "ra_r = ra_r[condr]\n",
    "dec_r = dec_r[condr]\n",
    "w_r = w_r[condr]\n",
    "z_r = z_r[condr]\n",
    "\n",
    "ra_lens  = ra_lens[condg]\n",
    "dec_lens = dec_lens[condg]\n",
    "z_lens = z_lens[condg]\n",
    "w_lens = w_lens[condg]\n",
    "\n",
    "bounds = np.array([ra_lens.min(),ra_lens.max(),dec_lens.min(),dec_lens.max()])\n",
    "conds = np.where((ra_s > bounds[0]) & (ra_s < bounds[1]) & (dec_s > bounds[2]) & (dec_s < bounds[3]))\n",
    "ra_s = ra_s[conds]\n",
    "dec_s = dec_s[conds]\n",
    "w_s = w_s[conds]\n",
    "z_s = z_s[conds]\n",
    "g1_s = g1_s[conds]\n",
    "g2_s = g2_s[conds]\n",
    "\n",
    "condang = ra_s < 0\n",
    "ra_s[condang]=ra_s[condang]+360\n",
    "condang = ra_r < 0\n",
    "ra_r[condang]=ra_r[condang]+360\n",
    "condang = ra_lens < 0\n",
    "ra_lens[condang]=ra_lens[condang]+360\n",
    "\n",
    "\n",
    "del T"
   ]
  },
  {
   "cell_type": "code",
   "execution_count": 3,
   "id": "3bcb0fcd-5300-423b-879f-8d9e3c40343e",
   "metadata": {},
   "outputs": [
    {
     "name": "stdout",
     "output_type": "stream",
     "text": [
      "deg\n",
      "0 degree\n"
     ]
    }
   ],
   "source": [
    "\"\"\"Without redshift as input, must provide sep_units\"\"\"\n",
    "\n",
    "corr = lensingPCF(Om0=0.3089,RA=ra_lens,DEC=dec_lens,W=w_lens,\\\n",
    "                  RA2=ra_s,DEC2=dec_s,W2=w_s,g1=g1_s,g2=g2_s,computation=\"GG\",units=\"deg\")\n",
    "print(corr.units)\n",
    "r,xi,xim,sigma = corr.gammat(1e-2,5,10,sep_units=\"degree\")"
   ]
  },
  {
   "cell_type": "code",
   "execution_count": 7,
   "id": "fcfa0cc3-1852-45b6-aeeb-011deb2ae0cf",
   "metadata": {},
   "outputs": [
    {
     "data": {
      "text/plain": [
       "[<matplotlib.lines.Line2D at 0x1274578b0>]"
      ]
     },
     "execution_count": 7,
     "metadata": {},
     "output_type": "execute_result"
    },
    {
     "data": {
      "image/png": "[encoded data removed]",
      "text/plain": [
       "<Figure size 864x360 with 1 Axes>"
      ]
     },
     "metadata": {
      "needs_background": "light"
     },
     "output_type": "display_data"
    }
   ],
   "source": [
    "plt.rc('font',family='serif')\n",
    "fig = plt.figure(figsize=(12,5))\n",
    "gs = gridspec.GridSpec(1, 2)\n",
    "gs.update(hspace=0 ,wspace=0.2)\n",
    "ax = fig.add_subplot(gs[0])\n",
    "ax.set_xscale('log')\n",
    "ax.set_yscale('log')\n",
    "plt.errorbar(r,xi,fmt=\"o\",yerr=sigma,capthick=1,elinewidth=1,capsize=2,zorder=10)\n",
    "plt.plot(r,xi,color=\"black\")\n"
   ]
  },
  {
   "cell_type": "code",
   "execution_count": 8,
   "id": "d1de1271-8823-4071-8b55-c5f7651560fe",
   "metadata": {},
   "outputs": [
    {
     "name": "stdout",
     "output_type": "stream",
     "text": [
      "10 None\n"
     ]
    }
   ],
   "source": [
    "\"\"\"With redshift as input\"\"\"\n",
    "\n",
    "corr = lensingPCF(Om0=0.3089,RA=ra_lens,DEC=dec_lens,Z=z_lens,W=w_lens,\\\n",
    "                  RA2=ra_s,DEC2=dec_s,Z2=z_s,W2=w_s,g1=g1_s,g2=g2_s,computation=\"GG\",units=\"degree\")\n",
    "\n",
    "\"\"\"Output unit always in unit of Mpc/h\"\"\"\n",
    "r,xi,xim,sigma = corr.gammat(2e-1,30,10,min_rpar=10)"
   ]
  },
  {
   "cell_type": "code",
   "execution_count": 9,
   "id": "6dab5c6b-0c37-421c-a5c0-021885043678",
   "metadata": {},
   "outputs": [
    {
     "data": {
      "text/plain": [
       "[<matplotlib.lines.Line2D at 0x127618130>]"
      ]
     },
     "execution_count": 9,
     "metadata": {},
     "output_type": "execute_result"
    },
    {
     "data": {
      "image/png": "[encoded data removed]",
      "text/plain": [
       "<Figure size 864x360 with 1 Axes>"
      ]
     },
     "metadata": {
      "needs_background": "light"
     },
     "output_type": "display_data"
    }
   ],
   "source": [
    "plt.rc('font',family='serif')\n",
    "fig = plt.figure(figsize=(12,5))\n",
    "gs = gridspec.GridSpec(1, 2)\n",
    "gs.update(hspace=0 ,wspace=0.2)\n",
    "ax = fig.add_subplot(gs[0])\n",
    "ax.set_xscale('log')\n",
    "ax.set_yscale('log')\n",
    "plt.errorbar(r,xi,fmt=\"o\",yerr=sigma,capthick=1,elinewidth=1,capsize=2,zorder=10)\n",
    "plt.plot(r,xi,color=\"black\")\n"
   ]
  },
  {
   "cell_type": "code",
   "execution_count": 10,
   "id": "0f7134b6-50c3-420c-92f5-27c83200207f",
   "metadata": {},
   "outputs": [
    {
     "name": "stdout",
     "output_type": "stream",
     "text": [
      "10 None\n"
     ]
    }
   ],
   "source": [
    "\"\"\"With redshift as input and RS correlation\"\"\"\n",
    "\n",
    "corr = lensingPCF(Om0=0.3089,RA=ra_lens,DEC=dec_lens,Z=z_lens,W=w_lens,\\\n",
    "                  RA2=ra_s,DEC2=dec_s,Z2=z_s,W2=w_s,g1=g1_s,g2=g2_s,computation=\"GG\",units=\"degree\")\n",
    "\n",
    "corr.set_random(RA_r = ra_r,DEC_r=dec_r,Z_r=z_r,W_r=w_r)\n",
    "\n",
    "\"\"\"Output unit always in unit of Mpc/h\"\"\"\n",
    "r,xi,xim,sigma = corr.gammat(2e-1,30,10,min_rpar=10)"
   ]
  },
  {
   "cell_type": "code",
   "execution_count": 12,
   "id": "fa14ef1e-869f-40a1-af34-9bfde85f00c3",
   "metadata": {},
   "outputs": [
    {
     "data": {
      "text/plain": [
       "[<matplotlib.lines.Line2D at 0x127169070>]"
      ]
     },
     "execution_count": 12,
     "metadata": {},
     "output_type": "execute_result"
    },
    {
     "data": {
      "image/png": "[encoded data removed]",
      "text/plain": [
       "<Figure size 864x360 with 1 Axes>"
      ]
     },
     "metadata": {
      "needs_background": "light"
     },
     "output_type": "display_data"
    }
   ],
   "source": [
    "plt.rc('font',family='serif')\n",
    "fig = plt.figure(figsize=(12,5))\n",
    "gs = gridspec.GridSpec(1, 2)\n",
    "gs.update(hspace=0 ,wspace=0.2)\n",
    "ax = fig.add_subplot(gs[0])\n",
    "ax.set_xscale('log')\n",
    "ax.set_yscale('log')\n",
    "plt.errorbar(r,xi,fmt=\"o\",yerr=sigma,capthick=1,elinewidth=1,capsize=2,zorder=10)\n",
    "plt.plot(r,xi,color=\"black\")"
   ]
  },
  {
   "cell_type": "code",
   "execution_count": null,
   "id": "0407afb5-6527-4e58-a022-f5057853a210",
   "metadata": {},
   "outputs": [],
   "source": []
  }
 ],
 "metadata": {
  "kernelspec": {
   "display_name": "Python 3 (ipykernel)",
   "language": "python",
   "name": "python3"
  },
  "language_info": {
   "codemirror_mode": {
    "name": "ipython",
    "version": 3
   },
   "file_extension": ".py",
   "mimetype": "text/x-python",
   "name": "python",
   "nbconvert_exporter": "python",
   "pygments_lexer": "ipython3",
   "version": "3.8.12"
  }
 },
 "nbformat": 4,
 "nbformat_minor": 5
}
