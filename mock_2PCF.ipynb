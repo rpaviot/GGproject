{
 "cells": [
  {
   "cell_type": "code",
   "execution_count": 1,
   "id": "2a722907-99cd-4f78-a7f9-95619ec293f4",
   "metadata": {},
   "outputs": [
    {
     "name": "stdout",
     "output_type": "stream",
     "text": [
      "Populating the interactive namespace from numpy and matplotlib\n"
     ]
    }
   ],
   "source": [
    "%pylab inline\n",
    "import PCF\n",
    "from astropy.table import Table"
   ]
  },
  {
   "cell_type": "code",
   "execution_count": 7,
   "id": "85643a4a-9d34-4aef-b9f4-f6020ef32339",
   "metadata": {},
   "outputs": [],
   "source": [
    "calc = PCF.RSD_2PCF(Om0=0.3089)\n",
    "#pathR = \"/Users/rpaviot/Downloads/EZmock/dat/dat/EZmock_complete_eBOSS_LRGpCMASS_SGC.ran.fits.gz\"\n",
    "pathR = \"/Users/rpaviot/Downloads/EZmock/dat/EZmock_complete_eBOSS_ELG_SGC.ran.fits.gz\"\n",
    "\n",
    "T = Table.read(pathR)\n",
    "bounds = np.array([-43.77751845,54.85123515,-11.00146648,5.83361772])\n",
    "ra_r =T['RA']\n",
    "dec_r = T['DEC']\n",
    "z_r = T['Z']\n",
    "w_r = T['WEIGHT_FKP']\n",
    "condang = ra_r > 180\n",
    "ra_r[condang]=ra_r[condang]-360\n",
    "condr =  np.where((ra_r > bounds[0]) & (ra_r < bounds[1]) & (dec_r > bounds[2]) & (dec_r < bounds[3]))\n",
    "ra_r = ra_r[condr]\n",
    "dec_r = dec_r[condr]\n",
    "w_r = w_r[condr]\n",
    "z_r = z_r[condr]\n",
    "condang = ra_r < 0\n",
    "ra_r[condang]=ra_r[condang]+360\n",
    "\n",
    "rows = np.random.choice(len(ra_r), int(len(ra_r)/2), replace=False)\n",
    "ra_r = ra_r[rows].astype('float64')\n",
    "dec_r = dec_r[rows].astype('float64')\n",
    "z_r = z_r[rows].astype('float64')\n",
    "w_r = w_r[rows].astype('float64')\n",
    "binsfile_rp = np.geomspace(0.2,50,13)\n",
    "binsfile_s = np.geomspace(1,50,10)\n",
    "\n",
    "calc.set_random(RA_r=ra_r,DEC_r=dec_r,Z_r=z_r,W_r=w_r)\n",
    "#calc.precompute_RR_smu(binsfile_s)\n",
    "calc.precompute_RR_rppi(binsfile_rp,pimax=80)"
   ]
  },
  {
   "cell_type": "code",
   "execution_count": 13,
   "id": "231e2825-d860-4407-8d16-b96c24f867d0",
   "metadata": {},
   "outputs": [
    {
     "data": {
      "text/plain": [
       "array([ 1.        ,  1.5444521 ,  2.3853323 ,  3.6840315 ,  5.6898102 ,\n",
       "        8.78763934, 13.57208808, 20.96144001, 32.37394014, 50.        ])"
      ]
     },
     "execution_count": 13,
     "metadata": {},
     "output_type": "execute_result"
    }
   ],
   "source": [
    "binsfile_s"
   ]
  },
  {
   "cell_type": "code",
   "execution_count": 16,
   "id": "f41c7500-c6f7-4156-b593-fc9c2c07212a",
   "metadata": {},
   "outputs": [
    {
     "data": {
      "text/plain": [
       "array([ 1.        ,  1.5760586 ,  2.48396071,  3.91486764,  6.17006081,\n",
       "        9.72437741, 15.32618865, 24.15497143, 38.06965045, 60.        ])"
      ]
     },
     "execution_count": 16,
     "metadata": {},
     "output_type": "execute_result"
    }
   ],
   "source": [
    "binsfiles"
   ]
  },
  {
   "cell_type": "code",
   "execution_count": 8,
   "id": "4015d9df-6e29-4be0-84eb-9666ece19f67",
   "metadata": {},
   "outputs": [
    {
     "name": "stdout",
     "output_type": "stream",
     "text": [
      "DD computation done\n",
      "DR computation done\n",
      "DD computation done\n",
      "DR computation done\n",
      "DD computation done\n",
      "DR computation done\n",
      "DD computation done\n",
      "DR computation done\n",
      "DD computation done\n",
      "DR computation done\n",
      "DD computation done\n",
      "DR computation done\n",
      "DD computation done\n",
      "DR computation done\n",
      "DD computation done\n",
      "DR computation done\n",
      "DD computation done\n",
      "DR computation done\n",
      "DD computation done\n",
      "DR computation done\n",
      "DD computation done\n",
      "DR computation done\n",
      "DD computation done\n",
      "DR computation done\n",
      "DD computation done\n",
      "DR computation done\n",
      "DD computation done\n",
      "DR computation done\n",
      "DD computation done\n",
      "DR computation done\n",
      "DD computation done\n",
      "DR computation done\n",
      "DD computation done\n",
      "DR computation done\n",
      "DD computation done\n",
      "DR computation done\n",
      "DD computation done\n",
      "DR computation done\n",
      "DD computation done\n",
      "DR computation done\n",
      "DD computation done\n",
      "DR computation done\n",
      "DD computation done\n",
      "DR computation done\n",
      "DD computation done\n",
      "DR computation done\n",
      "DD computation done\n",
      "DR computation done\n",
      "DD computation done\n",
      "DR computation done\n",
      "DD computation done\n",
      "DR computation done\n",
      "DD computation done\n",
      "DR computation done\n",
      "DD computation done\n",
      "DR computation done\n",
      "DD computation done\n",
      "DR computation done\n",
      "DD computation done\n",
      "DR computation done\n",
      "DD computation done\n",
      "DR computation done\n",
      "DD computation done\n",
      "DR computation done\n",
      "DD computation done\n",
      "DR computation done\n",
      "DD computation done\n",
      "DR computation done\n",
      "DD computation done\n",
      "DR computation done\n",
      "DD computation done\n",
      "DR computation done\n",
      "DD computation done\n",
      "DR computation done\n",
      "DD computation done\n",
      "DR computation done\n",
      "DD computation done\n",
      "DR computation done\n",
      "DD computation done\n",
      "DR computation done\n",
      "DD computation done\n",
      "DR computation done\n",
      "DD computation done\n",
      "DR computation done\n",
      "DD computation done\n",
      "DR computation done\n",
      "DD computation done\n",
      "DR computation done\n",
      "DD computation done\n",
      "DR computation done\n",
      "DD computation done\n",
      "DR computation done\n",
      "DD computation done\n",
      "DR computation done\n",
      "DD computation done\n",
      "DR computation done\n",
      "DD computation done\n",
      "DR computation done\n",
      "DD computation done\n",
      "DR computation done\n",
      "DD computation done\n",
      "DR computation done\n",
      "DD computation done\n",
      "DR computation done\n",
      "DD computation done\n",
      "DR computation done\n",
      "DD computation done\n",
      "DR computation done\n",
      "DD computation done\n",
      "DR computation done\n",
      "DD computation done\n",
      "DR computation done\n",
      "DD computation done\n",
      "DR computation done\n",
      "DD computation done\n",
      "DR computation done\n",
      "DD computation done\n",
      "DR computation done\n",
      "DD computation done\n",
      "DR computation done\n",
      "DD computation done\n",
      "DR computation done\n",
      "DD computation done\n",
      "DR computation done\n",
      "DD computation done\n",
      "DR computation done\n",
      "DD computation done\n",
      "DR computation done\n",
      "DD computation done\n",
      "DR computation done\n",
      "DD computation done\n",
      "DR computation done\n",
      "DD computation done\n",
      "DR computation done\n",
      "DD computation done\n",
      "DR computation done\n",
      "DD computation done\n",
      "DR computation done\n",
      "DD computation done\n",
      "DR computation done\n",
      "DD computation done\n",
      "DR computation done\n",
      "DD computation done\n",
      "DR computation done\n",
      "DD computation done\n",
      "DR computation done\n",
      "DD computation done\n",
      "DR computation done\n",
      "DD computation done\n",
      "DR computation done\n",
      "DD computation done\n",
      "DR computation done\n",
      "DD computation done\n",
      "DR computation done\n",
      "DD computation done\n",
      "DR computation done\n",
      "DD computation done\n",
      "DR computation done\n",
      "DD computation done\n",
      "DR computation done\n",
      "DD computation done\n",
      "DR computation done\n",
      "DD computation done\n",
      "DR computation done\n",
      "DD computation done\n",
      "DR computation done\n",
      "DD computation done\n",
      "DR computation done\n",
      "DD computation done\n",
      "DR computation done\n",
      "DD computation done\n",
      "DR computation done\n",
      "DD computation done\n",
      "DR computation done\n",
      "DD computation done\n",
      "DR computation done\n",
      "DD computation done\n",
      "DR computation done\n",
      "DD computation done\n",
      "DR computation done\n",
      "DD computation done\n",
      "DR computation done\n",
      "DD computation done\n",
      "DR computation done\n",
      "DD computation done\n",
      "DR computation done\n",
      "DD computation done\n",
      "DR computation done\n",
      "DD computation done\n",
      "DR computation done\n",
      "DD computation done\n",
      "DR computation done\n",
      "DD computation done\n",
      "DR computation done\n",
      "DD computation done\n",
      "DR computation done\n",
      "DD computation done\n",
      "DR computation done\n",
      "DD computation done\n",
      "DR computation done\n"
     ]
    }
   ],
   "source": [
    "path = \"/Users/rpaviot/Downloads/EZmock/dat/\"\n",
    "\n",
    "for i in range(1,101):\n",
    "    files = \"/Users/rpaviot/Downloads/EZmock/dat/EZmock_complete_eBOSS_ELG_SGC_{}.dat.fits.gz\".format(str(i).zfill(4))\n",
    "    #files = \"/Users/rpaviot/Downloads/EZmock/dat/dat/EZmock_complete_eBOSS_LRGpCMASS_SGC_{}.dat.fits.gz\".format(str(i).zfill(4))\n",
    "    T = Table.read(files)\n",
    "    ra =T['RA']\n",
    "    dec = T['DEC']\n",
    "    z = T['Z']\n",
    "    w = T['WEIGHT_FKP']\n",
    "    condang = ra > 180\n",
    "    ra[condang]=ra[condang]-360\n",
    "    condr =  np.where((ra > bounds[0]) & (ra < bounds[1]) & (dec > bounds[2]) & (dec< bounds[3]))\n",
    "    ra = ra[condr]\n",
    "    dec = dec[condr]\n",
    "    w = w[condr]\n",
    "    z = z[condr]\n",
    "    condang = ra < 0\n",
    "    ra[condang]=ra[condang]+360\n",
    "    ra = ra.astype('float64')\n",
    "    dec = dec.astype('float64')\n",
    "    z = z.astype('float64')\n",
    "    w = w.astype('float64')\n",
    "    calc.set_data(RA=ra,DEC=dec,Z=z,W=w)\n",
    "    #r,e0,e2,e4 = calc.compute(binsfile_s)\n",
    "    rp,wp = calc.compute_wp(binsfile_rp,80)\n",
    "    #fileout = \"/Users/rpaviot/Downloads/EZmock/dat/dat/xil_EZmock_eBOSSpCMASS_SGC_{}.dat\".format(i+1)\n",
    "    fileout2 = \"/Users/rpaviot/Downloads/EZmock/dat/wp_EZmock_ELG_SGC_{}.dat\".format(i)\n",
    "    #np.savetxt(fileout,np.transpose([r,e0,e2,e4]))\n",
    "    np.savetxt(fileout2,np.transpose([rp,wp]))"
   ]
  },
  {
   "cell_type": "code",
   "execution_count": 25,
   "id": "aae3e47a-5fb1-4706-a3e7-48e0acb66b97",
   "metadata": {},
   "outputs": [
    {
     "name": "stdout",
     "output_type": "stream",
     "text": [
      "[ 1.2880293   2.03000966  3.19941418  5.04246423  7.94721911 12.52528303\n",
      " 19.74058004 31.11231094 49.03482523]\n"
     ]
    }
   ],
   "source": [
    "print(r)"
   ]
  },
  {
   "cell_type": "code",
   "execution_count": 22,
   "id": "bdd88b72-43cd-4b9d-9971-581eca986806",
   "metadata": {},
   "outputs": [
    {
     "data": {
      "text/plain": [
       "[<matplotlib.lines.Line2D at 0x12824abb0>]"
      ]
     },
     "execution_count": 22,
     "metadata": {},
     "output_type": "execute_result"
    },
    {
     "data": {
      "image/png": "[encoded data removed]",
      "text/plain": [
       "<Figure size 432x288 with 1 Axes>"
      ]
     },
     "metadata": {
      "needs_background": "light"
     },
     "output_type": "display_data"
    }
   ],
   "source": [
    "plt.semilogx(r,e2*r**2)"
   ]
  },
  {
   "cell_type": "code",
   "execution_count": 7,
   "id": "5d3be089-c848-4aa5-bde0-afc99101876a",
   "metadata": {},
   "outputs": [
    {
     "name": "stdout",
     "output_type": "stream",
     "text": [
      "[ 0.28846716  0.54366588  1.02463167  1.93109424  3.63947855  6.859222\n",
      " 12.92738117 24.36386864 45.91789222]\n"
     ]
    }
   ],
   "source": [
    "print(r)"
   ]
  },
  {
   "cell_type": "code",
   "execution_count": 11,
   "id": "a878b258-1b19-46db-b6f7-71684746e9f6",
   "metadata": {},
   "outputs": [
    {
     "data": {
      "text/plain": [
       "[<matplotlib.lines.Line2D at 0x12b9c3df0>]"
      ]
     },
     "execution_count": 11,
     "metadata": {},
     "output_type": "execute_result"
    },
    {
     "data": {
      "image/png": "[encoded data removed]",
      "text/plain": [
       "<Figure size 432x288 with 1 Axes>"
      ]
     },
     "metadata": {
      "needs_background": "light"
     },
     "output_type": "display_data"
    }
   ],
   "source": [
    "plt.loglog(rp,2*wp)"
   ]
  },
  {
   "cell_type": "code",
   "execution_count": 2,
   "id": "49ee4797-559e-4ab6-9c9c-bccf69ef899e",
   "metadata": {},
   "outputs": [],
   "source": [
    "B = np.zeros((12,100))\n",
    "\n",
    "for i in range(0,100):\n",
    "    #filename = './../xi_EZ_mocks/multipoles_rsd/xil_{}.txt'.format(str(i).zfill(3))\n",
    "    #filename = \"/data/data/EZmock_v7/pairscounts/xil_eboss_ELG_latest_{}_5mpc.mul\".format(i+1)\n",
    "    #fileout = \"/Users/rpaviot/Downloads/EZmock/dat/dat/xil_EZmock_eBOSSpCMASS_SGC_{}.dat\".format(i+1)\n",
    "    fileout = \"/Users/rpaviot/Downloads/EZmock/dat/wp_EZmock_ELG_SGC_{}.dat\".format(i+1)\n",
    "    rp,wp = np.loadtxt(fileout,unpack=True)\n",
    "    wp = 2*wp\n",
    "    B[:,i] = wp\n",
    "    \n",
    "    \n",
    "Cij = np.cov(B)\n",
    "wpm = np.mean(B,axis=1)\n"
   ]
  },
  {
   "cell_type": "code",
   "execution_count": 5,
   "id": "d82025a7-81a7-4b31-8605-3d808ba84732",
   "metadata": {},
   "outputs": [],
   "source": [
    "np.savetxt(\"Cov_ELG_SGC.dat\",Cij)"
   ]
  },
  {
   "cell_type": "code",
   "execution_count": 3,
   "id": "15995d59-d75c-4562-97af-f5202b3f00ab",
   "metadata": {},
   "outputs": [],
   "source": [
    "err = np.sqrt(np.diag(Cij))"
   ]
  },
  {
   "cell_type": "code",
   "execution_count": 4,
   "id": "760adcbc-0cc0-421f-a861-64ca987eb815",
   "metadata": {},
   "outputs": [
    {
     "data": {
      "text/plain": [
       "<ErrorbarContainer object of 3 artists>"
      ]
     },
     "execution_count": 4,
     "metadata": {},
     "output_type": "execute_result"
    },
    {
     "data": {
      "image/png": "[encoded data removed]",
      "text/plain": [
       "<Figure size 432x288 with 1 Axes>"
      ]
     },
     "metadata": {
      "needs_background": "light"
     },
     "output_type": "display_data"
    }
   ],
   "source": [
    "plt.xscale('log')\n",
    "plt.yscale('log')\n",
    "plt.errorbar(rp,wpm,yerr=err,fmt=\".\")"
   ]
  },
  {
   "cell_type": "code",
   "execution_count": null,
   "id": "912557e3-cb7b-415c-a4b5-94060faca60b",
   "metadata": {},
   "outputs": [],
   "source": []
  }
 ],
 "metadata": {
  "kernelspec": {
   "display_name": "Python 3 (ipykernel)",
   "language": "python",
   "name": "python3"
  },
  "language_info": {
   "codemirror_mode": {
    "name": "ipython",
    "version": 3
   },
   "file_extension": ".py",
   "mimetype": "text/x-python",
   "name": "python",
   "nbconvert_exporter": "python",
   "pygments_lexer": "ipython3",
   "version": "3.8.12"
  }
 },
 "nbformat": 4,
 "nbformat_minor": 5
}
